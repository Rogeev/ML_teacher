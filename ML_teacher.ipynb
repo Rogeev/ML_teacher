{
 "cells": [
  {
   "cell_type": "markdown",
   "metadata": {
    "toc": true
   },
   "source": [
    "<h1>Содержание<span class=\"tocSkip\"></span></h1>\n",
    "<div class=\"toc\"><ul class=\"toc-item\"><li><span><a href=\"#Подготовка-данных\" data-toc-modified-id=\"Подготовка-данных-1\"><span class=\"toc-item-num\">1&nbsp;&nbsp;</span>Подготовка данных</a></span><ul class=\"toc-item\"><li><span><a href=\"#Импорт-библиотек\" data-toc-modified-id=\"Импорт-библиотек-1.1\"><span class=\"toc-item-num\">1.1&nbsp;&nbsp;</span>Импорт библиотек</a></span></li><li><span><a href=\"#Знакомство-с-данными\" data-toc-modified-id=\"Знакомство-с-данными-1.2\"><span class=\"toc-item-num\">1.2&nbsp;&nbsp;</span>Знакомство с данными</a></span></li><li><span><a href=\"#Разделение-выборки-на-train,-valid-и-test\" data-toc-modified-id=\"Разделение-выборки-на-train,-valid-и-test-1.3\"><span class=\"toc-item-num\">1.3&nbsp;&nbsp;</span>Разделение выборки на <code>train</code>, <code>valid</code> и <code>test</code></a></span></li><li><span><a href=\"#Прямое-кодирование-данных\" data-toc-modified-id=\"Прямое-кодирование-данных-1.4\"><span class=\"toc-item-num\">1.4&nbsp;&nbsp;</span>Прямое кодирование данных</a></span><ul class=\"toc-item\"><li><span><a href=\"#Кодируем-тренировочную-выборку-features_train\" data-toc-modified-id=\"Кодируем-тренировочную-выборку-features_train-1.4.1\"><span class=\"toc-item-num\">1.4.1&nbsp;&nbsp;</span>Кодируем тренировочную выборку <code>features_train</code></a></span><ul class=\"toc-item\"><li><span><a href=\"#Кодируем-категориальные-признаки\" data-toc-modified-id=\"Кодируем-категориальные-признаки-1.4.1.1\"><span class=\"toc-item-num\">1.4.1.1&nbsp;&nbsp;</span>Кодируем категориальные признаки</a></span></li><li><span><a href=\"#Кодируем-численные-признаки\" data-toc-modified-id=\"Кодируем-численные-признаки-1.4.1.2\"><span class=\"toc-item-num\">1.4.1.2&nbsp;&nbsp;</span>Кодируем численные признаки</a></span></li></ul></li><li><span><a href=\"#Кодируем-валидационную-выборку-features_valid\" data-toc-modified-id=\"Кодируем-валидационную-выборку-features_valid-1.4.2\"><span class=\"toc-item-num\">1.4.2&nbsp;&nbsp;</span>Кодируем валидационную выборку <code>features_valid</code></a></span></li></ul></li><li><span><a href=\"#Поиски-наулучшей-модели\" data-toc-modified-id=\"Поиски-наулучшей-модели-1.5\"><span class=\"toc-item-num\">1.5&nbsp;&nbsp;</span>Поиски наулучшей модели</a></span><ul class=\"toc-item\"><li><span><a href=\"#Модель-логистической-регресии\" data-toc-modified-id=\"Модель-логистической-регресии-1.5.1\"><span class=\"toc-item-num\">1.5.1&nbsp;&nbsp;</span>Модель логистической регресии</a></span></li></ul></li></ul></li><li><span><a href=\"#Борьба-с-дисбалансом\" data-toc-modified-id=\"Борьба-с-дисбалансом-2\"><span class=\"toc-item-num\">2&nbsp;&nbsp;</span>Борьба с дисбалансом</a></span><ul class=\"toc-item\"><li><span><a href=\"#Увеличение-наименьшей-выборки-(upsampling)\" data-toc-modified-id=\"Увеличение-наименьшей-выборки-(upsampling)-2.1\"><span class=\"toc-item-num\">2.1&nbsp;&nbsp;</span>Увеличение наименьшей выборки (upsampling)</a></span></li><li><span><a href=\"#Уменьшение-наибольшей-выборки-(downsamplig)\" data-toc-modified-id=\"Уменьшение-наибольшей-выборки-(downsamplig)-2.2\"><span class=\"toc-item-num\">2.2&nbsp;&nbsp;</span>Уменьшение наибольшей выборки (downsamplig)</a></span></li><li><span><a href=\"#Провкерка-моделей-на-новых-выборках\" data-toc-modified-id=\"Провкерка-моделей-на-новых-выборках-2.3\"><span class=\"toc-item-num\">2.3&nbsp;&nbsp;</span>Провкерка моделей на новых выборках</a></span><ul class=\"toc-item\"><li><span><a href=\"#Модель-случайного-леса-на-увеличенной-выборке\" data-toc-modified-id=\"Модель-случайного-леса-на-увеличенной-выборке-2.3.1\"><span class=\"toc-item-num\">2.3.1&nbsp;&nbsp;</span>Модель случайного леса на увеличенной выборке</a></span></li><li><span><a href=\"#Модель-случайного-леса-с-уменьшенной-выборкой.\" data-toc-modified-id=\"Модель-случайного-леса-с-уменьшенной-выборкой.-2.3.2\"><span class=\"toc-item-num\">2.3.2&nbsp;&nbsp;</span>Модель случайного леса с уменьшенной выборкой.</a></span></li><li><span><a href=\"#Модель-линейной-регресии-на-увеличенной-выборке\" data-toc-modified-id=\"Модель-линейной-регресии-на-увеличенной-выборке-2.3.3\"><span class=\"toc-item-num\">2.3.3&nbsp;&nbsp;</span>Модель линейной регресии на увеличенной выборке</a></span></li><li><span><a href=\"#Модель-линейной-регресии-на-уменьшенной-выборке\" data-toc-modified-id=\"Модель-линейной-регресии-на-уменьшенной-выборке-2.3.4\"><span class=\"toc-item-num\">2.3.4&nbsp;&nbsp;</span>Модель линейной регресии на уменьшенной выборке</a></span></li></ul></li></ul></li><li><span><a href=\"#Тестирование-модели\" data-toc-modified-id=\"Тестирование-модели-3\"><span class=\"toc-item-num\">3&nbsp;&nbsp;</span>Тестирование модели</a></span><ul class=\"toc-item\"><li><ul class=\"toc-item\"><li><span><a href=\"#Объединяем-train-и-valid-выборки\" data-toc-modified-id=\"Объединяем-train-и-valid-выборки-3.0.1\"><span class=\"toc-item-num\">3.0.1&nbsp;&nbsp;</span>Объединяем <code>train</code> и <code>valid</code> выборки</a></span></li><li><span><a href=\"#Кодируем-общую-выборку\" data-toc-modified-id=\"Кодируем-общую-выборку-3.0.2\"><span class=\"toc-item-num\">3.0.2&nbsp;&nbsp;</span>Кодируем общую выборку</a></span></li><li><span><a href=\"#Кодируем-тестовую-выборку\" data-toc-modified-id=\"Кодируем-тестовую-выборку-3.0.3\"><span class=\"toc-item-num\">3.0.3&nbsp;&nbsp;</span>Кодируем тестовую выборку</a></span></li><li><span><a href=\"#Увеличиваем-наименьшую-выборку\" data-toc-modified-id=\"Увеличиваем-наименьшую-выборку-3.0.4\"><span class=\"toc-item-num\">3.0.4&nbsp;&nbsp;</span>Увеличиваем наименьшую выборку</a></span></li><li><span><a href=\"#обучаем-модель-Случайного-леса\" data-toc-modified-id=\"обучаем-модель-Случайного-леса-3.0.5\"><span class=\"toc-item-num\">3.0.5&nbsp;&nbsp;</span>обучаем модель <code>Случайного леса</code></a></span></li><li><span><a href=\"#Вывод\" data-toc-modified-id=\"Вывод-3.0.6\"><span class=\"toc-item-num\">3.0.6&nbsp;&nbsp;</span>Вывод</a></span></li></ul></li></ul></li><li><span><a href=\"#Чек-лист-готовности-проекта\" data-toc-modified-id=\"Чек-лист-готовности-проекта-4\"><span class=\"toc-item-num\">4&nbsp;&nbsp;</span>Чек-лист готовности проекта</a></span></li></ul></div>"
   ]
  },
  {
   "cell_type": "markdown",
   "metadata": {},
   "source": [
    "# Отток клиентов"
   ]
  },
  {
   "cell_type": "markdown",
   "metadata": {},
   "source": [
    "Из «Бета-Банка» стали уходить клиенты. Каждый месяц. Немного, но заметно. Банковские маркетологи посчитали: сохранять текущих клиентов дешевле, чем привлекать новых.\n",
    "\n",
    "Нужно спрогнозировать, уйдёт клиент из банка в ближайшее время или нет. Вам предоставлены исторические данные о поведении клиентов и расторжении договоров с банком. \n",
    "\n",
    "Постройте модель с предельно большим значением *F1*-меры. Чтобы сдать проект успешно, нужно довести метрику до 0.59. Проверьте *F1*-меру на тестовой выборке самостоятельно.\n",
    "\n",
    "Дополнительно измеряйте *AUC-ROC*, сравнивайте её значение с *F1*-мерой.\n",
    "\n",
    "Источник данных: [https://www.kaggle.com/barelydedicated/bank-customer-churn-modeling](https://www.kaggle.com/barelydedicated/bank-customer-churn-modeling)"
   ]
  },
  {
   "cell_type": "markdown",
   "metadata": {},
   "source": [
    "## Подготовка данных"
   ]
  },
  {
   "cell_type": "markdown",
   "metadata": {},
   "source": [
    "### Импорт библиотек"
   ]
  },
  {
   "cell_type": "code",
   "execution_count": 1,
   "metadata": {},
   "outputs": [
    {
     "name": "stdout",
     "output_type": "stream",
     "text": [
      "Collecting scikit-learn==1.1.3\n",
      "  Downloading scikit_learn-1.1.3-cp39-cp39-manylinux_2_17_x86_64.manylinux2014_x86_64.whl (30.8 MB)\n",
      "\u001b[K     |████████████████████████████████| 30.8 MB 37 kB/s  eta 0:00:01     |███████████████████▊            | 18.9 MB 1.0 MB/s eta 0:00:12\n",
      "\u001b[?25hRequirement already satisfied: scipy>=1.3.2 in /opt/conda/lib/python3.9/site-packages (from scikit-learn==1.1.3) (1.9.1)\n",
      "Requirement already satisfied: numpy>=1.17.3 in /opt/conda/lib/python3.9/site-packages (from scikit-learn==1.1.3) (1.21.1)\n",
      "Requirement already satisfied: threadpoolctl>=2.0.0 in /opt/conda/lib/python3.9/site-packages (from scikit-learn==1.1.3) (3.1.0)\n",
      "Requirement already satisfied: joblib>=1.0.0 in /opt/conda/lib/python3.9/site-packages (from scikit-learn==1.1.3) (1.1.0)\n",
      "Installing collected packages: scikit-learn\n",
      "  Attempting uninstall: scikit-learn\n",
      "    Found existing installation: scikit-learn 0.24.1\n",
      "    Uninstalling scikit-learn-0.24.1:\n",
      "      Successfully uninstalled scikit-learn-0.24.1\n",
      "Successfully installed scikit-learn-1.1.3\n"
     ]
    }
   ],
   "source": [
    "!pip install scikit-learn==1.1.3"
   ]
  },
  {
   "cell_type": "code",
   "execution_count": 2,
   "metadata": {},
   "outputs": [],
   "source": [
    "import pandas as pd\n",
    "from sklearn.ensemble import RandomForestClassifier\n",
    "from sklearn.linear_model import LogisticRegression\n",
    "from sklearn.model_selection import train_test_split\n",
    "from sklearn.dummy import DummyClassifier\n",
    "from sklearn.metrics import (\n",
    "    f1_score,\n",
    "    roc_auc_score,\n",
    "    roc_curve,\n",
    "    confusion_matrix\n",
    ")\n",
    "import matplotlib.pyplot as plt\n",
    "from sklearn.utils import shuffle\n",
    "import warnings\n",
    "from sklearn.preprocessing import (\n",
    "    OneHotEncoder,\n",
    "    StandardScaler\n",
    ")\n",
    "from sklearn.compose import make_column_transformer"
   ]
  },
  {
   "cell_type": "markdown",
   "metadata": {},
   "source": [
    "### Знакомство с данными"
   ]
  },
  {
   "cell_type": "code",
   "execution_count": 3,
   "metadata": {},
   "outputs": [],
   "source": [
    "def get_data_info(data):\n",
    "    display(data.sample(5))\n",
    "    display(data.info())\n",
    "    display(data.describe(include='all'))"
   ]
  },
  {
   "cell_type": "code",
   "execution_count": 4,
   "metadata": {
    "scrolled": false
   },
   "outputs": [
    {
     "data": {
      "text/html": [
       "<div>\n",
       "<style scoped>\n",
       "    .dataframe tbody tr th:only-of-type {\n",
       "        vertical-align: middle;\n",
       "    }\n",
       "\n",
       "    .dataframe tbody tr th {\n",
       "        vertical-align: top;\n",
       "    }\n",
       "\n",
       "    .dataframe thead th {\n",
       "        text-align: right;\n",
       "    }\n",
       "</style>\n",
       "<table border=\"1\" class=\"dataframe\">\n",
       "  <thead>\n",
       "    <tr style=\"text-align: right;\">\n",
       "      <th></th>\n",
       "      <th>RowNumber</th>\n",
       "      <th>CustomerId</th>\n",
       "      <th>Surname</th>\n",
       "      <th>CreditScore</th>\n",
       "      <th>Geography</th>\n",
       "      <th>Gender</th>\n",
       "      <th>Age</th>\n",
       "      <th>Tenure</th>\n",
       "      <th>Balance</th>\n",
       "      <th>NumOfProducts</th>\n",
       "      <th>HasCrCard</th>\n",
       "      <th>IsActiveMember</th>\n",
       "      <th>EstimatedSalary</th>\n",
       "      <th>Exited</th>\n",
       "    </tr>\n",
       "  </thead>\n",
       "  <tbody>\n",
       "    <tr>\n",
       "      <th>4227</th>\n",
       "      <td>4228</td>\n",
       "      <td>15789941</td>\n",
       "      <td>Yevseyev</td>\n",
       "      <td>633</td>\n",
       "      <td>France</td>\n",
       "      <td>Female</td>\n",
       "      <td>36</td>\n",
       "      <td>6.0</td>\n",
       "      <td>125130.28</td>\n",
       "      <td>1</td>\n",
       "      <td>0</td>\n",
       "      <td>0</td>\n",
       "      <td>125961.48</td>\n",
       "      <td>0</td>\n",
       "    </tr>\n",
       "    <tr>\n",
       "      <th>6067</th>\n",
       "      <td>6068</td>\n",
       "      <td>15675431</td>\n",
       "      <td>Chidimma</td>\n",
       "      <td>563</td>\n",
       "      <td>France</td>\n",
       "      <td>Female</td>\n",
       "      <td>34</td>\n",
       "      <td>6.0</td>\n",
       "      <td>0.00</td>\n",
       "      <td>2</td>\n",
       "      <td>0</td>\n",
       "      <td>0</td>\n",
       "      <td>36536.93</td>\n",
       "      <td>0</td>\n",
       "    </tr>\n",
       "    <tr>\n",
       "      <th>1245</th>\n",
       "      <td>1246</td>\n",
       "      <td>15658052</td>\n",
       "      <td>Cameron</td>\n",
       "      <td>626</td>\n",
       "      <td>France</td>\n",
       "      <td>Female</td>\n",
       "      <td>44</td>\n",
       "      <td>NaN</td>\n",
       "      <td>81553.93</td>\n",
       "      <td>1</td>\n",
       "      <td>1</td>\n",
       "      <td>0</td>\n",
       "      <td>20063.63</td>\n",
       "      <td>1</td>\n",
       "    </tr>\n",
       "    <tr>\n",
       "      <th>4354</th>\n",
       "      <td>4355</td>\n",
       "      <td>15612893</td>\n",
       "      <td>Nelson</td>\n",
       "      <td>558</td>\n",
       "      <td>Spain</td>\n",
       "      <td>Male</td>\n",
       "      <td>45</td>\n",
       "      <td>4.0</td>\n",
       "      <td>0.00</td>\n",
       "      <td>1</td>\n",
       "      <td>1</td>\n",
       "      <td>0</td>\n",
       "      <td>131807.14</td>\n",
       "      <td>0</td>\n",
       "    </tr>\n",
       "    <tr>\n",
       "      <th>3725</th>\n",
       "      <td>3726</td>\n",
       "      <td>15626474</td>\n",
       "      <td>Onyemere</td>\n",
       "      <td>686</td>\n",
       "      <td>France</td>\n",
       "      <td>Female</td>\n",
       "      <td>31</td>\n",
       "      <td>1.0</td>\n",
       "      <td>0.00</td>\n",
       "      <td>2</td>\n",
       "      <td>1</td>\n",
       "      <td>0</td>\n",
       "      <td>4802.25</td>\n",
       "      <td>0</td>\n",
       "    </tr>\n",
       "  </tbody>\n",
       "</table>\n",
       "</div>"
      ],
      "text/plain": [
       "      RowNumber  CustomerId   Surname  CreditScore Geography  Gender  Age  \\\n",
       "4227       4228    15789941  Yevseyev          633    France  Female   36   \n",
       "6067       6068    15675431  Chidimma          563    France  Female   34   \n",
       "1245       1246    15658052   Cameron          626    France  Female   44   \n",
       "4354       4355    15612893    Nelson          558     Spain    Male   45   \n",
       "3725       3726    15626474  Onyemere          686    France  Female   31   \n",
       "\n",
       "      Tenure    Balance  NumOfProducts  HasCrCard  IsActiveMember  \\\n",
       "4227     6.0  125130.28              1          0               0   \n",
       "6067     6.0       0.00              2          0               0   \n",
       "1245     NaN   81553.93              1          1               0   \n",
       "4354     4.0       0.00              1          1               0   \n",
       "3725     1.0       0.00              2          1               0   \n",
       "\n",
       "      EstimatedSalary  Exited  \n",
       "4227        125961.48       0  \n",
       "6067         36536.93       0  \n",
       "1245         20063.63       1  \n",
       "4354        131807.14       0  \n",
       "3725          4802.25       0  "
      ]
     },
     "metadata": {},
     "output_type": "display_data"
    },
    {
     "name": "stdout",
     "output_type": "stream",
     "text": [
      "<class 'pandas.core.frame.DataFrame'>\n",
      "RangeIndex: 10000 entries, 0 to 9999\n",
      "Data columns (total 14 columns):\n",
      " #   Column           Non-Null Count  Dtype  \n",
      "---  ------           --------------  -----  \n",
      " 0   RowNumber        10000 non-null  int64  \n",
      " 1   CustomerId       10000 non-null  int64  \n",
      " 2   Surname          10000 non-null  object \n",
      " 3   CreditScore      10000 non-null  int64  \n",
      " 4   Geography        10000 non-null  object \n",
      " 5   Gender           10000 non-null  object \n",
      " 6   Age              10000 non-null  int64  \n",
      " 7   Tenure           9091 non-null   float64\n",
      " 8   Balance          10000 non-null  float64\n",
      " 9   NumOfProducts    10000 non-null  int64  \n",
      " 10  HasCrCard        10000 non-null  int64  \n",
      " 11  IsActiveMember   10000 non-null  int64  \n",
      " 12  EstimatedSalary  10000 non-null  float64\n",
      " 13  Exited           10000 non-null  int64  \n",
      "dtypes: float64(3), int64(8), object(3)\n",
      "memory usage: 1.1+ MB\n"
     ]
    },
    {
     "data": {
      "text/plain": [
       "None"
      ]
     },
     "metadata": {},
     "output_type": "display_data"
    },
    {
     "data": {
      "text/html": [
       "<div>\n",
       "<style scoped>\n",
       "    .dataframe tbody tr th:only-of-type {\n",
       "        vertical-align: middle;\n",
       "    }\n",
       "\n",
       "    .dataframe tbody tr th {\n",
       "        vertical-align: top;\n",
       "    }\n",
       "\n",
       "    .dataframe thead th {\n",
       "        text-align: right;\n",
       "    }\n",
       "</style>\n",
       "<table border=\"1\" class=\"dataframe\">\n",
       "  <thead>\n",
       "    <tr style=\"text-align: right;\">\n",
       "      <th></th>\n",
       "      <th>RowNumber</th>\n",
       "      <th>CustomerId</th>\n",
       "      <th>Surname</th>\n",
       "      <th>CreditScore</th>\n",
       "      <th>Geography</th>\n",
       "      <th>Gender</th>\n",
       "      <th>Age</th>\n",
       "      <th>Tenure</th>\n",
       "      <th>Balance</th>\n",
       "      <th>NumOfProducts</th>\n",
       "      <th>HasCrCard</th>\n",
       "      <th>IsActiveMember</th>\n",
       "      <th>EstimatedSalary</th>\n",
       "      <th>Exited</th>\n",
       "    </tr>\n",
       "  </thead>\n",
       "  <tbody>\n",
       "    <tr>\n",
       "      <th>count</th>\n",
       "      <td>10000.00000</td>\n",
       "      <td>1.000000e+04</td>\n",
       "      <td>10000</td>\n",
       "      <td>10000.000000</td>\n",
       "      <td>10000</td>\n",
       "      <td>10000</td>\n",
       "      <td>10000.000000</td>\n",
       "      <td>9091.000000</td>\n",
       "      <td>10000.000000</td>\n",
       "      <td>10000.000000</td>\n",
       "      <td>10000.00000</td>\n",
       "      <td>10000.000000</td>\n",
       "      <td>10000.000000</td>\n",
       "      <td>10000.000000</td>\n",
       "    </tr>\n",
       "    <tr>\n",
       "      <th>unique</th>\n",
       "      <td>NaN</td>\n",
       "      <td>NaN</td>\n",
       "      <td>2932</td>\n",
       "      <td>NaN</td>\n",
       "      <td>3</td>\n",
       "      <td>2</td>\n",
       "      <td>NaN</td>\n",
       "      <td>NaN</td>\n",
       "      <td>NaN</td>\n",
       "      <td>NaN</td>\n",
       "      <td>NaN</td>\n",
       "      <td>NaN</td>\n",
       "      <td>NaN</td>\n",
       "      <td>NaN</td>\n",
       "    </tr>\n",
       "    <tr>\n",
       "      <th>top</th>\n",
       "      <td>NaN</td>\n",
       "      <td>NaN</td>\n",
       "      <td>Smith</td>\n",
       "      <td>NaN</td>\n",
       "      <td>France</td>\n",
       "      <td>Male</td>\n",
       "      <td>NaN</td>\n",
       "      <td>NaN</td>\n",
       "      <td>NaN</td>\n",
       "      <td>NaN</td>\n",
       "      <td>NaN</td>\n",
       "      <td>NaN</td>\n",
       "      <td>NaN</td>\n",
       "      <td>NaN</td>\n",
       "    </tr>\n",
       "    <tr>\n",
       "      <th>freq</th>\n",
       "      <td>NaN</td>\n",
       "      <td>NaN</td>\n",
       "      <td>32</td>\n",
       "      <td>NaN</td>\n",
       "      <td>5014</td>\n",
       "      <td>5457</td>\n",
       "      <td>NaN</td>\n",
       "      <td>NaN</td>\n",
       "      <td>NaN</td>\n",
       "      <td>NaN</td>\n",
       "      <td>NaN</td>\n",
       "      <td>NaN</td>\n",
       "      <td>NaN</td>\n",
       "      <td>NaN</td>\n",
       "    </tr>\n",
       "    <tr>\n",
       "      <th>mean</th>\n",
       "      <td>5000.50000</td>\n",
       "      <td>1.569094e+07</td>\n",
       "      <td>NaN</td>\n",
       "      <td>650.528800</td>\n",
       "      <td>NaN</td>\n",
       "      <td>NaN</td>\n",
       "      <td>38.921800</td>\n",
       "      <td>4.997690</td>\n",
       "      <td>76485.889288</td>\n",
       "      <td>1.530200</td>\n",
       "      <td>0.70550</td>\n",
       "      <td>0.515100</td>\n",
       "      <td>100090.239881</td>\n",
       "      <td>0.203700</td>\n",
       "    </tr>\n",
       "    <tr>\n",
       "      <th>std</th>\n",
       "      <td>2886.89568</td>\n",
       "      <td>7.193619e+04</td>\n",
       "      <td>NaN</td>\n",
       "      <td>96.653299</td>\n",
       "      <td>NaN</td>\n",
       "      <td>NaN</td>\n",
       "      <td>10.487806</td>\n",
       "      <td>2.894723</td>\n",
       "      <td>62397.405202</td>\n",
       "      <td>0.581654</td>\n",
       "      <td>0.45584</td>\n",
       "      <td>0.499797</td>\n",
       "      <td>57510.492818</td>\n",
       "      <td>0.402769</td>\n",
       "    </tr>\n",
       "    <tr>\n",
       "      <th>min</th>\n",
       "      <td>1.00000</td>\n",
       "      <td>1.556570e+07</td>\n",
       "      <td>NaN</td>\n",
       "      <td>350.000000</td>\n",
       "      <td>NaN</td>\n",
       "      <td>NaN</td>\n",
       "      <td>18.000000</td>\n",
       "      <td>0.000000</td>\n",
       "      <td>0.000000</td>\n",
       "      <td>1.000000</td>\n",
       "      <td>0.00000</td>\n",
       "      <td>0.000000</td>\n",
       "      <td>11.580000</td>\n",
       "      <td>0.000000</td>\n",
       "    </tr>\n",
       "    <tr>\n",
       "      <th>25%</th>\n",
       "      <td>2500.75000</td>\n",
       "      <td>1.562853e+07</td>\n",
       "      <td>NaN</td>\n",
       "      <td>584.000000</td>\n",
       "      <td>NaN</td>\n",
       "      <td>NaN</td>\n",
       "      <td>32.000000</td>\n",
       "      <td>2.000000</td>\n",
       "      <td>0.000000</td>\n",
       "      <td>1.000000</td>\n",
       "      <td>0.00000</td>\n",
       "      <td>0.000000</td>\n",
       "      <td>51002.110000</td>\n",
       "      <td>0.000000</td>\n",
       "    </tr>\n",
       "    <tr>\n",
       "      <th>50%</th>\n",
       "      <td>5000.50000</td>\n",
       "      <td>1.569074e+07</td>\n",
       "      <td>NaN</td>\n",
       "      <td>652.000000</td>\n",
       "      <td>NaN</td>\n",
       "      <td>NaN</td>\n",
       "      <td>37.000000</td>\n",
       "      <td>5.000000</td>\n",
       "      <td>97198.540000</td>\n",
       "      <td>1.000000</td>\n",
       "      <td>1.00000</td>\n",
       "      <td>1.000000</td>\n",
       "      <td>100193.915000</td>\n",
       "      <td>0.000000</td>\n",
       "    </tr>\n",
       "    <tr>\n",
       "      <th>75%</th>\n",
       "      <td>7500.25000</td>\n",
       "      <td>1.575323e+07</td>\n",
       "      <td>NaN</td>\n",
       "      <td>718.000000</td>\n",
       "      <td>NaN</td>\n",
       "      <td>NaN</td>\n",
       "      <td>44.000000</td>\n",
       "      <td>7.000000</td>\n",
       "      <td>127644.240000</td>\n",
       "      <td>2.000000</td>\n",
       "      <td>1.00000</td>\n",
       "      <td>1.000000</td>\n",
       "      <td>149388.247500</td>\n",
       "      <td>0.000000</td>\n",
       "    </tr>\n",
       "    <tr>\n",
       "      <th>max</th>\n",
       "      <td>10000.00000</td>\n",
       "      <td>1.581569e+07</td>\n",
       "      <td>NaN</td>\n",
       "      <td>850.000000</td>\n",
       "      <td>NaN</td>\n",
       "      <td>NaN</td>\n",
       "      <td>92.000000</td>\n",
       "      <td>10.000000</td>\n",
       "      <td>250898.090000</td>\n",
       "      <td>4.000000</td>\n",
       "      <td>1.00000</td>\n",
       "      <td>1.000000</td>\n",
       "      <td>199992.480000</td>\n",
       "      <td>1.000000</td>\n",
       "    </tr>\n",
       "  </tbody>\n",
       "</table>\n",
       "</div>"
      ],
      "text/plain": [
       "          RowNumber    CustomerId Surname   CreditScore Geography Gender  \\\n",
       "count   10000.00000  1.000000e+04   10000  10000.000000     10000  10000   \n",
       "unique          NaN           NaN    2932           NaN         3      2   \n",
       "top             NaN           NaN   Smith           NaN    France   Male   \n",
       "freq            NaN           NaN      32           NaN      5014   5457   \n",
       "mean     5000.50000  1.569094e+07     NaN    650.528800       NaN    NaN   \n",
       "std      2886.89568  7.193619e+04     NaN     96.653299       NaN    NaN   \n",
       "min         1.00000  1.556570e+07     NaN    350.000000       NaN    NaN   \n",
       "25%      2500.75000  1.562853e+07     NaN    584.000000       NaN    NaN   \n",
       "50%      5000.50000  1.569074e+07     NaN    652.000000       NaN    NaN   \n",
       "75%      7500.25000  1.575323e+07     NaN    718.000000       NaN    NaN   \n",
       "max     10000.00000  1.581569e+07     NaN    850.000000       NaN    NaN   \n",
       "\n",
       "                 Age       Tenure        Balance  NumOfProducts    HasCrCard  \\\n",
       "count   10000.000000  9091.000000   10000.000000   10000.000000  10000.00000   \n",
       "unique           NaN          NaN            NaN            NaN          NaN   \n",
       "top              NaN          NaN            NaN            NaN          NaN   \n",
       "freq             NaN          NaN            NaN            NaN          NaN   \n",
       "mean       38.921800     4.997690   76485.889288       1.530200      0.70550   \n",
       "std        10.487806     2.894723   62397.405202       0.581654      0.45584   \n",
       "min        18.000000     0.000000       0.000000       1.000000      0.00000   \n",
       "25%        32.000000     2.000000       0.000000       1.000000      0.00000   \n",
       "50%        37.000000     5.000000   97198.540000       1.000000      1.00000   \n",
       "75%        44.000000     7.000000  127644.240000       2.000000      1.00000   \n",
       "max        92.000000    10.000000  250898.090000       4.000000      1.00000   \n",
       "\n",
       "        IsActiveMember  EstimatedSalary        Exited  \n",
       "count     10000.000000     10000.000000  10000.000000  \n",
       "unique             NaN              NaN           NaN  \n",
       "top                NaN              NaN           NaN  \n",
       "freq               NaN              NaN           NaN  \n",
       "mean          0.515100    100090.239881      0.203700  \n",
       "std           0.499797     57510.492818      0.402769  \n",
       "min           0.000000        11.580000      0.000000  \n",
       "25%           0.000000     51002.110000      0.000000  \n",
       "50%           1.000000    100193.915000      0.000000  \n",
       "75%           1.000000    149388.247500      0.000000  \n",
       "max           1.000000    199992.480000      1.000000  "
      ]
     },
     "metadata": {},
     "output_type": "display_data"
    }
   ],
   "source": [
    "data = pd.read_csv('/datasets/Churn.csv')\n",
    "get_data_info(data)"
   ]
  },
  {
   "cell_type": "code",
   "execution_count": 5,
   "metadata": {},
   "outputs": [
    {
     "data": {
      "text/plain": [
       "RowNumber            0\n",
       "CustomerId           0\n",
       "Surname              0\n",
       "CreditScore          0\n",
       "Geography            0\n",
       "Gender               0\n",
       "Age                  0\n",
       "Tenure             909\n",
       "Balance              0\n",
       "NumOfProducts        0\n",
       "HasCrCard            0\n",
       "IsActiveMember       0\n",
       "EstimatedSalary      0\n",
       "Exited               0\n",
       "dtype: int64"
      ]
     },
     "execution_count": 5,
     "metadata": {},
     "output_type": "execute_result"
    }
   ],
   "source": [
    "data.isna().sum()"
   ]
  },
  {
   "cell_type": "markdown",
   "metadata": {},
   "source": [
    "В наличие один датасет с даными по каждому пользователю: \\\n",
    "`RowNumber` — индекс строки в данных \\\n",
    "`CustomerId` — уникальный идентификатор клиента \\\n",
    "`Surname` — фамилия \\\n",
    "`CreditScore` — кредитный рейтинг \\\n",
    "`Geography` — страна проживания \\\n",
    "`Gender` — пол \\\n",
    "`Age` — возраст \\\n",
    "`Tenure` — сколько лет человек является клиентом банка \\\n",
    "`Balance` — баланс на счёте \\\n",
    "`NumOfProducts` — количество продуктов банка, используемых клиентом \\\n",
    "`HasCrCard` — наличие кредитной карты \\\n",
    "`IsActiveMember` — активность клиента \\\n",
    "`EstimatedSalary` — предполагаемая зарплата \\\n",
    "`Exited` - факт ухода клиента \\\n",
    "Есть пропуски в колонке Tenure, целых 909 штук. \\\n",
    "'Exited' - целевой, категориальный признак, значит будем решать задачу классификации."
   ]
  },
  {
   "cell_type": "code",
   "execution_count": 6,
   "metadata": {},
   "outputs": [
    {
     "data": {
      "text/plain": [
       "Exited\n",
       "0    7963\n",
       "1    2037\n",
       "Name: Exited, dtype: int64"
      ]
     },
     "execution_count": 6,
     "metadata": {},
     "output_type": "execute_result"
    }
   ],
   "source": [
    "data.groupby('Exited')['Exited'].count()"
   ]
  },
  {
   "cell_type": "markdown",
   "metadata": {},
   "source": [
    "Присутсвует сильный дисбаланс в целевом признаке в сторону оставшихся клиентов."
   ]
  },
  {
   "cell_type": "code",
   "execution_count": 7,
   "metadata": {
    "scrolled": true
   },
   "outputs": [
    {
     "data": {
      "text/plain": [
       "10.0"
      ]
     },
     "execution_count": 7,
     "metadata": {},
     "output_type": "execute_result"
    }
   ],
   "source": [
    "data.Tenure.max()"
   ]
  },
  {
   "cell_type": "code",
   "execution_count": 8,
   "metadata": {},
   "outputs": [],
   "source": [
    "data.Tenure = data.Tenure/365"
   ]
  },
  {
   "cell_type": "code",
   "execution_count": 9,
   "metadata": {},
   "outputs": [
    {
     "data": {
      "text/plain": [
       "<AxesSubplot:ylabel='Frequency'>"
      ]
     },
     "execution_count": 9,
     "metadata": {},
     "output_type": "execute_result"
    },
    {
     "data": {
      "image/png": "[encoded data removed]",
      "text/plain": [
       "<Figure size 432x432 with 1 Axes>"
      ]
     },
     "metadata": {
      "needs_background": "light"
     },
     "output_type": "display_data"
    }
   ],
   "source": [
    "data['Tenure'].plot(kind='hist', bins=30, figsize=(6, 6))"
   ]
  },
  {
   "cell_type": "markdown",
   "metadata": {},
   "source": [
    "Данные распределены равномерно."
   ]
  },
  {
   "cell_type": "code",
   "execution_count": 10,
   "metadata": {},
   "outputs": [],
   "source": [
    "data.Tenure = data.fillna(data.Tenure.median())"
   ]
  },
  {
   "cell_type": "code",
   "execution_count": 11,
   "metadata": {},
   "outputs": [
    {
     "data": {
      "text/plain": [
       "RowNumber          0\n",
       "CustomerId         0\n",
       "Surname            0\n",
       "CreditScore        0\n",
       "Geography          0\n",
       "Gender             0\n",
       "Age                0\n",
       "Tenure             0\n",
       "Balance            0\n",
       "NumOfProducts      0\n",
       "HasCrCard          0\n",
       "IsActiveMember     0\n",
       "EstimatedSalary    0\n",
       "Exited             0\n",
       "dtype: int64"
      ]
     },
     "execution_count": 11,
     "metadata": {},
     "output_type": "execute_result"
    }
   ],
   "source": [
    "data.isna().sum()"
   ]
  },
  {
   "cell_type": "markdown",
   "metadata": {},
   "source": [
    "Заполним пропуски в столбце `Tenure` медианным значением по всему столбцу. Удалять их не будем, т.к. это почти 10% от всех данных."
   ]
  },
  {
   "cell_type": "code",
   "execution_count": 12,
   "metadata": {},
   "outputs": [],
   "source": [
    "data.Tenure = pd.to_numeric(data.Tenure)"
   ]
  },
  {
   "cell_type": "code",
   "execution_count": 13,
   "metadata": {},
   "outputs": [
    {
     "name": "stdout",
     "output_type": "stream",
     "text": [
      "<class 'pandas.core.frame.DataFrame'>\n",
      "RangeIndex: 10000 entries, 0 to 9999\n",
      "Data columns (total 14 columns):\n",
      " #   Column           Non-Null Count  Dtype  \n",
      "---  ------           --------------  -----  \n",
      " 0   RowNumber        10000 non-null  int64  \n",
      " 1   CustomerId       10000 non-null  int64  \n",
      " 2   Surname          10000 non-null  object \n",
      " 3   CreditScore      10000 non-null  int64  \n",
      " 4   Geography        10000 non-null  object \n",
      " 5   Gender           10000 non-null  object \n",
      " 6   Age              10000 non-null  int64  \n",
      " 7   Tenure           10000 non-null  int64  \n",
      " 8   Balance          10000 non-null  float64\n",
      " 9   NumOfProducts    10000 non-null  int64  \n",
      " 10  HasCrCard        10000 non-null  int64  \n",
      " 11  IsActiveMember   10000 non-null  int64  \n",
      " 12  EstimatedSalary  10000 non-null  float64\n",
      " 13  Exited           10000 non-null  int64  \n",
      "dtypes: float64(2), int64(9), object(3)\n",
      "memory usage: 1.1+ MB\n"
     ]
    }
   ],
   "source": [
    "data.info()"
   ]
  },
  {
   "cell_type": "code",
   "execution_count": 14,
   "metadata": {
    "scrolled": true
   },
   "outputs": [
    {
     "data": {
      "text/plain": [
       "0"
      ]
     },
     "execution_count": 14,
     "metadata": {},
     "output_type": "execute_result"
    }
   ],
   "source": [
    "data.duplicated().sum()"
   ]
  },
  {
   "cell_type": "markdown",
   "metadata": {},
   "source": [
    "Пропуски заполнены, дубликатов нет."
   ]
  },
  {
   "cell_type": "markdown",
   "metadata": {},
   "source": [
    "Удалим колонки с уникальными именами. Информация в них никак не будет иметь значения в обучении модели, а при кодировании каждому имени создаст отдельный столбец."
   ]
  },
  {
   "cell_type": "code",
   "execution_count": 15,
   "metadata": {},
   "outputs": [],
   "source": [
    "data = data.drop(['RowNumber', 'CustomerId', 'Surname'], axis=1)"
   ]
  },
  {
   "cell_type": "markdown",
   "metadata": {},
   "source": [
    "<br/>\n",
    "<div class=\"alert alert-info\">\n",
    "Пункт `Исследование задачи` \n",
    "перенес после разбиения на Train, test, valid."
   ]
  },
  {
   "cell_type": "markdown",
   "metadata": {},
   "source": [
    "### Разделение выборки на `train`, `valid` и `test`"
   ]
  },
  {
   "cell_type": "code",
   "execution_count": 16,
   "metadata": {},
   "outputs": [],
   "source": [
    "features = data.drop(['Exited'], axis=1)\n",
    "target = data['Exited']"
   ]
  },
  {
   "cell_type": "code",
   "execution_count": 17,
   "metadata": {},
   "outputs": [],
   "source": [
    "features_train_all, features_test, target_train_all, target_test = train_test_split(features, target, test_size=0.25, \\\n",
    "                                                                            stratify=target, random_state=12345)"
   ]
  },
  {
   "cell_type": "code",
   "execution_count": 18,
   "metadata": {},
   "outputs": [],
   "source": [
    "features_train, features_valid, target_train, target_valid = train_test_split(features_train_all, target_train_all, \\\n",
    "                                                                 test_size=0.33, stratify=target_train_all, random_state=12345)"
   ]
  },
  {
   "cell_type": "code",
   "execution_count": 19,
   "metadata": {
    "scrolled": false
   },
   "outputs": [
    {
     "data": {
      "text/plain": [
       "True"
      ]
     },
     "execution_count": 19,
     "metadata": {},
     "output_type": "execute_result"
    }
   ],
   "source": [
    "features.shape[0] == features_train.shape[0] + features_test.shape[0] + features_valid.shape[0]"
   ]
  },
  {
   "cell_type": "markdown",
   "metadata": {},
   "source": [
    "Данные разделены коректно."
   ]
  },
  {
   "cell_type": "markdown",
   "metadata": {},
   "source": [
    "### Прямое кодирование данных\n"
   ]
  },
  {
   "cell_type": "markdown",
   "metadata": {},
   "source": [
    "Выберем все столбцы с категориальными признаками."
   ]
  },
  {
   "cell_type": "code",
   "execution_count": 20,
   "metadata": {},
   "outputs": [
    {
     "data": {
      "text/plain": [
       "['Geography', 'Gender']"
      ]
     },
     "execution_count": 20,
     "metadata": {},
     "output_type": "execute_result"
    }
   ],
   "source": [
    "ohe_features_category = features_train.select_dtypes(include='object').columns.to_list()\n",
    "ohe_features_category"
   ]
  },
  {
   "cell_type": "markdown",
   "metadata": {},
   "source": [
    "Выберем все столбцы с численными признаками."
   ]
  },
  {
   "cell_type": "markdown",
   "metadata": {},
   "source": [
    "Столбцы `HasCrCard` и `IsActiveMember` содержат бинарные признаки. Их включать общий список не будем."
   ]
  },
  {
   "cell_type": "code",
   "execution_count": 21,
   "metadata": {
    "scrolled": true
   },
   "outputs": [
    {
     "data": {
      "text/plain": [
       "['CreditScore', 'Age', 'Tenure', 'Balance', 'NumOfProducts', 'EstimatedSalary']"
      ]
     },
     "execution_count": 21,
     "metadata": {},
     "output_type": "execute_result"
    }
   ],
   "source": [
    "ohe_features_num = features_train.select_dtypes(exclude='object').columns.to_list()\n",
    "ohe_features_num.remove('IsActiveMember')\n",
    "ohe_features_num.remove('HasCrCard')\n",
    "ohe_features_num"
   ]
  },
  {
   "cell_type": "markdown",
   "metadata": {},
   "source": [
    "#### Кодируем тренировочную выборку `features_train`"
   ]
  },
  {
   "cell_type": "markdown",
   "metadata": {},
   "source": [
    "##### Кодируем категориальные признаки"
   ]
  },
  {
   "cell_type": "code",
   "execution_count": 22,
   "metadata": {},
   "outputs": [],
   "source": [
    "# обучаем энкодер на заданных категориальных признаках тренеровочной выборки\n",
    "encoder_ohe = OneHotEncoder(drop='first', handle_unknown='ignore', sparse=False)\n",
    "encoder_ohe.fit(features_train[ohe_features_category])\n",
    "\n",
    "# добавляем закодированные признаки в ohe_features_category\n",
    "features_train[encoder_ohe.get_feature_names_out()] = encoder_ohe.transform(features_train[ohe_features_category])\n",
    "\n",
    "# удаляем незакодированные категориальные признаки (изначальные колонки)\n",
    "features_train = features_train.drop(ohe_features_category, axis=1)\n",
    "\n"
   ]
  },
  {
   "cell_type": "markdown",
   "metadata": {},
   "source": [
    "##### Кодируем численные признаки"
   ]
  },
  {
   "cell_type": "code",
   "execution_count": 23,
   "metadata": {},
   "outputs": [],
   "source": [
    "# Создаем скелер\n",
    "scaler = StandardScaler()\n",
    "\n",
    "#Обучаем его на численных признаках тренировочной выборки и трансформируем ее же.\n",
    "features_train[ohe_features_num] = scaler.fit_transform(features_train[ohe_features_num])"
   ]
  },
  {
   "cell_type": "code",
   "execution_count": 24,
   "metadata": {
    "scrolled": true
   },
   "outputs": [
    {
     "data": {
      "text/html": [
       "<div>\n",
       "<style scoped>\n",
       "    .dataframe tbody tr th:only-of-type {\n",
       "        vertical-align: middle;\n",
       "    }\n",
       "\n",
       "    .dataframe tbody tr th {\n",
       "        vertical-align: top;\n",
       "    }\n",
       "\n",
       "    .dataframe thead th {\n",
       "        text-align: right;\n",
       "    }\n",
       "</style>\n",
       "<table border=\"1\" class=\"dataframe\">\n",
       "  <thead>\n",
       "    <tr style=\"text-align: right;\">\n",
       "      <th></th>\n",
       "      <th>CreditScore</th>\n",
       "      <th>Age</th>\n",
       "      <th>Tenure</th>\n",
       "      <th>Balance</th>\n",
       "      <th>NumOfProducts</th>\n",
       "      <th>HasCrCard</th>\n",
       "      <th>IsActiveMember</th>\n",
       "      <th>EstimatedSalary</th>\n",
       "      <th>Geography_Germany</th>\n",
       "      <th>Geography_Spain</th>\n",
       "      <th>Gender_Male</th>\n",
       "    </tr>\n",
       "  </thead>\n",
       "  <tbody>\n",
       "    <tr>\n",
       "      <th>6854</th>\n",
       "      <td>0.895254</td>\n",
       "      <td>-0.287962</td>\n",
       "      <td>0.662376</td>\n",
       "      <td>-1.236177</td>\n",
       "      <td>0.798746</td>\n",
       "      <td>1</td>\n",
       "      <td>1</td>\n",
       "      <td>-0.066073</td>\n",
       "      <td>0.0</td>\n",
       "      <td>1.0</td>\n",
       "      <td>1.0</td>\n",
       "    </tr>\n",
       "    <tr>\n",
       "      <th>3665</th>\n",
       "      <td>0.843955</td>\n",
       "      <td>0.293011</td>\n",
       "      <td>-0.443444</td>\n",
       "      <td>1.173367</td>\n",
       "      <td>-0.912123</td>\n",
       "      <td>0</td>\n",
       "      <td>1</td>\n",
       "      <td>1.209065</td>\n",
       "      <td>0.0</td>\n",
       "      <td>0.0</td>\n",
       "      <td>1.0</td>\n",
       "    </tr>\n",
       "    <tr>\n",
       "      <th>9835</th>\n",
       "      <td>1.921235</td>\n",
       "      <td>-0.772106</td>\n",
       "      <td>1.696070</td>\n",
       "      <td>-1.236177</td>\n",
       "      <td>0.798746</td>\n",
       "      <td>1</td>\n",
       "      <td>0</td>\n",
       "      <td>-1.612971</td>\n",
       "      <td>0.0</td>\n",
       "      <td>0.0</td>\n",
       "      <td>1.0</td>\n",
       "    </tr>\n",
       "  </tbody>\n",
       "</table>\n",
       "</div>"
      ],
      "text/plain": [
       "      CreditScore       Age    Tenure   Balance  NumOfProducts  HasCrCard  \\\n",
       "6854     0.895254 -0.287962  0.662376 -1.236177       0.798746          1   \n",
       "3665     0.843955  0.293011 -0.443444  1.173367      -0.912123          0   \n",
       "9835     1.921235 -0.772106  1.696070 -1.236177       0.798746          1   \n",
       "\n",
       "      IsActiveMember  EstimatedSalary  Geography_Germany  Geography_Spain  \\\n",
       "6854               1        -0.066073                0.0              1.0   \n",
       "3665               1         1.209065                0.0              0.0   \n",
       "9835               0        -1.612971                0.0              0.0   \n",
       "\n",
       "      Gender_Male  \n",
       "6854          1.0  \n",
       "3665          1.0  \n",
       "9835          1.0  "
      ]
     },
     "execution_count": 24,
     "metadata": {},
     "output_type": "execute_result"
    }
   ],
   "source": [
    "# Проверяем\n",
    "features_train.head(3)"
   ]
  },
  {
   "cell_type": "markdown",
   "metadata": {},
   "source": [
    "#### Кодируем валидационную выборку `features_valid`"
   ]
  },
  {
   "cell_type": "code",
   "execution_count": 25,
   "metadata": {},
   "outputs": [],
   "source": [
    "# Категориальные признаки\n",
    "features_valid[encoder_ohe.get_feature_names_out()] = encoder_ohe.transform(features_valid[ohe_features_category])\n",
    "features_valid = features_valid.drop(ohe_features_category, axis=1)"
   ]
  },
  {
   "cell_type": "code",
   "execution_count": 26,
   "metadata": {},
   "outputs": [],
   "source": [
    "# Чиcленные признаки\n",
    "features_valid[ohe_features_num] = scaler.fit_transform(features_valid[ohe_features_num])"
   ]
  },
  {
   "cell_type": "markdown",
   "metadata": {},
   "source": [
    "### Поиски наулучшей модели"
   ]
  },
  {
   "cell_type": "code",
   "execution_count": 27,
   "metadata": {},
   "outputs": [
    {
     "name": "stdout",
     "output_type": "stream",
     "text": [
      "Лучшие гиппер параметры, для наибольшей F1-меры:\n",
      "f1: 0.5644171779141104 est: 21 depth: 16\n"
     ]
    }
   ],
   "source": [
    "best_f1_forest = 0\n",
    "for est in range(1, 151, 20):\n",
    "    for depth in range(1, 20):\n",
    "        model = RandomForestClassifier(random_state=123, n_estimators=est, max_depth=depth)\n",
    "        model.fit(features_train, target_train)\n",
    "        predicted_valid = model.predict(features_valid)\n",
    "        result = f1_score(target_valid, predicted_valid)\n",
    "        if result > best_f1_forest:\n",
    "            best_est_forest = est\n",
    "            best_f1_forest = result\n",
    "            best_forest_depth = depth\n",
    "print('Лучшие гиппер параметры, для наибольшей F1-меры:')\n",
    "print('f1:', best_f1_forest, 'est:', best_est_forest, 'depth:', best_forest_depth)"
   ]
  },
  {
   "cell_type": "code",
   "execution_count": 28,
   "metadata": {},
   "outputs": [
    {
     "data": {
      "text/plain": [
       "0.8304276090615511"
      ]
     },
     "execution_count": 28,
     "metadata": {},
     "output_type": "execute_result"
    }
   ],
   "source": [
    "forest_model = RandomForestClassifier(n_estimators=best_est_forest, max_depth=best_forest_depth, random_state=12345)\n",
    "forest_model.fit(features_train, target_train)\n",
    "probabilities_valid = forest_model.predict_proba(features_valid)\n",
    "roc_auc_score(target_valid, probabilities_valid[:, 1])"
   ]
  },
  {
   "cell_type": "markdown",
   "metadata": {},
   "source": [
    "Построим график ROC-кривой."
   ]
  },
  {
   "cell_type": "code",
   "execution_count": 29,
   "metadata": {
    "scrolled": false
   },
   "outputs": [
    {
     "data": {
      "image/png": "[encoded data removed]",
      "text/plain": [
       "<Figure size 432x432 with 1 Axes>"
      ]
     },
     "metadata": {
      "needs_background": "light"
     },
     "output_type": "display_data"
    }
   ],
   "source": [
    "fpr, tpr, thresholds = roc_curve(target_valid, probabilities_valid[:, 1])\n",
    "plt.figure(figsize=(6, 6))\n",
    "plt.plot(fpr, tpr, linestyle='-', label='Увеличенная выборка')\n",
    "plt.plot([0.0, 1.0], [0.0, 1.0], linestyle='--', label='Средняя величина')\n",
    "plt.xlim([0.0, 1.0])\n",
    "plt.ylim([0.0, 1.0])\n",
    "plt.xlabel('False Positive Rate')\n",
    "plt.ylabel('True Positive Rate')\n",
    "plt.title('ROC-кривая')\n",
    "plt.legend()\n",
    "plt.show()"
   ]
  },
  {
   "cell_type": "code",
   "execution_count": 30,
   "metadata": {
    "scrolled": true
   },
   "outputs": [
    {
     "data": {
      "text/plain": [
       "array([[1882,   89],\n",
       "       [ 290,  214]])"
      ]
     },
     "execution_count": 30,
     "metadata": {},
     "output_type": "execute_result"
    }
   ],
   "source": [
    "confusion_matrix(target_valid, forest_model.predict(features_valid))"
   ]
  },
  {
   "cell_type": "markdown",
   "metadata": {},
   "source": [
    "Количество ложно отрицательных больше чем истинно отрацательных."
   ]
  },
  {
   "cell_type": "markdown",
   "metadata": {},
   "source": [
    "#### Модель логистической регресии"
   ]
  },
  {
   "cell_type": "markdown",
   "metadata": {},
   "source": [
    "Подберем параметры для модели."
   ]
  },
  {
   "cell_type": "code",
   "execution_count": 31,
   "metadata": {},
   "outputs": [
    {
     "name": "stdout",
     "output_type": "stream",
     "text": [
      "Лучшие гиппер параметры, для наибольшей F1-меры:\n",
      "f1: 0.32748538011695905 max_iter: 141\n"
     ]
    }
   ],
   "source": [
    "best_iter = 0\n",
    "best_f1_logic = 0\n",
    "for iter in range(100, 1000, 50):\n",
    "    model = LogisticRegression(random_state=12345, solver='liblinear', max_iter=iter)\n",
    "    model.fit(features_train, target_train)\n",
    "    predicted_valid = model.predict(features_valid)\n",
    "    result = f1_score(target_valid, predicted_valid)\n",
    "    if result > best_f1_logic:\n",
    "            best_iter = est\n",
    "            best_f1_logic = result\n",
    "            \n",
    "print('Лучшие гиппер параметры, для наибольшей F1-меры:')\n",
    "print('f1:', best_f1_logic, 'max_iter:', best_iter)\n",
    "    "
   ]
  },
  {
   "cell_type": "markdown",
   "metadata": {},
   "source": [
    "Посчитаем показатель AUC-ROC."
   ]
  },
  {
   "cell_type": "code",
   "execution_count": 32,
   "metadata": {},
   "outputs": [
    {
     "data": {
      "text/plain": [
       "0.8304276090615511"
      ]
     },
     "execution_count": 32,
     "metadata": {},
     "output_type": "execute_result"
    }
   ],
   "source": [
    "logic_model = LogisticRegression(random_state=12334, solver='lbfgs', max_iter=iter)\n",
    "logic_model.fit(features_train, target_train)\n",
    "probabilities_valid = forest_model.predict_proba(features_valid)\n",
    "roc_auc_score(target_valid, probabilities_valid[:, 1])"
   ]
  },
  {
   "cell_type": "code",
   "execution_count": 33,
   "metadata": {},
   "outputs": [
    {
     "data": {
      "text/plain": [
       "array([[1903,   68],\n",
       "       [ 393,  111]])"
      ]
     },
     "execution_count": 33,
     "metadata": {},
     "output_type": "execute_result"
    }
   ],
   "source": [
    "confusion_matrix(target_valid, logic_model.predict(features_valid))"
   ]
  },
  {
   "cell_type": "markdown",
   "metadata": {},
   "source": [
    "Ложно отрицательных значительно больше чем положительно отрицательных. "
   ]
  },
  {
   "cell_type": "markdown",
   "metadata": {},
   "source": [
    "По результатам F1-меры и матрици ошибок выберем модель \"Случайного леса\". Показатепль AUC-ROC у обоих моделей одинаковый.  "
   ]
  },
  {
   "cell_type": "markdown",
   "metadata": {},
   "source": [
    "## Борьба с дисбалансом"
   ]
  },
  {
   "cell_type": "markdown",
   "metadata": {},
   "source": [
    "### Увеличение наименьшей выборки (upsampling)"
   ]
  },
  {
   "cell_type": "markdown",
   "metadata": {},
   "source": [
    "Работем над дисбалансом данных в сторону увеличения данных наименьшим количеством."
   ]
  },
  {
   "cell_type": "code",
   "execution_count": 34,
   "metadata": {},
   "outputs": [],
   "source": [
    "def upsample(features, target, repeat):\n",
    "    features_zeros = features[target == 0]\n",
    "    features_ones = features[target == 1]\n",
    "    target_zeros = target[target == 0]\n",
    "    target_ones = target[target == 1]\n",
    "\n",
    "    features_upsampled = pd.concat([features_zeros] + [features_ones] * repeat)\n",
    "    target_upsampled = pd.concat([target_zeros] + [target_ones] * repeat)\n",
    "    \n",
    "    features_upsampled, target_upsampled = shuffle(\n",
    "        features_upsampled, target_upsampled, random_state=12345)\n",
    "    \n",
    "    return features_upsampled, target_upsampled"
   ]
  },
  {
   "cell_type": "code",
   "execution_count": 35,
   "metadata": {},
   "outputs": [],
   "source": [
    "features_upsampled, target_upsampled = upsample(features_train, target_train, 4)"
   ]
  },
  {
   "cell_type": "code",
   "execution_count": 36,
   "metadata": {},
   "outputs": [
    {
     "data": {
      "text/plain": [
       "(8097, 11)"
      ]
     },
     "execution_count": 36,
     "metadata": {},
     "output_type": "execute_result"
    }
   ],
   "source": [
    "features_upsampled.shape"
   ]
  },
  {
   "cell_type": "code",
   "execution_count": 37,
   "metadata": {
    "scrolled": false
   },
   "outputs": [
    {
     "data": {
      "text/plain": [
       "(8097,)"
      ]
     },
     "execution_count": 37,
     "metadata": {},
     "output_type": "execute_result"
    }
   ],
   "source": [
    "target_upsampled.shape"
   ]
  },
  {
   "cell_type": "markdown",
   "metadata": {},
   "source": [
    "Учебная и тествовая выборки стали одинаковыми."
   ]
  },
  {
   "cell_type": "markdown",
   "metadata": {},
   "source": [
    "### Уменьшение наибольшей выборки (downsamplig)"
   ]
  },
  {
   "cell_type": "code",
   "execution_count": 38,
   "metadata": {
    "scrolled": true
   },
   "outputs": [],
   "source": [
    "def downsample(features, target, fraction):\n",
    "    features_zeros = features[target == 0]\n",
    "    features_ones = features[target == 1]\n",
    "    target_zeros = target[target == 0]\n",
    "    target_ones = target[target == 1]\n",
    "    \n",
    "    features_downsampled = pd.concat(\n",
    "        [features_zeros.sample(frac=fraction, random_state=12345)] + [features_ones])\n",
    "    target_downsampled = pd.concat(\n",
    "        [target_zeros.sample(frac=fraction, random_state=12345)] + [target_ones])\n",
    "    \n",
    "    features_downsampled, target_downsampled = shuffle(\n",
    "        features_downsampled, target_downsampled, random_state=12345)\n",
    "    \n",
    "    return features_downsampled, target_downsampled"
   ]
  },
  {
   "cell_type": "code",
   "execution_count": 39,
   "metadata": {},
   "outputs": [],
   "source": [
    "features_downsampled, target_downsampled = downsample(features_train, target_train, 0.25)"
   ]
  },
  {
   "cell_type": "code",
   "execution_count": 40,
   "metadata": {},
   "outputs": [
    {
     "data": {
      "text/plain": [
       "(2024, 11)"
      ]
     },
     "execution_count": 40,
     "metadata": {},
     "output_type": "execute_result"
    }
   ],
   "source": [
    "features_downsampled.shape"
   ]
  },
  {
   "cell_type": "code",
   "execution_count": 41,
   "metadata": {},
   "outputs": [
    {
     "data": {
      "text/plain": [
       "(2024,)"
      ]
     },
     "execution_count": 41,
     "metadata": {},
     "output_type": "execute_result"
    }
   ],
   "source": [
    "target_downsampled.shape"
   ]
  },
  {
   "cell_type": "markdown",
   "metadata": {},
   "source": [
    "Размеры выборок одинаковые"
   ]
  },
  {
   "cell_type": "markdown",
   "metadata": {},
   "source": [
    "### Провкерка моделей на новых выборках"
   ]
  },
  {
   "cell_type": "markdown",
   "metadata": {},
   "source": [
    "#### Модель случайного леса на увеличенной выборке"
   ]
  },
  {
   "cell_type": "markdown",
   "metadata": {},
   "source": [
    "#### Модель случайного леса с уменьшенной выборкой."
   ]
  },
  {
   "cell_type": "code",
   "execution_count": 44,
   "metadata": {},
   "outputs": [
    {
     "name": "stdout",
     "output_type": "stream",
     "text": [
      "Лучшие гиппер параметры, для наибольшей F1-меры:\n",
      "f1: 0.5850980392156863 est: 21 depth: 5\n"
     ]
    }
   ],
   "source": [
    "best_f1_forest = 0\n",
    "for est in range(1, 151, 20):\n",
    "    for depth in range(1, 20):\n",
    "        model = RandomForestClassifier(random_state=123, n_estimators=est, max_depth=depth)\n",
    "        model.fit(features_downsampled, target_downsampled)\n",
    "        predicted_valid = model.predict(features_valid)\n",
    "        result = f1_score(target_valid, predicted_valid)\n",
    "        if result > best_f1_forest:\n",
    "            best_est_forest = est\n",
    "            best_f1_forest = result\n",
    "            best_forest_depth = depth\n",
    "print('Лучшие гиппер параметры, для наибольшей F1-меры:')\n",
    "print('f1:', best_f1_forest, 'est:', best_est_forest, 'depth:', best_forest_depth)"
   ]
  },
  {
   "cell_type": "code",
   "execution_count": 45,
   "metadata": {},
   "outputs": [
    {
     "data": {
      "text/plain": [
       "0.8304276090615511"
      ]
     },
     "execution_count": 45,
     "metadata": {},
     "output_type": "execute_result"
    }
   ],
   "source": [
    "forest_model_down = RandomForestClassifier(n_estimators=best_est_forest, max_depth=best_forest_depth, random_state=12345)\n",
    "forest_model_down.fit(features_downsampled, target_downsampled)\n",
    "probabilities_valid_downsampled = forest_model.predict_proba(features_valid)\n",
    "roc_auc_score(target_valid, probabilities_valid_downsampled[:, 1])"
   ]
  },
  {
   "cell_type": "markdown",
   "metadata": {},
   "source": [
    "Построим график AUC-ROC."
   ]
  },
  {
   "cell_type": "code",
   "execution_count": 46,
   "metadata": {},
   "outputs": [
    {
     "data": {
      "image/png": "[encoded data removed]",
      "text/plain": [
       "<Figure size 432x432 with 1 Axes>"
      ]
     },
     "metadata": {
      "needs_background": "light"
     },
     "output_type": "display_data"
    }
   ],
   "source": [
    "fpr_down, tpr_down, thresholds_down = roc_curve(target_valid, probabilities_valid_downsampled[:, 1])\n",
    "fpr_up, tpr_up, thresholds_up = roc_curve(target_valid, probabilities_valid_upsampled[:, 1])\n",
    "\n",
    "plt.figure(figsize=(6, 6))\n",
    "plt.plot(fpr_up, tpr_up, linestyle='-', label='Увеличенная выборка')\n",
    "plt.plot(fpr_down, tpr_down, linestyle='-', label='Уменьшенная выборка')\n",
    "\n",
    "plt.plot([0.0, 1.0], [0.0, 1.0], linestyle='--', label='Средняя величина')\n",
    "plt.xlim([0.0, 1.0])\n",
    "plt.ylim([0.0, 1.0])\n",
    "plt.xlabel('False Positive Rate')\n",
    "plt.ylabel('True Positive Rate')\n",
    "plt.title('ROC-кривая')\n",
    "plt.legend()\n",
    "plt.show()"
   ]
  },
  {
   "cell_type": "code",
   "execution_count": 47,
   "metadata": {
    "scrolled": true
   },
   "outputs": [
    {
     "name": "stdout",
     "output_type": "stream",
     "text": [
      "Матрица ошибок увеличненной выборки:\n"
     ]
    },
    {
     "data": {
      "text/plain": [
       "array([[1797,  174],\n",
       "       [ 218,  286]])"
      ]
     },
     "metadata": {},
     "output_type": "display_data"
    },
    {
     "name": "stdout",
     "output_type": "stream",
     "text": [
      "Матрица ошибок уменьшенной выборки:\n"
     ]
    },
    {
     "data": {
      "text/plain": [
       "array([[1584,  387],\n",
       "       [ 145,  359]])"
      ]
     },
     "execution_count": 47,
     "metadata": {},
     "output_type": "execute_result"
    }
   ],
   "source": [
    "print('Матрица ошибок увеличненной выборки:')\n",
    "display(confusion_matrix(target_valid, forest_model_up.predict(features_valid)))\n",
    "print('Матрица ошибок уменьшенной выборки:')\n",
    "confusion_matrix(target_valid, forest_model_down.predict(features_valid))"
   ]
  },
  {
   "cell_type": "markdown",
   "metadata": {},
   "source": [
    "На увеличенной выборке модель дает больше верно положительных ответов. Это втдно на графике и в матрице ошибок. У модели с уменьшенной выборкой большое кол-во ошибочно положительных. F1-мера у увеличенной выборки больше. "
   ]
  },
  {
   "cell_type": "markdown",
   "metadata": {},
   "source": [
    "#### Модель линейной регресии на увеличенной выборке"
   ]
  },
  {
   "cell_type": "markdown",
   "metadata": {},
   "source": [
    "Подберем параметры для модели."
   ]
  },
  {
   "cell_type": "code",
   "execution_count": 48,
   "metadata": {},
   "outputs": [
    {
     "name": "stdout",
     "output_type": "stream",
     "text": [
      "Лучшие гиперпараметры:\n",
      "F1: 0.484764542936288 , max_iter: 100\n"
     ]
    }
   ],
   "source": [
    "best_iter = 0\n",
    "best_f1_logic = 0\n",
    "for iter in range(100, 2000, 50):\n",
    "    model = LogisticRegression(random_state=12345, solver='liblinear', max_iter=iter)\n",
    "    model.fit(features_upsampled, target_upsampled)\n",
    "    predicted_valid = model.predict(features_valid)\n",
    "    result = f1_score(target_valid, predicted_valid)\n",
    "    if best_f1_logic < result:\n",
    "        best_f1_logic = result\n",
    "        best_iter = iter\n",
    "print(f'Лучшие гиперпараметры:')\n",
    "print('F1:', best_f1_logic, ', max_iter:', best_iter)"
   ]
  },
  {
   "cell_type": "markdown",
   "metadata": {},
   "source": [
    "Посчитаем показатель AUC-ROC."
   ]
  },
  {
   "cell_type": "code",
   "execution_count": 49,
   "metadata": {},
   "outputs": [
    {
     "data": {
      "text/plain": [
       "0.7558738614674687"
      ]
     },
     "execution_count": 49,
     "metadata": {},
     "output_type": "execute_result"
    }
   ],
   "source": [
    "logic_model_up = LogisticRegression(random_state=12345, solver='liblinear', max_iter=best_iter)\n",
    "logic_model_up.fit(features_upsampled, target_upsampled)\n",
    "probabilities_valid_upsampled = logic_model.predict_proba(features_valid)\n",
    "roc_auc_score(target_valid, probabilities_valid_upsampled[:, 1])"
   ]
  },
  {
   "cell_type": "markdown",
   "metadata": {},
   "source": [
    "#### Модель линейной регресии на уменьшенной выборке"
   ]
  },
  {
   "cell_type": "code",
   "execution_count": 50,
   "metadata": {},
   "outputs": [
    {
     "name": "stdout",
     "output_type": "stream",
     "text": [
      "Лучшие гиперпараметры:\n",
      "F1: 0.4885496183206107 , max_iter: 100\n"
     ]
    }
   ],
   "source": [
    "best_iter = 0\n",
    "best_f1_logic = 0\n",
    "for iter in range(100, 2000, 50):\n",
    "    model = LogisticRegression(random_state=12345, solver='liblinear', max_iter=iter)\n",
    "    model.fit(features_downsampled, target_downsampled)\n",
    "    predicted_valid = model.predict(features_valid)\n",
    "    result = f1_score(target_valid, predicted_valid)\n",
    "    if best_f1_logic < result:\n",
    "        best_f1_logic = result\n",
    "        best_iter = iter\n",
    "print(f'Лучшие гиперпараметры:')\n",
    "print('F1:', best_f1_logic, ', max_iter:', best_iter)"
   ]
  },
  {
   "cell_type": "markdown",
   "metadata": {},
   "source": [
    "Посчитаем показатель AUC-ROC."
   ]
  },
  {
   "cell_type": "code",
   "execution_count": 51,
   "metadata": {},
   "outputs": [
    {
     "data": {
      "text/plain": [
       "0.7558738614674687"
      ]
     },
     "execution_count": 51,
     "metadata": {},
     "output_type": "execute_result"
    }
   ],
   "source": [
    "logic_model_down = LogisticRegression(random_state=12345, solver='liblinear', max_iter=50)\n",
    "logic_model_down.fit(features_downsampled, target_downsampled)\n",
    "probabilities_valid_downsampled = logic_model.predict_proba(features_valid)\n",
    "roc_auc_score(target_valid, probabilities_valid_downsampled[:, 1])"
   ]
  },
  {
   "cell_type": "markdown",
   "metadata": {},
   "source": [
    "Построим график AUC-ROC."
   ]
  },
  {
   "cell_type": "code",
   "execution_count": 52,
   "metadata": {
    "scrolled": false
   },
   "outputs": [
    {
     "data": {
      "image/png": "[encoded data removed]",
      "text/plain": [
       "<Figure size 432x432 with 1 Axes>"
      ]
     },
     "metadata": {
      "needs_background": "light"
     },
     "output_type": "display_data"
    }
   ],
   "source": [
    "fpr_up, tpr_up, thresholds_up = roc_curve(target_valid, probabilities_valid_upsampled[:, 1])\n",
    "fpr_down, tpr_down, thresholds_down = roc_curve(target_valid, probabilities_valid_downsampled[:, 1])\n",
    "plt.figure(figsize=(6, 6))\n",
    "plt.plot(fpr_up, tpr_up, linestyle='-', label='Увеличенная выборка')\n",
    "plt.plot(fpr_down, tpr_down, linestyle='-', label='Уменьшенная выборка')\n",
    "plt.plot([0.0, 1.0], [0.0, 1.0], linestyle='--')\n",
    "plt.xlim([0.0, 1.0])\n",
    "plt.ylim([0.0, 1.05])\n",
    "plt.xlabel('False Positive Rate')\n",
    "plt.ylabel('True Positive Rate')\n",
    "plt.title('ROC-кривая')\n",
    "plt.legend()\n",
    "plt.show()"
   ]
  },
  {
   "cell_type": "code",
   "execution_count": 53,
   "metadata": {},
   "outputs": [
    {
     "name": "stdout",
     "output_type": "stream",
     "text": [
      "Матрица ошибок увеличненной выборки:\n"
     ]
    },
    {
     "data": {
      "text/plain": [
       "array([[1381,  590],\n",
       "       [ 154,  350]])"
      ]
     },
     "metadata": {},
     "output_type": "display_data"
    },
    {
     "name": "stdout",
     "output_type": "stream",
     "text": [
      "Матрица ошибок уменьшенной выборки:\n"
     ]
    },
    {
     "data": {
      "text/plain": [
       "array([[1386,  585],\n",
       "       [ 152,  352]])"
      ]
     },
     "execution_count": 53,
     "metadata": {},
     "output_type": "execute_result"
    }
   ],
   "source": [
    "print('Матрица ошибок увеличненной выборки:')\n",
    "display(confusion_matrix(target_valid, logic_model_up.predict(features_valid)))\n",
    "print('Матрица ошибок уменьшенной выборки:')\n",
    "confusion_matrix(target_valid, logic_model_down.predict(features_valid))"
   ]
  },
  {
   "cell_type": "markdown",
   "metadata": {},
   "source": [
    "По обоим выборкам рельтаты очень близки это видно по графику, матрице ошибок, F1-мере и показателю AUC-ROC."
   ]
  },
  {
   "cell_type": "markdown",
   "metadata": {},
   "source": [
    "Модель случайного дерева дала лучше результат. Будем использовать на увеличенной выборке."
   ]
  },
  {
   "cell_type": "markdown",
   "metadata": {},
   "source": [
    "## Тестирование модели"
   ]
  },
  {
   "cell_type": "markdown",
   "metadata": {},
   "source": [
    "#### Объединяем `train ` и `valid` выборки"
   ]
  },
  {
   "cell_type": "markdown",
   "metadata": {},
   "source": [
    "Объединять выборки не нужно, используем выбирку `train_all` до ее разделения на `train` и `valid`"
   ]
  },
  {
   "cell_type": "code",
   "execution_count": 54,
   "metadata": {},
   "outputs": [
    {
     "data": {
      "text/plain": [
       "(7500, 10)"
      ]
     },
     "execution_count": 54,
     "metadata": {},
     "output_type": "execute_result"
    }
   ],
   "source": [
    "features_train_all.shape"
   ]
  },
  {
   "cell_type": "code",
   "execution_count": 55,
   "metadata": {
    "scrolled": true
   },
   "outputs": [
    {
     "data": {
      "text/plain": [
       "(7500,)"
      ]
     },
     "execution_count": 55,
     "metadata": {},
     "output_type": "execute_result"
    }
   ],
   "source": [
    "target_train_all.shape"
   ]
  },
  {
   "cell_type": "markdown",
   "metadata": {},
   "source": [
    "#### Кодируем общую выборку"
   ]
  },
  {
   "cell_type": "code",
   "execution_count": 56,
   "metadata": {},
   "outputs": [],
   "source": [
    "# Категориальные признаки\n",
    "features_train_all[encoder_ohe.get_feature_names_out()] = encoder_ohe.transform(features_train_all[ohe_features_category])\n",
    "features_train_all = features_train_all.drop(ohe_features_category, axis=1)"
   ]
  },
  {
   "cell_type": "code",
   "execution_count": 57,
   "metadata": {},
   "outputs": [],
   "source": [
    "# Чиcленные признаки\n",
    "features_train_all[ohe_features_num] = scaler.fit_transform(features_train_all[ohe_features_num])"
   ]
  },
  {
   "cell_type": "markdown",
   "metadata": {},
   "source": [
    "#### Кодируем тестовую выборку"
   ]
  },
  {
   "cell_type": "code",
   "execution_count": 58,
   "metadata": {},
   "outputs": [],
   "source": [
    "# Категориальные признаки\n",
    "features_test[encoder_ohe.get_feature_names_out()] = encoder_ohe.transform(features_test[ohe_features_category])\n",
    "features_test = features_test.drop(ohe_features_category, axis=1)"
   ]
  },
  {
   "cell_type": "code",
   "execution_count": 59,
   "metadata": {},
   "outputs": [],
   "source": [
    "# Чиcленные признаки\n",
    "features_test[ohe_features_num] = scaler.fit_transform(features_test[ohe_features_num])"
   ]
  },
  {
   "cell_type": "markdown",
   "metadata": {},
   "source": [
    "#### Увеличиваем наименьшую выборку"
   ]
  },
  {
   "cell_type": "code",
   "execution_count": 60,
   "metadata": {
    "scrolled": true
   },
   "outputs": [
    {
     "data": {
      "text/plain": [
       "7500"
      ]
     },
     "execution_count": 60,
     "metadata": {},
     "output_type": "execute_result"
    }
   ],
   "source": [
    "target_train_all.count()"
   ]
  },
  {
   "cell_type": "code",
   "execution_count": 61,
   "metadata": {
    "scrolled": true
   },
   "outputs": [
    {
     "data": {
      "text/plain": [
       "1528"
      ]
     },
     "execution_count": 61,
     "metadata": {},
     "output_type": "execute_result"
    }
   ],
   "source": [
    "target_train_all.sum()"
   ]
  },
  {
   "cell_type": "markdown",
   "metadata": {},
   "source": [
    "Разница в данных увеличилась с 4-х до 5-и раз."
   ]
  },
  {
   "cell_type": "code",
   "execution_count": 62,
   "metadata": {},
   "outputs": [],
   "source": [
    "features_upsampled, target_upsampled = upsample(features_train_all, target_train_all, 5)"
   ]
  },
  {
   "cell_type": "code",
   "execution_count": 63,
   "metadata": {
    "scrolled": true
   },
   "outputs": [
    {
     "data": {
      "text/plain": [
       "(13612, 11)"
      ]
     },
     "execution_count": 63,
     "metadata": {},
     "output_type": "execute_result"
    }
   ],
   "source": [
    "features_upsampled.shape"
   ]
  },
  {
   "cell_type": "code",
   "execution_count": 64,
   "metadata": {},
   "outputs": [
    {
     "data": {
      "text/plain": [
       "(13612,)"
      ]
     },
     "execution_count": 64,
     "metadata": {},
     "output_type": "execute_result"
    }
   ],
   "source": [
    "target_upsampled.shape"
   ]
  },
  {
   "cell_type": "markdown",
   "metadata": {},
   "source": [
    "#### обучаем модель `Случайного леса`"
   ]
  },
  {
   "cell_type": "code",
   "execution_count": 65,
   "metadata": {},
   "outputs": [
    {
     "data": {
      "text/plain": [
       "0.6162464985994397"
      ]
     },
     "execution_count": 65,
     "metadata": {},
     "output_type": "execute_result"
    }
   ],
   "source": [
    "forest_model_test = RandomForestClassifier(n_estimators=17, max_depth=13, random_state=12345)\n",
    "forest_model_test.fit(features_upsampled, target_upsampled)\n",
    "predicted_test = forest_model_test.predict(features_test)\n",
    "f1_score(target_test, predicted_test)"
   ]
  },
  {
   "cell_type": "code",
   "execution_count": 66,
   "metadata": {},
   "outputs": [
    {
     "name": "stdout",
     "output_type": "stream",
     "text": [
      "AUC-ROC: 0.8461317579402005\n"
     ]
    }
   ],
   "source": [
    "probabilities_valid_upsampled = forest_model_test.predict_proba(features_test)\n",
    "roc_auc = roc_auc_score(target_test, probabilities_valid_upsampled[:, 1])\n",
    "print(f'AUC-ROC: {roc_auc}')"
   ]
  },
  {
   "cell_type": "code",
   "execution_count": 67,
   "metadata": {},
   "outputs": [
    {
     "data": {
      "image/png": "[encoded data removed]",
      "text/plain": [
       "<Figure size 432x432 with 1 Axes>"
      ]
     },
     "metadata": {
      "needs_background": "light"
     },
     "output_type": "display_data"
    }
   ],
   "source": [
    "fpr, tpr, thresholds_down = roc_curve(target_test, probabilities_valid_upsampled[:, 1])\n",
    "plt.figure(figsize=(6, 6))\n",
    "plt.plot(fpr, tpr, linestyle='-', label='Уменьшенная выборка')\n",
    "plt.plot([0.0, 1.0], [0.0, 1.0], linestyle='--', label='Средняя величина')\n",
    "plt.xlim([0.0, 1.0])\n",
    "plt.ylim([0.0, 1.0])\n",
    "plt.xlabel('False Positive Rate')\n",
    "plt.ylabel('True Positive Rate')\n",
    "plt.title('ROC-кривая')\n",
    "plt.legend()\n",
    "plt.show()"
   ]
  },
  {
   "cell_type": "code",
   "execution_count": 68,
   "metadata": {
    "scrolled": true
   },
   "outputs": [
    {
     "name": "stdout",
     "output_type": "stream",
     "text": [
      "Матрица ошибок:\n"
     ]
    },
    {
     "data": {
      "text/plain": [
       "array([[1759,  232],\n",
       "       [ 179,  330]])"
      ]
     },
     "metadata": {},
     "output_type": "display_data"
    }
   ],
   "source": [
    "print('Матрица ошибок:')\n",
    "display(confusion_matrix(target_test, predicted_test))\n"
   ]
  },
  {
   "cell_type": "markdown",
   "metadata": {},
   "source": [
    "#### Вывод"
   ]
  },
  {
   "cell_type": "markdown",
   "metadata": {},
   "source": [
    "Модель обучена F1-мера равна 0.61, показатель AUC-ROC 0.84, матрица ошибок показавает большое количетсво верных предсказаний.\n",
    "Почти 65% из всех предсказанных ответов верны."
   ]
  },
  {
   "cell_type": "markdown",
   "metadata": {},
   "source": [
    "## Чек-лист готовности проекта"
   ]
  },
  {
   "cell_type": "markdown",
   "metadata": {},
   "source": [
    "Поставьте 'x' в выполненных пунктах. Далее нажмите Shift+Enter."
   ]
  },
  {
   "cell_type": "markdown",
   "metadata": {},
   "source": [
    "- [x]  Jupyter Notebook открыт\n",
    "- [x]  Весь код выполняется без ошибок\n",
    "- [x]  Ячейки с кодом расположены в порядке исполнения\n",
    "- [x]  Выполнен шаг 1: данные подготовлены\n",
    "- [x]  Выполнен шаг 2: задача исследована\n",
    "    - [x]  Исследован баланс классов\n",
    "    - [x]  Изучены модели без учёта дисбаланса\n",
    "    - [x]  Написаны выводы по результатам исследования\n",
    "- [x]  Выполнен шаг 3: учтён дисбаланс\n",
    "    - [x]  Применено несколько способов борьбы с дисбалансом\n",
    "    - [x]  Написаны выводы по результатам исследования\n",
    "- [x]  Выполнен шаг 4: проведено тестирование\n",
    "- [x]  Удалось достичь *F1*-меры не менее 0.59\n",
    "- [x]  Исследована метрика *AUC-ROC*"
   ]
  },
  {
   "cell_type": "code",
   "execution_count": null,
   "metadata": {},
   "outputs": [],
   "source": []
  }
 ],
 "metadata": {
  "ExecuteTimeLog": [
   {
    "duration": 524,
    "start_time": "2023-07-07T18:56:51.298Z"
   },
   {
    "duration": 233,
    "start_time": "2023-07-07T18:57:17.694Z"
   },
   {
    "duration": 89,
    "start_time": "2023-07-07T18:58:29.225Z"
   },
   {
    "duration": 602,
    "start_time": "2023-07-08T12:43:41.495Z"
   },
   {
    "duration": 56,
    "start_time": "2023-07-08T12:46:36.996Z"
   },
   {
    "duration": 7,
    "start_time": "2023-07-08T12:46:47.448Z"
   },
   {
    "duration": 8,
    "start_time": "2023-07-08T12:47:40.927Z"
   },
   {
    "duration": 108,
    "start_time": "2023-07-08T12:48:09.647Z"
   },
   {
    "duration": 13,
    "start_time": "2023-07-08T12:48:19.004Z"
   },
   {
    "duration": 3,
    "start_time": "2023-07-08T12:56:41.821Z"
   },
   {
    "duration": 2,
    "start_time": "2023-07-08T12:57:12.350Z"
   },
   {
    "duration": 2,
    "start_time": "2023-07-08T12:57:13.006Z"
   },
   {
    "duration": 3,
    "start_time": "2023-07-08T12:57:59.703Z"
   },
   {
    "duration": 9,
    "start_time": "2023-07-08T13:01:47.466Z"
   },
   {
    "duration": 9,
    "start_time": "2023-07-08T13:01:54.775Z"
   },
   {
    "duration": 8,
    "start_time": "2023-07-08T13:02:02.635Z"
   },
   {
    "duration": 8,
    "start_time": "2023-07-08T13:02:15.381Z"
   },
   {
    "duration": 10,
    "start_time": "2023-07-08T13:02:38.532Z"
   },
   {
    "duration": 8,
    "start_time": "2023-07-08T13:10:40.783Z"
   },
   {
    "duration": 8,
    "start_time": "2023-07-08T13:10:52.468Z"
   },
   {
    "duration": 28,
    "start_time": "2023-07-08T13:11:19.246Z"
   },
   {
    "duration": 8,
    "start_time": "2023-07-08T13:13:25.142Z"
   },
   {
    "duration": 6,
    "start_time": "2023-07-08T13:13:32.393Z"
   },
   {
    "duration": 14,
    "start_time": "2023-07-08T13:20:00.309Z"
   },
   {
    "duration": 8,
    "start_time": "2023-07-08T13:20:08.009Z"
   },
   {
    "duration": 5,
    "start_time": "2023-07-08T13:20:37.156Z"
   },
   {
    "duration": 7,
    "start_time": "2023-07-08T13:21:05.212Z"
   },
   {
    "duration": 10,
    "start_time": "2023-07-08T13:21:15.909Z"
   },
   {
    "duration": 7,
    "start_time": "2023-07-08T13:21:24.558Z"
   },
   {
    "duration": 15,
    "start_time": "2023-07-08T13:21:39.722Z"
   },
   {
    "duration": 4,
    "start_time": "2023-07-08T13:22:16.046Z"
   },
   {
    "duration": 12,
    "start_time": "2023-07-08T13:22:17.546Z"
   },
   {
    "duration": 20,
    "start_time": "2023-07-08T13:26:12.971Z"
   },
   {
    "duration": 11,
    "start_time": "2023-07-08T13:26:13.651Z"
   },
   {
    "duration": 5,
    "start_time": "2023-07-08T13:26:21.846Z"
   },
   {
    "duration": 12,
    "start_time": "2023-07-08T13:26:22.451Z"
   },
   {
    "duration": 67,
    "start_time": "2023-07-08T13:29:37.761Z"
   },
   {
    "duration": 7,
    "start_time": "2023-07-08T13:31:19.534Z"
   },
   {
    "duration": 11,
    "start_time": "2023-07-08T13:31:29.895Z"
   },
   {
    "duration": 10,
    "start_time": "2023-07-08T13:31:36.450Z"
   },
   {
    "duration": 67,
    "start_time": "2023-07-08T13:32:07.290Z"
   },
   {
    "duration": 3,
    "start_time": "2023-07-08T14:17:30.338Z"
   },
   {
    "duration": 749,
    "start_time": "2023-07-08T14:18:48.752Z"
   },
   {
    "duration": 11,
    "start_time": "2023-07-08T14:25:14.625Z"
   },
   {
    "duration": 4,
    "start_time": "2023-07-08T14:32:53.714Z"
   },
   {
    "duration": 61,
    "start_time": "2023-07-08T14:32:54.219Z"
   },
   {
    "duration": 9,
    "start_time": "2023-07-08T14:33:04.061Z"
   },
   {
    "duration": 9,
    "start_time": "2023-07-08T14:34:45.961Z"
   },
   {
    "duration": 54,
    "start_time": "2023-07-08T14:34:51.468Z"
   },
   {
    "duration": 14,
    "start_time": "2023-07-08T14:35:05.429Z"
   },
   {
    "duration": 1063,
    "start_time": "2023-07-08T14:40:42.605Z"
   },
   {
    "duration": 54,
    "start_time": "2023-07-08T14:40:43.670Z"
   },
   {
    "duration": 22,
    "start_time": "2023-07-08T14:40:43.725Z"
   },
   {
    "duration": 9,
    "start_time": "2023-07-08T14:40:43.749Z"
   },
   {
    "duration": 14,
    "start_time": "2023-07-08T14:40:43.759Z"
   },
   {
    "duration": 9,
    "start_time": "2023-07-08T14:40:43.774Z"
   },
   {
    "duration": 20,
    "start_time": "2023-07-08T14:40:43.784Z"
   },
   {
    "duration": 104,
    "start_time": "2023-07-08T14:40:43.806Z"
   },
   {
    "duration": 0,
    "start_time": "2023-07-08T14:40:43.912Z"
   },
   {
    "duration": 0,
    "start_time": "2023-07-08T14:40:43.913Z"
   },
   {
    "duration": 9,
    "start_time": "2023-07-08T14:40:59.198Z"
   },
   {
    "duration": 201,
    "start_time": "2023-07-08T14:41:11.642Z"
   },
   {
    "duration": 240,
    "start_time": "2023-07-08T14:41:14.613Z"
   },
   {
    "duration": 203,
    "start_time": "2023-07-08T14:41:15.534Z"
   },
   {
    "duration": 40,
    "start_time": "2023-07-08T14:48:48.327Z"
   },
   {
    "duration": 63,
    "start_time": "2023-07-08T14:48:48.691Z"
   },
   {
    "duration": 16,
    "start_time": "2023-07-08T14:51:45.340Z"
   },
   {
    "duration": 63,
    "start_time": "2023-07-08T14:52:26.413Z"
   },
   {
    "duration": 14,
    "start_time": "2023-07-08T14:52:27.098Z"
   },
   {
    "duration": 1096,
    "start_time": "2023-07-08T14:52:48.360Z"
   },
   {
    "duration": 56,
    "start_time": "2023-07-08T14:52:49.458Z"
   },
   {
    "duration": 12,
    "start_time": "2023-07-08T14:52:49.515Z"
   },
   {
    "duration": 12,
    "start_time": "2023-07-08T14:52:49.529Z"
   },
   {
    "duration": 17,
    "start_time": "2023-07-08T14:52:49.544Z"
   },
   {
    "duration": 23,
    "start_time": "2023-07-08T14:52:49.562Z"
   },
   {
    "duration": 19,
    "start_time": "2023-07-08T14:52:49.587Z"
   },
   {
    "duration": 204,
    "start_time": "2023-07-08T14:52:49.608Z"
   },
   {
    "duration": 77,
    "start_time": "2023-07-08T14:52:49.814Z"
   },
   {
    "duration": 69,
    "start_time": "2023-07-08T14:52:49.894Z"
   },
   {
    "duration": 116,
    "start_time": "2023-07-08T14:52:49.965Z"
   },
   {
    "duration": 73,
    "start_time": "2023-07-08T14:53:17.916Z"
   },
   {
    "duration": 12,
    "start_time": "2023-07-08T14:53:18.304Z"
   },
   {
    "duration": 45,
    "start_time": "2023-07-08T14:54:39.203Z"
   },
   {
    "duration": 81,
    "start_time": "2023-07-10T10:56:40.625Z"
   },
   {
    "duration": 1544,
    "start_time": "2023-07-10T10:56:56.615Z"
   },
   {
    "duration": 113,
    "start_time": "2023-07-10T10:56:58.162Z"
   },
   {
    "duration": 15,
    "start_time": "2023-07-10T10:56:58.277Z"
   },
   {
    "duration": 44,
    "start_time": "2023-07-10T10:56:58.295Z"
   },
   {
    "duration": 51,
    "start_time": "2023-07-10T10:56:58.341Z"
   },
   {
    "duration": 41,
    "start_time": "2023-07-10T10:56:58.395Z"
   },
   {
    "duration": 41,
    "start_time": "2023-07-10T10:56:58.438Z"
   },
   {
    "duration": 257,
    "start_time": "2023-07-10T10:56:58.481Z"
   },
   {
    "duration": 88,
    "start_time": "2023-07-10T10:56:58.740Z"
   },
   {
    "duration": 77,
    "start_time": "2023-07-10T10:56:58.831Z"
   },
   {
    "duration": 64,
    "start_time": "2023-07-10T10:56:58.912Z"
   },
   {
    "duration": 5,
    "start_time": "2023-07-10T10:56:58.979Z"
   },
   {
    "duration": 12,
    "start_time": "2023-07-10T10:57:50.606Z"
   },
   {
    "duration": 279,
    "start_time": "2023-07-10T11:12:21.577Z"
   },
   {
    "duration": 1355,
    "start_time": "2023-07-10T11:12:34.106Z"
   },
   {
    "duration": 65,
    "start_time": "2023-07-10T11:12:35.464Z"
   },
   {
    "duration": 14,
    "start_time": "2023-07-10T11:12:35.531Z"
   },
   {
    "duration": 25,
    "start_time": "2023-07-10T11:12:35.547Z"
   },
   {
    "duration": 21,
    "start_time": "2023-07-10T11:12:35.574Z"
   },
   {
    "duration": 14,
    "start_time": "2023-07-10T11:12:35.597Z"
   },
   {
    "duration": 18,
    "start_time": "2023-07-10T11:12:35.614Z"
   },
   {
    "duration": 244,
    "start_time": "2023-07-10T11:12:35.634Z"
   },
   {
    "duration": 84,
    "start_time": "2023-07-10T11:12:35.881Z"
   },
   {
    "duration": 301,
    "start_time": "2023-07-10T11:12:35.970Z"
   },
   {
    "duration": 58,
    "start_time": "2023-07-10T11:12:36.273Z"
   },
   {
    "duration": 5,
    "start_time": "2023-07-10T11:12:36.333Z"
   },
   {
    "duration": 318,
    "start_time": "2023-07-10T11:12:36.340Z"
   },
   {
    "duration": 92300,
    "start_time": "2023-07-10T11:14:22.361Z"
   },
   {
    "duration": 122,
    "start_time": "2023-07-10T11:23:42.514Z"
   },
   {
    "duration": 1450,
    "start_time": "2023-07-10T11:23:49.687Z"
   },
   {
    "duration": 64,
    "start_time": "2023-07-10T11:23:51.139Z"
   },
   {
    "duration": 21,
    "start_time": "2023-07-10T11:23:51.205Z"
   },
   {
    "duration": 42,
    "start_time": "2023-07-10T11:23:51.229Z"
   },
   {
    "duration": 26,
    "start_time": "2023-07-10T11:23:51.273Z"
   },
   {
    "duration": 43,
    "start_time": "2023-07-10T11:23:51.300Z"
   },
   {
    "duration": 41,
    "start_time": "2023-07-10T11:23:51.345Z"
   },
   {
    "duration": 232,
    "start_time": "2023-07-10T11:23:51.388Z"
   },
   {
    "duration": 73,
    "start_time": "2023-07-10T11:23:51.622Z"
   },
   {
    "duration": 76,
    "start_time": "2023-07-10T11:23:51.698Z"
   },
   {
    "duration": 71,
    "start_time": "2023-07-10T11:23:51.776Z"
   },
   {
    "duration": 61,
    "start_time": "2023-07-10T11:23:51.849Z"
   },
   {
    "duration": 313,
    "start_time": "2023-07-10T11:23:51.912Z"
   },
   {
    "duration": 136,
    "start_time": "2023-07-10T11:24:35.396Z"
   },
   {
    "duration": 236,
    "start_time": "2023-07-10T11:29:54.681Z"
   },
   {
    "duration": 1011,
    "start_time": "2023-07-10T11:30:07.705Z"
   },
   {
    "duration": 177,
    "start_time": "2023-07-10T11:31:52.032Z"
   },
   {
    "duration": 1798,
    "start_time": "2023-07-10T11:33:54.080Z"
   },
   {
    "duration": 76,
    "start_time": "2023-07-10T11:33:55.881Z"
   },
   {
    "duration": 19,
    "start_time": "2023-07-10T11:33:55.960Z"
   },
   {
    "duration": 41,
    "start_time": "2023-07-10T11:33:55.983Z"
   },
   {
    "duration": 29,
    "start_time": "2023-07-10T11:33:56.026Z"
   },
   {
    "duration": 23,
    "start_time": "2023-07-10T11:33:56.057Z"
   },
   {
    "duration": 28,
    "start_time": "2023-07-10T11:33:56.082Z"
   },
   {
    "duration": 222,
    "start_time": "2023-07-10T11:33:56.112Z"
   },
   {
    "duration": 77,
    "start_time": "2023-07-10T11:33:56.336Z"
   },
   {
    "duration": 68,
    "start_time": "2023-07-10T11:33:56.416Z"
   },
   {
    "duration": 67,
    "start_time": "2023-07-10T11:33:56.486Z"
   },
   {
    "duration": 5,
    "start_time": "2023-07-10T11:33:56.555Z"
   },
   {
    "duration": 190,
    "start_time": "2023-07-10T11:33:56.562Z"
   },
   {
    "duration": 132,
    "start_time": "2023-07-10T11:33:56.755Z"
   },
   {
    "duration": 4,
    "start_time": "2023-07-10T11:34:16.965Z"
   },
   {
    "duration": 1855,
    "start_time": "2023-07-10T11:34:23.306Z"
   },
   {
    "duration": 58,
    "start_time": "2023-07-10T11:34:25.164Z"
   },
   {
    "duration": 15,
    "start_time": "2023-07-10T11:34:25.224Z"
   },
   {
    "duration": 15,
    "start_time": "2023-07-10T11:34:25.241Z"
   },
   {
    "duration": 9,
    "start_time": "2023-07-10T11:34:25.258Z"
   },
   {
    "duration": 10,
    "start_time": "2023-07-10T11:34:25.269Z"
   },
   {
    "duration": 38,
    "start_time": "2023-07-10T11:34:25.281Z"
   },
   {
    "duration": 227,
    "start_time": "2023-07-10T11:34:25.322Z"
   },
   {
    "duration": 80,
    "start_time": "2023-07-10T11:34:25.551Z"
   },
   {
    "duration": 76,
    "start_time": "2023-07-10T11:34:25.634Z"
   },
   {
    "duration": 58,
    "start_time": "2023-07-10T11:34:25.712Z"
   },
   {
    "duration": 6,
    "start_time": "2023-07-10T11:34:25.772Z"
   },
   {
    "duration": 220,
    "start_time": "2023-07-10T11:34:25.781Z"
   },
   {
    "duration": 135,
    "start_time": "2023-07-10T11:34:26.004Z"
   },
   {
    "duration": 174,
    "start_time": "2023-07-10T11:36:07.214Z"
   },
   {
    "duration": 183,
    "start_time": "2023-07-10T11:36:09.477Z"
   },
   {
    "duration": 162,
    "start_time": "2023-07-10T11:37:09.349Z"
   },
   {
    "duration": 4,
    "start_time": "2023-07-10T11:47:02.883Z"
   },
   {
    "duration": 3984,
    "start_time": "2023-07-10T11:51:06.232Z"
   },
   {
    "duration": 133997,
    "start_time": "2023-07-10T11:53:47.016Z"
   },
   {
    "duration": 3251,
    "start_time": "2023-07-10T11:57:52.164Z"
   },
   {
    "duration": 13,
    "start_time": "2023-07-10T12:17:53.850Z"
   },
   {
    "duration": 1471,
    "start_time": "2023-07-10T12:18:03.734Z"
   },
   {
    "duration": 60,
    "start_time": "2023-07-10T12:18:05.207Z"
   },
   {
    "duration": 17,
    "start_time": "2023-07-10T12:18:05.269Z"
   },
   {
    "duration": 13,
    "start_time": "2023-07-10T12:18:05.288Z"
   },
   {
    "duration": 13,
    "start_time": "2023-07-10T12:18:05.303Z"
   },
   {
    "duration": 17,
    "start_time": "2023-07-10T12:18:05.318Z"
   },
   {
    "duration": 24,
    "start_time": "2023-07-10T12:18:05.337Z"
   },
   {
    "duration": 253,
    "start_time": "2023-07-10T12:18:05.363Z"
   },
   {
    "duration": 74,
    "start_time": "2023-07-10T12:18:05.618Z"
   },
   {
    "duration": 81,
    "start_time": "2023-07-10T12:18:05.696Z"
   },
   {
    "duration": 66,
    "start_time": "2023-07-10T12:18:05.779Z"
   },
   {
    "duration": 6,
    "start_time": "2023-07-10T12:18:05.847Z"
   },
   {
    "duration": 271,
    "start_time": "2023-07-10T12:18:05.856Z"
   },
   {
    "duration": 161,
    "start_time": "2023-07-10T12:18:06.129Z"
   },
   {
    "duration": 122736,
    "start_time": "2023-07-10T12:18:06.292Z"
   },
   {
    "duration": 3224,
    "start_time": "2023-07-10T12:20:09.031Z"
   },
   {
    "duration": 5,
    "start_time": "2023-07-10T12:20:12.257Z"
   },
   {
    "duration": 138,
    "start_time": "2023-07-10T12:20:12.264Z"
   },
   {
    "duration": 139130,
    "start_time": "2023-07-10T12:27:31.590Z"
   },
   {
    "duration": 1727,
    "start_time": "2023-07-10T12:35:16.193Z"
   },
   {
    "duration": 65,
    "start_time": "2023-07-10T12:35:17.923Z"
   },
   {
    "duration": 17,
    "start_time": "2023-07-10T12:35:17.992Z"
   },
   {
    "duration": 9,
    "start_time": "2023-07-10T12:35:18.012Z"
   },
   {
    "duration": 37,
    "start_time": "2023-07-10T12:35:18.024Z"
   },
   {
    "duration": 22,
    "start_time": "2023-07-10T12:35:18.063Z"
   },
   {
    "duration": 24,
    "start_time": "2023-07-10T12:35:18.087Z"
   },
   {
    "duration": 254,
    "start_time": "2023-07-10T12:35:18.113Z"
   },
   {
    "duration": 82,
    "start_time": "2023-07-10T12:35:18.369Z"
   },
   {
    "duration": 84,
    "start_time": "2023-07-10T12:35:18.454Z"
   },
   {
    "duration": 71,
    "start_time": "2023-07-10T12:35:18.540Z"
   },
   {
    "duration": 8,
    "start_time": "2023-07-10T12:35:18.613Z"
   },
   {
    "duration": 207,
    "start_time": "2023-07-10T12:35:18.623Z"
   },
   {
    "duration": 166,
    "start_time": "2023-07-10T12:35:18.833Z"
   },
   {
    "duration": 137736,
    "start_time": "2023-07-10T12:35:19.008Z"
   },
   {
    "duration": 1715,
    "start_time": "2023-07-10T12:37:36.747Z"
   },
   {
    "duration": 5,
    "start_time": "2023-07-10T12:37:38.464Z"
   },
   {
    "duration": 124,
    "start_time": "2023-07-10T12:37:38.471Z"
   },
   {
    "duration": 92418,
    "start_time": "2023-07-10T12:37:38.597Z"
   },
   {
    "duration": 205,
    "start_time": "2023-07-10T12:39:11.018Z"
   },
   {
    "duration": 20712,
    "start_time": "2023-07-10T12:42:50.697Z"
   },
   {
    "duration": 482,
    "start_time": "2023-07-10T12:43:11.412Z"
   },
   {
    "duration": 235,
    "start_time": "2023-07-10T12:44:12.887Z"
   },
   {
    "duration": 596,
    "start_time": "2023-07-10T12:44:40.614Z"
   },
   {
    "duration": 592,
    "start_time": "2023-07-10T12:44:57.502Z"
   },
   {
    "duration": 2265,
    "start_time": "2023-07-11T10:50:22.568Z"
   },
   {
    "duration": 110,
    "start_time": "2023-07-11T10:50:24.836Z"
   },
   {
    "duration": 20,
    "start_time": "2023-07-11T10:50:24.948Z"
   },
   {
    "duration": 11,
    "start_time": "2023-07-11T10:50:24.971Z"
   },
   {
    "duration": 41,
    "start_time": "2023-07-11T10:50:24.984Z"
   },
   {
    "duration": 15,
    "start_time": "2023-07-11T10:50:25.028Z"
   },
   {
    "duration": 28,
    "start_time": "2023-07-11T10:50:25.045Z"
   },
   {
    "duration": 221,
    "start_time": "2023-07-11T10:50:25.076Z"
   },
   {
    "duration": 73,
    "start_time": "2023-07-11T10:50:25.301Z"
   },
   {
    "duration": 123,
    "start_time": "2023-07-11T10:50:25.377Z"
   },
   {
    "duration": 85,
    "start_time": "2023-07-11T10:50:25.503Z"
   },
   {
    "duration": 14,
    "start_time": "2023-07-11T10:50:25.590Z"
   },
   {
    "duration": 233,
    "start_time": "2023-07-11T10:50:25.607Z"
   },
   {
    "duration": 227,
    "start_time": "2023-07-11T10:50:25.842Z"
   },
   {
    "duration": 181,
    "start_time": "2023-07-11T10:50:26.072Z"
   },
   {
    "duration": 0,
    "start_time": "2023-07-11T10:50:26.255Z"
   },
   {
    "duration": 0,
    "start_time": "2023-07-11T10:50:26.257Z"
   },
   {
    "duration": 1,
    "start_time": "2023-07-11T10:50:26.258Z"
   },
   {
    "duration": 0,
    "start_time": "2023-07-11T10:50:26.260Z"
   },
   {
    "duration": 0,
    "start_time": "2023-07-11T10:50:26.262Z"
   },
   {
    "duration": 0,
    "start_time": "2023-07-11T10:50:26.263Z"
   },
   {
    "duration": 318,
    "start_time": "2023-07-11T11:04:12.601Z"
   },
   {
    "duration": 20445,
    "start_time": "2023-07-11T11:04:26.759Z"
   },
   {
    "duration": 15,
    "start_time": "2023-07-11T11:06:11.728Z"
   },
   {
    "duration": 1537,
    "start_time": "2023-07-11T11:06:23.503Z"
   },
   {
    "duration": 55,
    "start_time": "2023-07-11T11:06:25.042Z"
   },
   {
    "duration": 16,
    "start_time": "2023-07-11T11:06:25.099Z"
   },
   {
    "duration": 10,
    "start_time": "2023-07-11T11:06:25.118Z"
   },
   {
    "duration": 23,
    "start_time": "2023-07-11T11:06:25.129Z"
   },
   {
    "duration": 25,
    "start_time": "2023-07-11T11:06:25.153Z"
   },
   {
    "duration": 23,
    "start_time": "2023-07-11T11:06:25.180Z"
   },
   {
    "duration": 229,
    "start_time": "2023-07-11T11:06:25.205Z"
   },
   {
    "duration": 79,
    "start_time": "2023-07-11T11:06:25.436Z"
   },
   {
    "duration": 69,
    "start_time": "2023-07-11T11:06:25.518Z"
   },
   {
    "duration": 78,
    "start_time": "2023-07-11T11:06:25.589Z"
   },
   {
    "duration": 5,
    "start_time": "2023-07-11T11:06:25.669Z"
   },
   {
    "duration": 182,
    "start_time": "2023-07-11T11:06:25.676Z"
   },
   {
    "duration": 154,
    "start_time": "2023-07-11T11:06:25.860Z"
   },
   {
    "duration": 127,
    "start_time": "2023-07-11T11:06:26.016Z"
   },
   {
    "duration": 0,
    "start_time": "2023-07-11T11:06:26.145Z"
   },
   {
    "duration": 0,
    "start_time": "2023-07-11T11:06:26.147Z"
   },
   {
    "duration": 0,
    "start_time": "2023-07-11T11:06:26.148Z"
   },
   {
    "duration": 0,
    "start_time": "2023-07-11T11:06:26.150Z"
   },
   {
    "duration": 0,
    "start_time": "2023-07-11T11:06:26.152Z"
   },
   {
    "duration": 0,
    "start_time": "2023-07-11T11:06:26.153Z"
   },
   {
    "duration": 14,
    "start_time": "2023-07-11T11:06:51.296Z"
   },
   {
    "duration": 5,
    "start_time": "2023-07-11T11:06:57.725Z"
   },
   {
    "duration": 94,
    "start_time": "2023-07-11T11:06:58.195Z"
   },
   {
    "duration": 218,
    "start_time": "2023-07-11T11:06:59.516Z"
   },
   {
    "duration": 28405,
    "start_time": "2023-07-11T11:07:01.398Z"
   },
   {
    "duration": 27209,
    "start_time": "2023-07-11T11:09:24.306Z"
   },
   {
    "duration": 566,
    "start_time": "2023-07-11T11:10:48.818Z"
   },
   {
    "duration": 605,
    "start_time": "2023-07-11T11:11:00.707Z"
   },
   {
    "duration": 574,
    "start_time": "2023-07-11T11:11:07.346Z"
   },
   {
    "duration": 563,
    "start_time": "2023-07-11T11:11:35.245Z"
   },
   {
    "duration": 612,
    "start_time": "2023-07-11T11:11:40.106Z"
   },
   {
    "duration": 598,
    "start_time": "2023-07-11T11:11:47.405Z"
   },
   {
    "duration": 637,
    "start_time": "2023-07-11T11:12:40.566Z"
   },
   {
    "duration": 218,
    "start_time": "2023-07-11T11:12:41.205Z"
   },
   {
    "duration": 149,
    "start_time": "2023-07-11T11:17:44.541Z"
   },
   {
    "duration": 143,
    "start_time": "2023-07-11T11:17:55.944Z"
   },
   {
    "duration": 131,
    "start_time": "2023-07-11T11:18:09.340Z"
   },
   {
    "duration": 231,
    "start_time": "2023-07-11T11:19:02.851Z"
   },
   {
    "duration": 224,
    "start_time": "2023-07-11T11:19:06.893Z"
   },
   {
    "duration": 1539,
    "start_time": "2023-07-11T11:19:56.069Z"
   },
   {
    "duration": 53,
    "start_time": "2023-07-11T11:19:57.610Z"
   },
   {
    "duration": 14,
    "start_time": "2023-07-11T11:19:57.665Z"
   },
   {
    "duration": 10,
    "start_time": "2023-07-11T11:19:57.682Z"
   },
   {
    "duration": 10,
    "start_time": "2023-07-11T11:19:57.694Z"
   },
   {
    "duration": 5,
    "start_time": "2023-07-11T11:19:57.706Z"
   },
   {
    "duration": 21,
    "start_time": "2023-07-11T11:19:57.713Z"
   },
   {
    "duration": 229,
    "start_time": "2023-07-11T11:19:57.736Z"
   },
   {
    "duration": 79,
    "start_time": "2023-07-11T11:19:57.967Z"
   },
   {
    "duration": 107,
    "start_time": "2023-07-11T11:19:58.050Z"
   },
   {
    "duration": 67,
    "start_time": "2023-07-11T11:19:58.159Z"
   },
   {
    "duration": 5,
    "start_time": "2023-07-11T11:19:58.228Z"
   },
   {
    "duration": 195,
    "start_time": "2023-07-11T11:19:58.235Z"
   },
   {
    "duration": 144,
    "start_time": "2023-07-11T11:19:58.432Z"
   },
   {
    "duration": 133,
    "start_time": "2023-07-11T11:19:58.578Z"
   },
   {
    "duration": 0,
    "start_time": "2023-07-11T11:19:58.713Z"
   },
   {
    "duration": 0,
    "start_time": "2023-07-11T11:19:58.714Z"
   },
   {
    "duration": 0,
    "start_time": "2023-07-11T11:19:58.715Z"
   },
   {
    "duration": 1,
    "start_time": "2023-07-11T11:19:58.716Z"
   },
   {
    "duration": 0,
    "start_time": "2023-07-11T11:19:58.718Z"
   },
   {
    "duration": 0,
    "start_time": "2023-07-11T11:19:58.719Z"
   },
   {
    "duration": 3042,
    "start_time": "2023-07-11T11:20:42.614Z"
   },
   {
    "duration": 5,
    "start_time": "2023-07-11T11:20:49.906Z"
   },
   {
    "duration": 119,
    "start_time": "2023-07-11T11:20:50.294Z"
   },
   {
    "duration": 215,
    "start_time": "2023-07-11T11:20:51.861Z"
   },
   {
    "duration": 133,
    "start_time": "2023-07-11T11:20:52.514Z"
   },
   {
    "duration": 657,
    "start_time": "2023-07-11T11:22:52.157Z"
   },
   {
    "duration": 212,
    "start_time": "2023-07-11T11:22:52.901Z"
   },
   {
    "duration": 133,
    "start_time": "2023-07-11T11:22:53.218Z"
   },
   {
    "duration": 5,
    "start_time": "2023-07-11T11:26:17.021Z"
   },
   {
    "duration": 10,
    "start_time": "2023-07-11T11:26:38.990Z"
   },
   {
    "duration": 7,
    "start_time": "2023-07-11T11:26:50.466Z"
   },
   {
    "duration": 119,
    "start_time": "2023-07-11T11:30:18.049Z"
   },
   {
    "duration": 10,
    "start_time": "2023-07-11T11:47:47.442Z"
   },
   {
    "duration": 25,
    "start_time": "2023-07-11T11:48:01.138Z"
   },
   {
    "duration": 30,
    "start_time": "2023-07-11T11:48:49.450Z"
   },
   {
    "duration": 196,
    "start_time": "2023-07-11T11:48:56.355Z"
   },
   {
    "duration": 4,
    "start_time": "2023-07-11T11:49:12.561Z"
   },
   {
    "duration": 5,
    "start_time": "2023-07-11T11:49:29.202Z"
   },
   {
    "duration": 18,
    "start_time": "2023-07-11T11:49:51.312Z"
   },
   {
    "duration": 4,
    "start_time": "2023-07-11T11:49:51.786Z"
   },
   {
    "duration": 4,
    "start_time": "2023-07-11T11:49:52.208Z"
   },
   {
    "duration": 279,
    "start_time": "2023-07-11T11:51:54.752Z"
   },
   {
    "duration": 16,
    "start_time": "2023-07-11T11:52:06.051Z"
   },
   {
    "duration": 143,
    "start_time": "2023-07-11T11:52:25.129Z"
   },
   {
    "duration": 295,
    "start_time": "2023-07-11T11:53:09.587Z"
   },
   {
    "duration": 144,
    "start_time": "2023-07-11T11:53:10.248Z"
   },
   {
    "duration": 302,
    "start_time": "2023-07-11T11:53:19.086Z"
   },
   {
    "duration": 215,
    "start_time": "2023-07-11T11:53:21.386Z"
   },
   {
    "duration": 304,
    "start_time": "2023-07-11T11:53:27.007Z"
   },
   {
    "duration": 135,
    "start_time": "2023-07-11T11:53:27.799Z"
   },
   {
    "duration": 332,
    "start_time": "2023-07-11T11:53:34.327Z"
   },
   {
    "duration": 144,
    "start_time": "2023-07-11T11:53:36.041Z"
   },
   {
    "duration": 251,
    "start_time": "2023-07-11T11:54:12.103Z"
   },
   {
    "duration": 132,
    "start_time": "2023-07-11T11:54:12.743Z"
   },
   {
    "duration": 1571,
    "start_time": "2023-07-11T11:56:29.503Z"
   },
   {
    "duration": 55,
    "start_time": "2023-07-11T11:56:31.076Z"
   },
   {
    "duration": 15,
    "start_time": "2023-07-11T11:56:31.132Z"
   },
   {
    "duration": 39,
    "start_time": "2023-07-11T11:56:31.150Z"
   },
   {
    "duration": 41,
    "start_time": "2023-07-11T11:56:31.190Z"
   },
   {
    "duration": 38,
    "start_time": "2023-07-11T11:56:31.233Z"
   },
   {
    "duration": 45,
    "start_time": "2023-07-11T11:56:31.273Z"
   },
   {
    "duration": 245,
    "start_time": "2023-07-11T11:56:31.320Z"
   },
   {
    "duration": 80,
    "start_time": "2023-07-11T11:56:31.567Z"
   },
   {
    "duration": 76,
    "start_time": "2023-07-11T11:56:31.651Z"
   },
   {
    "duration": 56,
    "start_time": "2023-07-11T11:56:31.729Z"
   },
   {
    "duration": 5,
    "start_time": "2023-07-11T11:56:31.787Z"
   },
   {
    "duration": 191,
    "start_time": "2023-07-11T11:56:31.803Z"
   },
   {
    "duration": 155,
    "start_time": "2023-07-11T11:56:31.996Z"
   },
   {
    "duration": 3292,
    "start_time": "2023-07-11T11:56:32.152Z"
   },
   {
    "duration": 4,
    "start_time": "2023-07-11T11:56:35.446Z"
   },
   {
    "duration": 115,
    "start_time": "2023-07-11T11:56:35.452Z"
   },
   {
    "duration": 4,
    "start_time": "2023-07-11T11:56:35.569Z"
   },
   {
    "duration": 21,
    "start_time": "2023-07-11T11:56:35.575Z"
   },
   {
    "duration": 88394,
    "start_time": "2023-07-11T11:56:35.598Z"
   },
   {
    "duration": 273,
    "start_time": "2023-07-11T11:58:03.994Z"
   },
   {
    "duration": 155,
    "start_time": "2023-07-11T11:58:04.269Z"
   },
   {
    "duration": 675,
    "start_time": "2023-07-11T11:58:04.426Z"
   },
   {
    "duration": 227,
    "start_time": "2023-07-11T11:58:05.113Z"
   },
   {
    "duration": 25,
    "start_time": "2023-07-11T11:58:05.342Z"
   },
   {
    "duration": 12,
    "start_time": "2023-07-11T11:58:05.368Z"
   },
   {
    "duration": 34,
    "start_time": "2023-07-11T11:58:05.382Z"
   },
   {
    "duration": 317,
    "start_time": "2023-07-11T11:58:05.422Z"
   },
   {
    "duration": 143,
    "start_time": "2023-07-11T11:58:05.740Z"
   },
   {
    "duration": 161273,
    "start_time": "2023-07-11T11:58:25.597Z"
   },
   {
    "duration": 828,
    "start_time": "2023-07-11T12:01:06.872Z"
   },
   {
    "duration": 661,
    "start_time": "2023-07-11T12:02:35.987Z"
   },
   {
    "duration": 669,
    "start_time": "2023-07-11T12:02:43.116Z"
   },
   {
    "duration": 148,
    "start_time": "2023-07-11T12:02:45.122Z"
   },
   {
    "duration": 961,
    "start_time": "2023-07-11T12:04:33.988Z"
   },
   {
    "duration": 239,
    "start_time": "2023-07-11T12:04:35.833Z"
   },
   {
    "duration": 675,
    "start_time": "2023-07-11T12:07:58.592Z"
   },
   {
    "duration": 1508,
    "start_time": "2023-07-11T12:08:07.190Z"
   },
   {
    "duration": 65,
    "start_time": "2023-07-11T12:08:08.702Z"
   },
   {
    "duration": 13,
    "start_time": "2023-07-11T12:08:08.768Z"
   },
   {
    "duration": 7,
    "start_time": "2023-07-11T12:08:08.783Z"
   },
   {
    "duration": 7,
    "start_time": "2023-07-11T12:08:08.791Z"
   },
   {
    "duration": 29,
    "start_time": "2023-07-11T12:08:08.799Z"
   },
   {
    "duration": 15,
    "start_time": "2023-07-11T12:08:08.831Z"
   },
   {
    "duration": 211,
    "start_time": "2023-07-11T12:08:08.847Z"
   },
   {
    "duration": 79,
    "start_time": "2023-07-11T12:08:09.061Z"
   },
   {
    "duration": 91,
    "start_time": "2023-07-11T12:08:09.144Z"
   },
   {
    "duration": 55,
    "start_time": "2023-07-11T12:08:09.237Z"
   },
   {
    "duration": 16,
    "start_time": "2023-07-11T12:08:09.294Z"
   },
   {
    "duration": 177,
    "start_time": "2023-07-11T12:08:09.315Z"
   },
   {
    "duration": 160,
    "start_time": "2023-07-11T12:08:09.494Z"
   },
   {
    "duration": 3103,
    "start_time": "2023-07-11T12:08:09.656Z"
   },
   {
    "duration": 4,
    "start_time": "2023-07-11T12:08:12.761Z"
   },
   {
    "duration": 127,
    "start_time": "2023-07-11T12:08:12.766Z"
   },
   {
    "duration": 4,
    "start_time": "2023-07-11T12:08:12.895Z"
   },
   {
    "duration": 39,
    "start_time": "2023-07-11T12:08:12.901Z"
   },
   {
    "duration": 89355,
    "start_time": "2023-07-11T12:08:12.942Z"
   },
   {
    "duration": 679,
    "start_time": "2023-07-11T12:09:42.301Z"
   },
   {
    "duration": 149,
    "start_time": "2023-07-11T12:09:42.982Z"
   },
   {
    "duration": 678,
    "start_time": "2023-07-11T12:09:43.132Z"
   },
   {
    "duration": 226,
    "start_time": "2023-07-11T12:09:43.813Z"
   },
   {
    "duration": 24,
    "start_time": "2023-07-11T12:09:44.041Z"
   },
   {
    "duration": 18,
    "start_time": "2023-07-11T12:09:44.067Z"
   },
   {
    "duration": 16,
    "start_time": "2023-07-11T12:09:44.087Z"
   },
   {
    "duration": 843,
    "start_time": "2023-07-11T12:09:44.109Z"
   },
   {
    "duration": 145,
    "start_time": "2023-07-11T12:09:44.954Z"
   },
   {
    "duration": 1515,
    "start_time": "2023-07-11T12:55:05.814Z"
   },
   {
    "duration": 56,
    "start_time": "2023-07-11T12:55:07.331Z"
   },
   {
    "duration": 17,
    "start_time": "2023-07-11T12:55:07.389Z"
   },
   {
    "duration": 29,
    "start_time": "2023-07-11T12:55:07.408Z"
   },
   {
    "duration": 23,
    "start_time": "2023-07-11T12:55:07.439Z"
   },
   {
    "duration": 21,
    "start_time": "2023-07-11T12:55:07.464Z"
   },
   {
    "duration": 43,
    "start_time": "2023-07-11T12:55:07.487Z"
   },
   {
    "duration": 237,
    "start_time": "2023-07-11T12:55:07.532Z"
   },
   {
    "duration": 81,
    "start_time": "2023-07-11T12:55:07.771Z"
   },
   {
    "duration": 81,
    "start_time": "2023-07-11T12:55:07.855Z"
   },
   {
    "duration": 69,
    "start_time": "2023-07-11T12:55:07.938Z"
   },
   {
    "duration": 5,
    "start_time": "2023-07-11T12:55:08.010Z"
   },
   {
    "duration": 210,
    "start_time": "2023-07-11T12:55:08.018Z"
   },
   {
    "duration": 155,
    "start_time": "2023-07-11T12:55:08.230Z"
   },
   {
    "duration": 1612,
    "start_time": "2023-07-11T12:55:50.462Z"
   },
   {
    "duration": 62,
    "start_time": "2023-07-11T12:55:52.076Z"
   },
   {
    "duration": 19,
    "start_time": "2023-07-11T12:55:52.140Z"
   },
   {
    "duration": 11,
    "start_time": "2023-07-11T12:55:52.162Z"
   },
   {
    "duration": 31,
    "start_time": "2023-07-11T12:55:52.175Z"
   },
   {
    "duration": 14,
    "start_time": "2023-07-11T12:55:52.218Z"
   },
   {
    "duration": 17,
    "start_time": "2023-07-11T12:55:52.234Z"
   },
   {
    "duration": 233,
    "start_time": "2023-07-11T12:55:52.253Z"
   },
   {
    "duration": 83,
    "start_time": "2023-07-11T12:55:52.488Z"
   },
   {
    "duration": 87,
    "start_time": "2023-07-11T12:55:52.575Z"
   },
   {
    "duration": 70,
    "start_time": "2023-07-11T12:55:52.664Z"
   },
   {
    "duration": 8,
    "start_time": "2023-07-11T12:55:52.736Z"
   },
   {
    "duration": 91809,
    "start_time": "2023-07-11T12:55:52.746Z"
   },
   {
    "duration": 182,
    "start_time": "2023-07-11T12:57:24.557Z"
   },
   {
    "duration": 163,
    "start_time": "2023-07-11T12:57:24.741Z"
   },
   {
    "duration": 57699,
    "start_time": "2023-07-11T12:57:24.910Z"
   },
   {
    "duration": 3326,
    "start_time": "2023-07-11T12:58:22.617Z"
   },
   {
    "duration": 4,
    "start_time": "2023-07-11T12:58:25.945Z"
   },
   {
    "duration": 115,
    "start_time": "2023-07-11T12:58:25.951Z"
   },
   {
    "duration": 4,
    "start_time": "2023-07-11T12:58:26.067Z"
   },
   {
    "duration": 13,
    "start_time": "2023-07-11T12:58:26.073Z"
   },
   {
    "duration": 90896,
    "start_time": "2023-07-11T12:58:26.087Z"
   },
   {
    "duration": 713,
    "start_time": "2023-07-11T12:59:56.985Z"
   },
   {
    "duration": 152,
    "start_time": "2023-07-11T12:59:57.706Z"
   },
   {
    "duration": 666,
    "start_time": "2023-07-11T12:59:57.860Z"
   },
   {
    "duration": 302,
    "start_time": "2023-07-11T12:59:58.531Z"
   },
   {
    "duration": 23,
    "start_time": "2023-07-11T12:59:58.835Z"
   },
   {
    "duration": 4,
    "start_time": "2023-07-11T12:59:58.861Z"
   },
   {
    "duration": 32,
    "start_time": "2023-07-11T12:59:58.867Z"
   },
   {
    "duration": 855,
    "start_time": "2023-07-11T12:59:58.900Z"
   },
   {
    "duration": 141,
    "start_time": "2023-07-11T12:59:59.758Z"
   },
   {
    "duration": 177859,
    "start_time": "2023-07-11T13:07:05.513Z"
   },
   {
    "duration": 86060,
    "start_time": "2023-07-11T13:10:03.374Z"
   },
   {
    "duration": 1936,
    "start_time": "2023-07-11T13:17:32.096Z"
   },
   {
    "duration": 55,
    "start_time": "2023-07-11T13:17:34.041Z"
   },
   {
    "duration": 35,
    "start_time": "2023-07-11T13:17:34.098Z"
   },
   {
    "duration": 47,
    "start_time": "2023-07-11T13:17:34.135Z"
   },
   {
    "duration": 8,
    "start_time": "2023-07-11T13:17:34.185Z"
   },
   {
    "duration": 55,
    "start_time": "2023-07-11T13:17:34.195Z"
   },
   {
    "duration": 22,
    "start_time": "2023-07-11T13:17:34.253Z"
   },
   {
    "duration": 233,
    "start_time": "2023-07-11T13:17:34.277Z"
   },
   {
    "duration": 72,
    "start_time": "2023-07-11T13:17:34.512Z"
   },
   {
    "duration": 87,
    "start_time": "2023-07-11T13:17:34.586Z"
   },
   {
    "duration": 80,
    "start_time": "2023-07-11T13:17:34.675Z"
   },
   {
    "duration": 4,
    "start_time": "2023-07-11T13:17:34.757Z"
   },
   {
    "duration": 97465,
    "start_time": "2023-07-11T13:17:34.763Z"
   },
   {
    "duration": 221,
    "start_time": "2023-07-11T13:19:12.237Z"
   },
   {
    "duration": 195,
    "start_time": "2023-07-11T13:19:12.466Z"
   },
   {
    "duration": 61187,
    "start_time": "2023-07-11T13:19:12.664Z"
   },
   {
    "duration": 3162,
    "start_time": "2023-07-11T13:20:13.911Z"
   },
   {
    "duration": 6,
    "start_time": "2023-07-11T13:20:17.075Z"
   },
   {
    "duration": 148,
    "start_time": "2023-07-11T13:20:17.083Z"
   },
   {
    "duration": 6,
    "start_time": "2023-07-11T13:20:17.233Z"
   },
   {
    "duration": 48,
    "start_time": "2023-07-11T13:20:17.240Z"
   },
   {
    "duration": 96406,
    "start_time": "2023-07-11T13:20:17.291Z"
   },
   {
    "duration": 693,
    "start_time": "2023-07-11T13:21:53.699Z"
   },
   {
    "duration": 157,
    "start_time": "2023-07-11T13:21:54.394Z"
   },
   {
    "duration": 663,
    "start_time": "2023-07-11T13:21:54.553Z"
   },
   {
    "duration": 303,
    "start_time": "2023-07-11T13:21:55.224Z"
   },
   {
    "duration": 24,
    "start_time": "2023-07-11T13:21:55.528Z"
   },
   {
    "duration": 4,
    "start_time": "2023-07-11T13:21:55.554Z"
   },
   {
    "duration": 16,
    "start_time": "2023-07-11T13:21:55.561Z"
   },
   {
    "duration": 887,
    "start_time": "2023-07-11T13:21:55.580Z"
   },
   {
    "duration": 157,
    "start_time": "2023-07-11T13:21:56.470Z"
   },
   {
    "duration": 162008,
    "start_time": "2023-07-11T13:37:05.798Z"
   },
   {
    "duration": 824,
    "start_time": "2023-07-11T15:42:57.299Z"
   },
   {
    "duration": 165,
    "start_time": "2023-07-11T15:43:03.046Z"
   },
   {
    "duration": 132,
    "start_time": "2023-07-11T15:43:18.123Z"
   },
   {
    "duration": 1583,
    "start_time": "2023-07-13T04:47:38.451Z"
   },
   {
    "duration": 380,
    "start_time": "2023-07-13T04:47:40.036Z"
   },
   {
    "duration": 12,
    "start_time": "2023-07-13T04:47:40.418Z"
   },
   {
    "duration": 7,
    "start_time": "2023-07-13T04:47:40.432Z"
   },
   {
    "duration": 5,
    "start_time": "2023-07-13T04:47:40.440Z"
   },
   {
    "duration": 5,
    "start_time": "2023-07-13T04:47:40.447Z"
   },
   {
    "duration": 12,
    "start_time": "2023-07-13T04:47:40.454Z"
   },
   {
    "duration": 204,
    "start_time": "2023-07-13T04:47:40.469Z"
   },
   {
    "duration": 67,
    "start_time": "2023-07-13T04:47:40.675Z"
   },
   {
    "duration": 75,
    "start_time": "2023-07-13T04:47:40.744Z"
   },
   {
    "duration": 55,
    "start_time": "2023-07-13T04:47:40.821Z"
   },
   {
    "duration": 5,
    "start_time": "2023-07-13T04:47:40.879Z"
   },
   {
    "duration": 80495,
    "start_time": "2023-07-13T04:47:40.886Z"
   },
   {
    "duration": 398,
    "start_time": "2023-07-13T04:49:01.383Z"
   },
   {
    "duration": 139,
    "start_time": "2023-07-13T04:49:01.783Z"
   },
   {
    "duration": 53249,
    "start_time": "2023-07-13T04:49:01.924Z"
   },
   {
    "duration": 3139,
    "start_time": "2023-07-13T04:49:55.175Z"
   },
   {
    "duration": 4,
    "start_time": "2023-07-13T04:49:58.316Z"
   },
   {
    "duration": 115,
    "start_time": "2023-07-13T04:49:58.321Z"
   },
   {
    "duration": 3,
    "start_time": "2023-07-13T04:49:58.438Z"
   },
   {
    "duration": 6,
    "start_time": "2023-07-13T04:49:58.443Z"
   },
   {
    "duration": 81192,
    "start_time": "2023-07-13T04:49:58.450Z"
   },
   {
    "duration": 590,
    "start_time": "2023-07-13T04:51:19.643Z"
   },
   {
    "duration": 127,
    "start_time": "2023-07-13T04:51:20.235Z"
   },
   {
    "duration": 610,
    "start_time": "2023-07-13T04:51:20.363Z"
   },
   {
    "duration": 214,
    "start_time": "2023-07-13T04:51:20.976Z"
   },
   {
    "duration": 22,
    "start_time": "2023-07-13T04:51:21.192Z"
   },
   {
    "duration": 3,
    "start_time": "2023-07-13T04:51:21.217Z"
   },
   {
    "duration": 9,
    "start_time": "2023-07-13T04:51:21.222Z"
   },
   {
    "duration": 773,
    "start_time": "2023-07-13T04:51:21.232Z"
   },
   {
    "duration": 129,
    "start_time": "2023-07-13T04:51:22.006Z"
   },
   {
    "duration": 829,
    "start_time": "2023-07-13T04:55:23.636Z"
   },
   {
    "duration": 2,
    "start_time": "2023-07-13T04:56:56.504Z"
   },
   {
    "duration": 3,
    "start_time": "2023-07-13T04:57:56.440Z"
   },
   {
    "duration": 202,
    "start_time": "2023-07-13T05:11:09.800Z"
   },
   {
    "duration": 115,
    "start_time": "2023-07-13T05:11:11.019Z"
   },
   {
    "duration": 26228,
    "start_time": "2023-07-13T05:11:33.459Z"
   },
   {
    "duration": 25997,
    "start_time": "2023-07-13T05:12:31.688Z"
   },
   {
    "duration": 530,
    "start_time": "2023-07-13T05:14:26.552Z"
   },
   {
    "duration": 119,
    "start_time": "2023-07-13T05:14:28.700Z"
   },
   {
    "duration": 247,
    "start_time": "2023-07-13T05:15:24.120Z"
   },
   {
    "duration": 120,
    "start_time": "2023-07-13T05:15:26.232Z"
   },
   {
    "duration": 82918,
    "start_time": "2023-07-13T05:16:31.562Z"
   },
   {
    "duration": 1410,
    "start_time": "2023-07-13T05:18:27.168Z"
   },
   {
    "duration": 54,
    "start_time": "2023-07-13T05:18:28.584Z"
   },
   {
    "duration": 12,
    "start_time": "2023-07-13T05:18:28.639Z"
   },
   {
    "duration": 7,
    "start_time": "2023-07-13T05:18:28.653Z"
   },
   {
    "duration": 17,
    "start_time": "2023-07-13T05:18:28.661Z"
   },
   {
    "duration": 4,
    "start_time": "2023-07-13T05:18:28.681Z"
   },
   {
    "duration": 12,
    "start_time": "2023-07-13T05:18:28.687Z"
   },
   {
    "duration": 217,
    "start_time": "2023-07-13T05:18:28.700Z"
   },
   {
    "duration": 72,
    "start_time": "2023-07-13T05:18:28.919Z"
   },
   {
    "duration": 62,
    "start_time": "2023-07-13T05:18:28.993Z"
   },
   {
    "duration": 61,
    "start_time": "2023-07-13T05:18:29.057Z"
   },
   {
    "duration": 4,
    "start_time": "2023-07-13T05:18:29.119Z"
   },
   {
    "duration": 79283,
    "start_time": "2023-07-13T05:18:29.125Z"
   },
   {
    "duration": 153,
    "start_time": "2023-07-13T05:19:48.410Z"
   },
   {
    "duration": 130,
    "start_time": "2023-07-13T05:19:48.568Z"
   },
   {
    "duration": 54669,
    "start_time": "2023-07-13T05:19:48.700Z"
   },
   {
    "duration": 3044,
    "start_time": "2023-07-13T05:20:43.373Z"
   },
   {
    "duration": 4,
    "start_time": "2023-07-13T05:20:46.418Z"
   },
   {
    "duration": 130,
    "start_time": "2023-07-13T05:20:46.424Z"
   },
   {
    "duration": 4,
    "start_time": "2023-07-13T05:20:46.555Z"
   },
   {
    "duration": 4,
    "start_time": "2023-07-13T05:20:46.568Z"
   },
   {
    "duration": 79037,
    "start_time": "2023-07-13T05:20:46.574Z"
   },
   {
    "duration": 205,
    "start_time": "2023-07-13T05:22:05.612Z"
   },
   {
    "duration": 140,
    "start_time": "2023-07-13T05:22:05.819Z"
   },
   {
    "duration": 26231,
    "start_time": "2023-07-13T05:22:05.961Z"
   },
   {
    "duration": 694,
    "start_time": "2023-07-13T05:22:32.280Z"
   },
   {
    "duration": 290,
    "start_time": "2023-07-13T05:22:32.981Z"
   },
   {
    "duration": 25,
    "start_time": "2023-07-13T05:22:33.273Z"
   },
   {
    "duration": 4,
    "start_time": "2023-07-13T05:22:33.299Z"
   },
   {
    "duration": 5,
    "start_time": "2023-07-13T05:22:33.305Z"
   },
   {
    "duration": 898,
    "start_time": "2023-07-13T05:22:33.311Z"
   },
   {
    "duration": 145,
    "start_time": "2023-07-13T05:22:34.211Z"
   },
   {
    "duration": 82410,
    "start_time": "2023-07-13T05:22:54.060Z"
   },
   {
    "duration": 1455,
    "start_time": "2023-07-13T07:34:20.508Z"
   },
   {
    "duration": 55,
    "start_time": "2023-07-13T07:34:21.964Z"
   },
   {
    "duration": 18,
    "start_time": "2023-07-13T07:34:22.022Z"
   },
   {
    "duration": 10,
    "start_time": "2023-07-13T07:34:22.043Z"
   },
   {
    "duration": 14,
    "start_time": "2023-07-13T07:34:22.054Z"
   },
   {
    "duration": 9,
    "start_time": "2023-07-13T07:34:22.070Z"
   },
   {
    "duration": 18,
    "start_time": "2023-07-13T07:34:22.081Z"
   },
   {
    "duration": 232,
    "start_time": "2023-07-13T07:34:22.101Z"
   },
   {
    "duration": 73,
    "start_time": "2023-07-13T07:34:22.336Z"
   },
   {
    "duration": 69,
    "start_time": "2023-07-13T07:34:22.412Z"
   },
   {
    "duration": 61,
    "start_time": "2023-07-13T07:34:22.482Z"
   },
   {
    "duration": 5,
    "start_time": "2023-07-13T07:34:22.545Z"
   },
   {
    "duration": 1490,
    "start_time": "2023-07-13T07:35:40.844Z"
   },
   {
    "duration": 53,
    "start_time": "2023-07-13T07:35:42.335Z"
   },
   {
    "duration": 16,
    "start_time": "2023-07-13T07:35:42.390Z"
   },
   {
    "duration": 14,
    "start_time": "2023-07-13T07:35:42.408Z"
   },
   {
    "duration": 29,
    "start_time": "2023-07-13T07:35:42.424Z"
   },
   {
    "duration": 13,
    "start_time": "2023-07-13T07:35:42.455Z"
   },
   {
    "duration": 15,
    "start_time": "2023-07-13T07:35:42.470Z"
   },
   {
    "duration": 210,
    "start_time": "2023-07-13T07:35:42.486Z"
   },
   {
    "duration": 75,
    "start_time": "2023-07-13T07:35:42.697Z"
   },
   {
    "duration": 66,
    "start_time": "2023-07-13T07:35:42.775Z"
   },
   {
    "duration": 64,
    "start_time": "2023-07-13T07:35:42.842Z"
   },
   {
    "duration": 6,
    "start_time": "2023-07-13T07:35:42.909Z"
   },
   {
    "duration": 80781,
    "start_time": "2023-07-13T07:35:42.917Z"
   },
   {
    "duration": 161,
    "start_time": "2023-07-13T07:37:03.700Z"
   },
   {
    "duration": 156,
    "start_time": "2023-07-13T07:37:03.863Z"
   },
   {
    "duration": 68260,
    "start_time": "2023-07-13T07:37:04.021Z"
   },
   {
    "duration": 3724,
    "start_time": "2023-07-13T07:38:12.284Z"
   },
   {
    "duration": 4,
    "start_time": "2023-07-13T07:38:16.010Z"
   },
   {
    "duration": 100,
    "start_time": "2023-07-13T07:38:16.016Z"
   },
   {
    "duration": 4,
    "start_time": "2023-07-13T07:38:16.118Z"
   },
   {
    "duration": 5,
    "start_time": "2023-07-13T07:38:16.123Z"
   },
   {
    "duration": 85827,
    "start_time": "2023-07-13T07:38:16.130Z"
   },
   {
    "duration": 216,
    "start_time": "2023-07-13T07:39:41.960Z"
   },
   {
    "duration": 134,
    "start_time": "2023-07-13T07:39:42.178Z"
   },
   {
    "duration": 29253,
    "start_time": "2023-07-13T07:39:42.314Z"
   },
   {
    "duration": 732,
    "start_time": "2023-07-13T07:40:11.570Z"
   },
   {
    "duration": 370,
    "start_time": "2023-07-13T07:40:12.304Z"
   },
   {
    "duration": 23,
    "start_time": "2023-07-13T07:40:12.678Z"
   },
   {
    "duration": 5,
    "start_time": "2023-07-13T07:40:12.703Z"
   },
   {
    "duration": 6,
    "start_time": "2023-07-13T07:40:12.709Z"
   },
   {
    "duration": 868,
    "start_time": "2023-07-13T07:40:12.717Z"
   },
   {
    "duration": 140,
    "start_time": "2023-07-13T07:40:13.587Z"
   },
   {
    "duration": 96097,
    "start_time": "2023-07-13T07:42:16.581Z"
   },
   {
    "duration": 1494,
    "start_time": "2023-07-13T07:44:35.994Z"
   },
   {
    "duration": 57,
    "start_time": "2023-07-13T07:44:37.490Z"
   },
   {
    "duration": 13,
    "start_time": "2023-07-13T07:44:37.549Z"
   },
   {
    "duration": 18,
    "start_time": "2023-07-13T07:44:37.564Z"
   },
   {
    "duration": 7,
    "start_time": "2023-07-13T07:44:37.584Z"
   },
   {
    "duration": 11,
    "start_time": "2023-07-13T07:44:37.593Z"
   },
   {
    "duration": 17,
    "start_time": "2023-07-13T07:44:37.606Z"
   },
   {
    "duration": 220,
    "start_time": "2023-07-13T07:44:37.625Z"
   },
   {
    "duration": 74,
    "start_time": "2023-07-13T07:44:37.846Z"
   },
   {
    "duration": 67,
    "start_time": "2023-07-13T07:44:37.922Z"
   },
   {
    "duration": 67,
    "start_time": "2023-07-13T07:44:37.991Z"
   },
   {
    "duration": 6,
    "start_time": "2023-07-13T07:44:38.069Z"
   },
   {
    "duration": 78851,
    "start_time": "2023-07-13T07:44:38.077Z"
   },
   {
    "duration": 154,
    "start_time": "2023-07-13T07:45:56.931Z"
   },
   {
    "duration": 138,
    "start_time": "2023-07-13T07:45:57.087Z"
   },
   {
    "duration": 62143,
    "start_time": "2023-07-13T07:45:57.227Z"
   },
   {
    "duration": 3522,
    "start_time": "2023-07-13T07:46:59.377Z"
   },
   {
    "duration": 4,
    "start_time": "2023-07-13T07:47:02.901Z"
   },
   {
    "duration": 119,
    "start_time": "2023-07-13T07:47:02.906Z"
   },
   {
    "duration": 4,
    "start_time": "2023-07-13T07:47:03.027Z"
   },
   {
    "duration": 16,
    "start_time": "2023-07-13T07:47:03.032Z"
   },
   {
    "duration": 78762,
    "start_time": "2023-07-13T07:47:03.050Z"
   },
   {
    "duration": 216,
    "start_time": "2023-07-13T07:48:21.814Z"
   },
   {
    "duration": 124,
    "start_time": "2023-07-13T07:48:22.032Z"
   },
   {
    "duration": 26613,
    "start_time": "2023-07-13T07:48:22.157Z"
   },
   {
    "duration": 616,
    "start_time": "2023-07-13T07:48:48.775Z"
   },
   {
    "duration": 206,
    "start_time": "2023-07-13T07:48:49.471Z"
   },
   {
    "duration": 24,
    "start_time": "2023-07-13T07:48:49.679Z"
   },
   {
    "duration": 29,
    "start_time": "2023-07-13T07:48:49.705Z"
   },
   {
    "duration": 27,
    "start_time": "2023-07-13T07:48:49.736Z"
   },
   {
    "duration": 804,
    "start_time": "2023-07-13T07:48:49.765Z"
   },
   {
    "duration": 121,
    "start_time": "2023-07-13T07:48:50.570Z"
   },
   {
    "duration": 92876,
    "start_time": "2023-07-13T07:48:50.693Z"
   },
   {
    "duration": 15393,
    "start_time": "2023-07-13T07:51:30.876Z"
   },
   {
    "duration": 15134,
    "start_time": "2023-07-13T07:53:20.435Z"
   },
   {
    "duration": 15194,
    "start_time": "2023-07-13T07:53:57.476Z"
   },
   {
    "duration": 1443,
    "start_time": "2023-07-13T07:55:04.849Z"
   },
   {
    "duration": 58,
    "start_time": "2023-07-13T07:55:06.294Z"
   },
   {
    "duration": 14,
    "start_time": "2023-07-13T07:55:06.355Z"
   },
   {
    "duration": 14,
    "start_time": "2023-07-13T07:55:06.372Z"
   },
   {
    "duration": 10,
    "start_time": "2023-07-13T07:55:06.388Z"
   },
   {
    "duration": 11,
    "start_time": "2023-07-13T07:55:06.400Z"
   },
   {
    "duration": 14,
    "start_time": "2023-07-13T07:55:06.413Z"
   },
   {
    "duration": 214,
    "start_time": "2023-07-13T07:55:06.428Z"
   },
   {
    "duration": 76,
    "start_time": "2023-07-13T07:55:06.644Z"
   },
   {
    "duration": 90,
    "start_time": "2023-07-13T07:55:06.724Z"
   },
   {
    "duration": 58,
    "start_time": "2023-07-13T07:55:06.816Z"
   },
   {
    "duration": 5,
    "start_time": "2023-07-13T07:55:06.876Z"
   },
   {
    "duration": 80827,
    "start_time": "2023-07-13T07:55:06.883Z"
   },
   {
    "duration": 173,
    "start_time": "2023-07-13T07:56:27.712Z"
   },
   {
    "duration": 156,
    "start_time": "2023-07-13T07:56:27.887Z"
   },
   {
    "duration": 9225,
    "start_time": "2023-07-13T07:56:28.044Z"
   },
   {
    "duration": 3637,
    "start_time": "2023-07-13T07:56:37.271Z"
   },
   {
    "duration": 5,
    "start_time": "2023-07-13T07:56:40.910Z"
   },
   {
    "duration": 108,
    "start_time": "2023-07-13T07:56:40.918Z"
   },
   {
    "duration": 5,
    "start_time": "2023-07-13T07:56:41.028Z"
   },
   {
    "duration": 6,
    "start_time": "2023-07-13T07:56:41.034Z"
   },
   {
    "duration": 83614,
    "start_time": "2023-07-13T07:56:41.042Z"
   },
   {
    "duration": 209,
    "start_time": "2023-07-13T07:58:04.658Z"
   },
   {
    "duration": 140,
    "start_time": "2023-07-13T07:58:04.869Z"
   },
   {
    "duration": 26557,
    "start_time": "2023-07-13T07:58:05.012Z"
   },
   {
    "duration": 711,
    "start_time": "2023-07-13T07:58:31.571Z"
   },
   {
    "duration": 162,
    "start_time": "2023-07-13T07:58:32.367Z"
   },
   {
    "duration": 23,
    "start_time": "2023-07-13T07:58:32.534Z"
   },
   {
    "duration": 5,
    "start_time": "2023-07-13T07:58:32.568Z"
   },
   {
    "duration": 28,
    "start_time": "2023-07-13T07:58:32.575Z"
   },
   {
    "duration": 832,
    "start_time": "2023-07-13T07:58:32.605Z"
   },
   {
    "duration": 140,
    "start_time": "2023-07-13T07:58:33.439Z"
   },
   {
    "duration": 14517,
    "start_time": "2023-07-13T08:00:39.052Z"
   },
   {
    "duration": 14797,
    "start_time": "2023-07-13T08:01:22.573Z"
   },
   {
    "duration": 111540,
    "start_time": "2023-07-13T08:03:04.127Z"
   },
   {
    "duration": 2412,
    "start_time": "2023-07-13T08:11:13.713Z"
   },
   {
    "duration": 176,
    "start_time": "2023-07-13T08:11:16.127Z"
   },
   {
    "duration": 17,
    "start_time": "2023-07-13T08:11:16.309Z"
   },
   {
    "duration": 18,
    "start_time": "2023-07-13T08:11:16.329Z"
   },
   {
    "duration": 14,
    "start_time": "2023-07-13T08:11:16.349Z"
   },
   {
    "duration": 22,
    "start_time": "2023-07-13T08:11:16.365Z"
   },
   {
    "duration": 26,
    "start_time": "2023-07-13T08:11:16.389Z"
   },
   {
    "duration": 203,
    "start_time": "2023-07-13T08:11:16.417Z"
   },
   {
    "duration": 72,
    "start_time": "2023-07-13T08:11:16.623Z"
   },
   {
    "duration": 71,
    "start_time": "2023-07-13T08:11:16.698Z"
   },
   {
    "duration": 53,
    "start_time": "2023-07-13T08:11:16.771Z"
   },
   {
    "duration": 5,
    "start_time": "2023-07-13T08:11:16.826Z"
   },
   {
    "duration": 84189,
    "start_time": "2023-07-13T08:11:16.833Z"
   },
   {
    "duration": 154,
    "start_time": "2023-07-13T08:12:41.024Z"
   },
   {
    "duration": 133,
    "start_time": "2023-07-13T08:12:41.179Z"
   },
   {
    "duration": 8960,
    "start_time": "2023-07-13T08:12:41.313Z"
   },
   {
    "duration": 3943,
    "start_time": "2023-07-13T08:12:50.275Z"
   },
   {
    "duration": 4,
    "start_time": "2023-07-13T08:12:54.220Z"
   },
   {
    "duration": 123,
    "start_time": "2023-07-13T08:12:54.227Z"
   },
   {
    "duration": 3,
    "start_time": "2023-07-13T08:12:54.352Z"
   },
   {
    "duration": 6,
    "start_time": "2023-07-13T08:12:54.356Z"
   },
   {
    "duration": 112396,
    "start_time": "2023-07-13T08:12:54.368Z"
   },
   {
    "duration": 593,
    "start_time": "2023-07-13T08:14:46.767Z"
   },
   {
    "duration": 123,
    "start_time": "2023-07-13T08:14:47.361Z"
   },
   {
    "duration": 26505,
    "start_time": "2023-07-13T08:14:47.485Z"
   },
   {
    "duration": 699,
    "start_time": "2023-07-13T08:15:14.069Z"
   },
   {
    "duration": 212,
    "start_time": "2023-07-13T08:15:14.771Z"
   },
   {
    "duration": 20,
    "start_time": "2023-07-13T08:15:14.986Z"
   },
   {
    "duration": 4,
    "start_time": "2023-07-13T08:15:15.008Z"
   },
   {
    "duration": 56,
    "start_time": "2023-07-13T08:15:15.013Z"
   },
   {
    "duration": 788,
    "start_time": "2023-07-13T08:15:15.071Z"
   },
   {
    "duration": 131,
    "start_time": "2023-07-13T08:15:15.861Z"
   },
   {
    "duration": 16,
    "start_time": "2023-07-13T08:17:52.006Z"
   },
   {
    "duration": 1632,
    "start_time": "2023-07-13T15:08:18.967Z"
   },
   {
    "duration": 127,
    "start_time": "2023-07-13T15:10:05.201Z"
   },
   {
    "duration": 3,
    "start_time": "2023-07-13T15:10:21.389Z"
   },
   {
    "duration": 93,
    "start_time": "2023-07-13T15:10:22.654Z"
   },
   {
    "duration": 13,
    "start_time": "2023-07-13T15:10:23.024Z"
   },
   {
    "duration": 7,
    "start_time": "2023-07-13T15:10:23.415Z"
   },
   {
    "duration": 6,
    "start_time": "2023-07-13T15:10:24.228Z"
   },
   {
    "duration": 12,
    "start_time": "2023-07-13T15:10:26.241Z"
   },
   {
    "duration": 11,
    "start_time": "2023-07-13T15:10:48.457Z"
   },
   {
    "duration": 139,
    "start_time": "2023-07-13T15:12:46.790Z"
   },
   {
    "duration": 113,
    "start_time": "2023-07-13T15:13:31.230Z"
   },
   {
    "duration": 201,
    "start_time": "2023-07-13T15:13:41.660Z"
   },
   {
    "duration": 1184,
    "start_time": "2023-07-13T15:13:58.284Z"
   },
   {
    "duration": 1502,
    "start_time": "2023-07-13T15:14:20.888Z"
   },
   {
    "duration": 109,
    "start_time": "2023-07-13T15:16:39.651Z"
   },
   {
    "duration": 9,
    "start_time": "2023-07-13T15:17:03.625Z"
   },
   {
    "duration": 14,
    "start_time": "2023-07-13T15:17:14.218Z"
   },
   {
    "duration": 5,
    "start_time": "2023-07-13T15:17:41.249Z"
   },
   {
    "duration": 5,
    "start_time": "2023-07-13T15:17:59.383Z"
   },
   {
    "duration": 9,
    "start_time": "2023-07-13T15:18:09.419Z"
   },
   {
    "duration": 4,
    "start_time": "2023-07-13T15:18:20.788Z"
   },
   {
    "duration": 202,
    "start_time": "2023-07-13T15:18:47.306Z"
   },
   {
    "duration": 219,
    "start_time": "2023-07-13T15:19:19.304Z"
   },
   {
    "duration": 76,
    "start_time": "2023-07-13T15:21:32.474Z"
   },
   {
    "duration": 215,
    "start_time": "2023-07-13T15:21:38.535Z"
   },
   {
    "duration": 5,
    "start_time": "2023-07-13T15:22:52.885Z"
   },
   {
    "duration": 5,
    "start_time": "2023-07-13T15:24:16.287Z"
   },
   {
    "duration": 224,
    "start_time": "2023-07-13T15:24:17.591Z"
   },
   {
    "duration": 1435,
    "start_time": "2023-07-13T15:25:15.634Z"
   },
   {
    "duration": 53,
    "start_time": "2023-07-13T15:25:17.071Z"
   },
   {
    "duration": 12,
    "start_time": "2023-07-13T15:25:17.126Z"
   },
   {
    "duration": 6,
    "start_time": "2023-07-13T15:25:17.140Z"
   },
   {
    "duration": 11,
    "start_time": "2023-07-13T15:25:17.147Z"
   },
   {
    "duration": 10,
    "start_time": "2023-07-13T15:25:17.160Z"
   },
   {
    "duration": 7,
    "start_time": "2023-07-13T15:25:17.171Z"
   },
   {
    "duration": 252,
    "start_time": "2023-07-13T15:25:17.179Z"
   },
   {
    "duration": 12,
    "start_time": "2023-07-13T15:25:17.432Z"
   },
   {
    "duration": 11,
    "start_time": "2023-07-13T15:25:17.447Z"
   },
   {
    "duration": 1340,
    "start_time": "2023-07-13T15:25:17.459Z"
   },
   {
    "duration": 16,
    "start_time": "2023-07-13T15:25:18.801Z"
   },
   {
    "duration": 185,
    "start_time": "2023-07-13T15:25:18.819Z"
   },
   {
    "duration": 240,
    "start_time": "2023-07-13T15:25:19.006Z"
   },
   {
    "duration": 191,
    "start_time": "2023-07-13T15:25:19.248Z"
   },
   {
    "duration": 4,
    "start_time": "2023-07-13T15:25:19.440Z"
   },
   {
    "duration": 46,
    "start_time": "2023-07-13T15:25:49.740Z"
   },
   {
    "duration": 5,
    "start_time": "2023-07-13T15:25:50.198Z"
   },
   {
    "duration": 1284,
    "start_time": "2023-07-13T15:25:53.799Z"
   },
   {
    "duration": 52,
    "start_time": "2023-07-13T15:25:55.250Z"
   },
   {
    "duration": 12,
    "start_time": "2023-07-13T15:25:55.694Z"
   },
   {
    "duration": 7,
    "start_time": "2023-07-13T15:25:58.444Z"
   },
   {
    "duration": 7,
    "start_time": "2023-07-13T15:26:01.339Z"
   },
   {
    "duration": 151,
    "start_time": "2023-07-13T15:26:05.898Z"
   },
   {
    "duration": 162,
    "start_time": "2023-07-13T15:26:12.613Z"
   },
   {
    "duration": 144,
    "start_time": "2023-07-13T15:26:18.290Z"
   },
   {
    "duration": 133,
    "start_time": "2023-07-13T15:26:21.990Z"
   },
   {
    "duration": 118,
    "start_time": "2023-07-13T15:27:26.942Z"
   },
   {
    "duration": 5,
    "start_time": "2023-07-13T16:26:34.599Z"
   },
   {
    "duration": 244,
    "start_time": "2023-07-13T16:26:41.432Z"
   },
   {
    "duration": 15,
    "start_time": "2023-07-13T16:26:41.906Z"
   },
   {
    "duration": 4,
    "start_time": "2023-07-13T16:27:11.341Z"
   },
   {
    "duration": 11,
    "start_time": "2023-07-13T16:27:11.608Z"
   },
   {
    "duration": 10,
    "start_time": "2023-07-13T16:27:12.052Z"
   },
   {
    "duration": 111,
    "start_time": "2023-07-13T18:18:08.091Z"
   },
   {
    "duration": 3,
    "start_time": "2023-07-13T18:18:13.315Z"
   },
   {
    "duration": 182,
    "start_time": "2023-07-13T18:18:13.635Z"
   },
   {
    "duration": 54,
    "start_time": "2023-07-14T07:04:34.217Z"
   },
   {
    "duration": 7,
    "start_time": "2023-07-14T07:04:36.989Z"
   },
   {
    "duration": 6,
    "start_time": "2023-07-14T07:04:37.373Z"
   },
   {
    "duration": 1448,
    "start_time": "2023-07-14T07:06:19.509Z"
   },
   {
    "duration": 3,
    "start_time": "2023-07-14T07:06:20.959Z"
   },
   {
    "duration": 414,
    "start_time": "2023-07-14T07:06:21.094Z"
   },
   {
    "duration": 7,
    "start_time": "2023-07-14T07:06:21.509Z"
   },
   {
    "duration": 5,
    "start_time": "2023-07-14T07:06:22.165Z"
   },
   {
    "duration": 4,
    "start_time": "2023-07-14T07:06:23.356Z"
   },
   {
    "duration": 4,
    "start_time": "2023-07-14T07:06:23.715Z"
   },
   {
    "duration": 157,
    "start_time": "2023-07-14T07:06:24.157Z"
   },
   {
    "duration": 13,
    "start_time": "2023-07-14T07:06:24.992Z"
   },
   {
    "duration": 12,
    "start_time": "2023-07-14T07:06:26.539Z"
   },
   {
    "duration": 7,
    "start_time": "2023-07-14T07:06:28.789Z"
   },
   {
    "duration": 59,
    "start_time": "2023-07-14T07:06:29.323Z"
   },
   {
    "duration": 860,
    "start_time": "2023-07-14T07:06:30.067Z"
   },
   {
    "duration": 72,
    "start_time": "2023-07-14T07:10:45.352Z"
   },
   {
    "duration": 66,
    "start_time": "2023-07-14T07:20:01.453Z"
   },
   {
    "duration": 16,
    "start_time": "2023-07-14T07:20:01.964Z"
   },
   {
    "duration": 219,
    "start_time": "2023-07-14T07:20:03.965Z"
   },
   {
    "duration": 218,
    "start_time": "2023-07-14T07:20:04.477Z"
   },
   {
    "duration": 177,
    "start_time": "2023-07-14T07:20:04.988Z"
   },
   {
    "duration": 4,
    "start_time": "2023-07-14T07:20:06.469Z"
   },
   {
    "duration": 75,
    "start_time": "2023-07-14T07:20:10.394Z"
   },
   {
    "duration": 15,
    "start_time": "2023-07-14T07:20:11.309Z"
   },
   {
    "duration": 1465,
    "start_time": "2023-07-14T07:20:36.077Z"
   },
   {
    "duration": 4,
    "start_time": "2023-07-14T07:20:37.544Z"
   },
   {
    "duration": 117,
    "start_time": "2023-07-14T07:20:37.645Z"
   },
   {
    "duration": 8,
    "start_time": "2023-07-14T07:20:38.381Z"
   },
   {
    "duration": 6,
    "start_time": "2023-07-14T07:20:39.662Z"
   },
   {
    "duration": 4,
    "start_time": "2023-07-14T07:20:42.245Z"
   },
   {
    "duration": 3,
    "start_time": "2023-07-14T07:20:45.229Z"
   },
   {
    "duration": 154,
    "start_time": "2023-07-14T07:20:45.621Z"
   },
   {
    "duration": 15,
    "start_time": "2023-07-14T07:20:46.732Z"
   },
   {
    "duration": 15,
    "start_time": "2023-07-14T07:20:48.260Z"
   },
   {
    "duration": 115,
    "start_time": "2023-07-14T07:21:04.637Z"
   },
   {
    "duration": 10,
    "start_time": "2023-07-14T07:21:05.156Z"
   },
   {
    "duration": 8,
    "start_time": "2023-07-14T07:21:15.516Z"
   },
   {
    "duration": 10,
    "start_time": "2023-07-14T07:21:17.364Z"
   },
   {
    "duration": 8,
    "start_time": "2023-07-14T07:21:19.492Z"
   },
   {
    "duration": 4,
    "start_time": "2023-07-14T07:21:21.165Z"
   },
   {
    "duration": 4,
    "start_time": "2023-07-14T07:21:29.221Z"
   },
   {
    "duration": 1337,
    "start_time": "2023-07-14T07:22:19.588Z"
   },
   {
    "duration": 4,
    "start_time": "2023-07-14T07:22:20.928Z"
   },
   {
    "duration": 108,
    "start_time": "2023-07-14T07:22:21.092Z"
   },
   {
    "duration": 8,
    "start_time": "2023-07-14T07:22:21.492Z"
   },
   {
    "duration": 6,
    "start_time": "2023-07-14T07:22:22.364Z"
   },
   {
    "duration": 5,
    "start_time": "2023-07-14T07:22:23.500Z"
   },
   {
    "duration": 5,
    "start_time": "2023-07-14T07:22:23.987Z"
   },
   {
    "duration": 175,
    "start_time": "2023-07-14T07:22:25.972Z"
   },
   {
    "duration": 13,
    "start_time": "2023-07-14T07:22:26.763Z"
   },
   {
    "duration": 15,
    "start_time": "2023-07-14T07:22:28.043Z"
   },
   {
    "duration": 8,
    "start_time": "2023-07-14T07:22:31.549Z"
   },
   {
    "duration": 5,
    "start_time": "2023-07-14T07:22:38.691Z"
   },
   {
    "duration": 10,
    "start_time": "2023-07-14T07:22:39.075Z"
   },
   {
    "duration": 8,
    "start_time": "2023-07-14T07:22:39.444Z"
   },
   {
    "duration": 5,
    "start_time": "2023-07-14T07:22:39.811Z"
   },
   {
    "duration": 58,
    "start_time": "2023-07-14T07:23:55.948Z"
   },
   {
    "duration": 111,
    "start_time": "2023-07-14T07:23:56.260Z"
   },
   {
    "duration": 9,
    "start_time": "2023-07-14T07:24:24.851Z"
   },
   {
    "duration": 10,
    "start_time": "2023-07-14T07:24:38.299Z"
   },
   {
    "duration": 9,
    "start_time": "2023-07-14T07:24:41.579Z"
   },
   {
    "duration": 4,
    "start_time": "2023-07-14T07:24:49.451Z"
   },
   {
    "duration": 79,
    "start_time": "2023-07-14T07:24:50.891Z"
   },
   {
    "duration": 9,
    "start_time": "2023-07-14T07:30:49.937Z"
   },
   {
    "duration": 11,
    "start_time": "2023-07-14T07:31:06.889Z"
   },
   {
    "duration": 13,
    "start_time": "2023-07-14T07:31:14.017Z"
   },
   {
    "duration": 5,
    "start_time": "2023-07-14T07:32:30.096Z"
   },
   {
    "duration": 17,
    "start_time": "2023-07-14T07:33:20.329Z"
   },
   {
    "duration": 18,
    "start_time": "2023-07-14T07:33:36.201Z"
   },
   {
    "duration": 11,
    "start_time": "2023-07-14T07:33:47.848Z"
   },
   {
    "duration": 5,
    "start_time": "2023-07-14T07:34:17.680Z"
   },
   {
    "duration": 7,
    "start_time": "2023-07-14T07:34:58.624Z"
   },
   {
    "duration": 6921,
    "start_time": "2023-07-14T07:38:39.446Z"
   },
   {
    "duration": 5,
    "start_time": "2023-07-14T07:38:46.369Z"
   },
   {
    "duration": 18,
    "start_time": "2023-07-14T08:06:48.592Z"
   },
   {
    "duration": 2170,
    "start_time": "2023-07-14T08:08:49.482Z"
   },
   {
    "duration": 1207,
    "start_time": "2023-07-14T08:08:51.655Z"
   },
   {
    "duration": 3,
    "start_time": "2023-07-14T08:08:52.863Z"
   },
   {
    "duration": 124,
    "start_time": "2023-07-14T08:08:52.869Z"
   },
   {
    "duration": 8,
    "start_time": "2023-07-14T08:08:52.995Z"
   },
   {
    "duration": 17,
    "start_time": "2023-07-14T08:08:53.005Z"
   },
   {
    "duration": 4,
    "start_time": "2023-07-14T08:08:53.024Z"
   },
   {
    "duration": 5,
    "start_time": "2023-07-14T08:08:53.029Z"
   },
   {
    "duration": 196,
    "start_time": "2023-07-14T08:08:53.036Z"
   },
   {
    "duration": 13,
    "start_time": "2023-07-14T08:08:53.234Z"
   },
   {
    "duration": 21,
    "start_time": "2023-07-14T08:08:53.248Z"
   },
   {
    "duration": 8,
    "start_time": "2023-07-14T08:08:53.272Z"
   },
   {
    "duration": 5,
    "start_time": "2023-07-14T08:08:53.283Z"
   },
   {
    "duration": 10,
    "start_time": "2023-07-14T08:08:53.290Z"
   },
   {
    "duration": 16,
    "start_time": "2023-07-14T08:08:53.302Z"
   },
   {
    "duration": 4,
    "start_time": "2023-07-14T08:08:53.320Z"
   },
   {
    "duration": 8,
    "start_time": "2023-07-14T08:08:53.325Z"
   },
   {
    "duration": 77,
    "start_time": "2023-07-14T08:08:53.334Z"
   },
   {
    "duration": 0,
    "start_time": "2023-07-14T08:08:53.413Z"
   },
   {
    "duration": 0,
    "start_time": "2023-07-14T08:08:53.414Z"
   },
   {
    "duration": 0,
    "start_time": "2023-07-14T08:08:53.415Z"
   },
   {
    "duration": 0,
    "start_time": "2023-07-14T08:08:53.416Z"
   },
   {
    "duration": 0,
    "start_time": "2023-07-14T08:08:53.417Z"
   },
   {
    "duration": 0,
    "start_time": "2023-07-14T08:08:53.418Z"
   },
   {
    "duration": 0,
    "start_time": "2023-07-14T08:08:53.419Z"
   },
   {
    "duration": 0,
    "start_time": "2023-07-14T08:08:53.420Z"
   },
   {
    "duration": 0,
    "start_time": "2023-07-14T08:08:53.421Z"
   },
   {
    "duration": 0,
    "start_time": "2023-07-14T08:08:53.422Z"
   },
   {
    "duration": 0,
    "start_time": "2023-07-14T08:08:53.423Z"
   },
   {
    "duration": 0,
    "start_time": "2023-07-14T08:08:53.424Z"
   },
   {
    "duration": 0,
    "start_time": "2023-07-14T08:08:53.425Z"
   },
   {
    "duration": 0,
    "start_time": "2023-07-14T08:08:53.426Z"
   },
   {
    "duration": 71,
    "start_time": "2023-07-14T08:12:17.299Z"
   },
   {
    "duration": 174,
    "start_time": "2023-07-14T08:12:46.346Z"
   },
   {
    "duration": 99,
    "start_time": "2023-07-14T08:13:07.211Z"
   },
   {
    "duration": 16168,
    "start_time": "2023-07-14T08:13:17.698Z"
   },
   {
    "duration": 14740,
    "start_time": "2023-07-14T08:15:21.905Z"
   },
   {
    "duration": 0,
    "start_time": "2023-07-14T08:15:36.647Z"
   },
   {
    "duration": 134,
    "start_time": "2023-07-14T08:16:17.383Z"
   },
   {
    "duration": 98,
    "start_time": "2023-07-14T08:16:59.000Z"
   },
   {
    "duration": 7,
    "start_time": "2023-07-14T08:17:41.110Z"
   },
   {
    "duration": 2085,
    "start_time": "2023-07-14T08:17:54.937Z"
   },
   {
    "duration": 1134,
    "start_time": "2023-07-14T08:17:57.024Z"
   },
   {
    "duration": 4,
    "start_time": "2023-07-14T08:17:58.159Z"
   },
   {
    "duration": 110,
    "start_time": "2023-07-14T08:17:58.165Z"
   },
   {
    "duration": 7,
    "start_time": "2023-07-14T08:17:58.277Z"
   },
   {
    "duration": 40,
    "start_time": "2023-07-14T08:17:58.285Z"
   },
   {
    "duration": 13,
    "start_time": "2023-07-14T08:17:58.326Z"
   },
   {
    "duration": 14,
    "start_time": "2023-07-14T08:17:58.340Z"
   },
   {
    "duration": 171,
    "start_time": "2023-07-14T08:17:58.356Z"
   },
   {
    "duration": 18,
    "start_time": "2023-07-14T08:17:58.531Z"
   },
   {
    "duration": 27,
    "start_time": "2023-07-14T08:17:58.552Z"
   },
   {
    "duration": 5,
    "start_time": "2023-07-14T08:17:58.582Z"
   },
   {
    "duration": 6,
    "start_time": "2023-07-14T08:17:58.588Z"
   },
   {
    "duration": 9,
    "start_time": "2023-07-14T08:17:58.596Z"
   },
   {
    "duration": 6,
    "start_time": "2023-07-14T08:17:58.607Z"
   },
   {
    "duration": 7,
    "start_time": "2023-07-14T08:17:58.615Z"
   },
   {
    "duration": 8,
    "start_time": "2023-07-14T08:17:58.624Z"
   },
   {
    "duration": 38,
    "start_time": "2023-07-14T08:17:58.634Z"
   },
   {
    "duration": 15995,
    "start_time": "2023-07-14T08:17:58.674Z"
   },
   {
    "duration": 0,
    "start_time": "2023-07-14T08:18:14.671Z"
   },
   {
    "duration": 0,
    "start_time": "2023-07-14T08:18:14.673Z"
   },
   {
    "duration": 0,
    "start_time": "2023-07-14T08:18:14.676Z"
   },
   {
    "duration": 0,
    "start_time": "2023-07-14T08:18:14.677Z"
   },
   {
    "duration": 0,
    "start_time": "2023-07-14T08:18:14.678Z"
   },
   {
    "duration": 0,
    "start_time": "2023-07-14T08:18:14.680Z"
   },
   {
    "duration": 0,
    "start_time": "2023-07-14T08:18:14.682Z"
   },
   {
    "duration": 0,
    "start_time": "2023-07-14T08:18:14.683Z"
   },
   {
    "duration": 0,
    "start_time": "2023-07-14T08:18:14.684Z"
   },
   {
    "duration": 0,
    "start_time": "2023-07-14T08:18:14.685Z"
   },
   {
    "duration": 0,
    "start_time": "2023-07-14T08:18:14.687Z"
   },
   {
    "duration": 0,
    "start_time": "2023-07-14T08:18:14.688Z"
   },
   {
    "duration": 7,
    "start_time": "2023-07-14T08:20:08.909Z"
   },
   {
    "duration": 4404,
    "start_time": "2023-07-14T08:20:14.813Z"
   },
   {
    "duration": 1247,
    "start_time": "2023-07-14T08:20:19.220Z"
   },
   {
    "duration": 8,
    "start_time": "2023-07-14T08:20:20.469Z"
   },
   {
    "duration": 221,
    "start_time": "2023-07-14T08:20:20.480Z"
   },
   {
    "duration": 11,
    "start_time": "2023-07-14T08:20:20.704Z"
   },
   {
    "duration": 42,
    "start_time": "2023-07-14T08:20:20.718Z"
   },
   {
    "duration": 30,
    "start_time": "2023-07-14T08:20:20.763Z"
   },
   {
    "duration": 20,
    "start_time": "2023-07-14T08:20:20.795Z"
   },
   {
    "duration": 245,
    "start_time": "2023-07-14T08:20:20.817Z"
   },
   {
    "duration": 25,
    "start_time": "2023-07-14T08:20:21.065Z"
   },
   {
    "duration": 18,
    "start_time": "2023-07-14T08:20:21.092Z"
   },
   {
    "duration": 35,
    "start_time": "2023-07-14T08:20:21.112Z"
   },
   {
    "duration": 44,
    "start_time": "2023-07-14T08:20:21.149Z"
   },
   {
    "duration": 40,
    "start_time": "2023-07-14T08:20:21.196Z"
   },
   {
    "duration": 16,
    "start_time": "2023-07-14T08:20:21.238Z"
   },
   {
    "duration": 32,
    "start_time": "2023-07-14T08:20:21.257Z"
   },
   {
    "duration": 7,
    "start_time": "2023-07-14T08:20:21.291Z"
   },
   {
    "duration": 24,
    "start_time": "2023-07-14T08:20:21.300Z"
   },
   {
    "duration": 15464,
    "start_time": "2023-07-14T08:20:21.326Z"
   },
   {
    "duration": 0,
    "start_time": "2023-07-14T08:20:36.793Z"
   },
   {
    "duration": 0,
    "start_time": "2023-07-14T08:20:36.794Z"
   },
   {
    "duration": 0,
    "start_time": "2023-07-14T08:20:36.797Z"
   },
   {
    "duration": 0,
    "start_time": "2023-07-14T08:20:36.798Z"
   },
   {
    "duration": 0,
    "start_time": "2023-07-14T08:20:36.800Z"
   },
   {
    "duration": 0,
    "start_time": "2023-07-14T08:20:36.801Z"
   },
   {
    "duration": 0,
    "start_time": "2023-07-14T08:20:36.803Z"
   },
   {
    "duration": 0,
    "start_time": "2023-07-14T08:20:36.805Z"
   },
   {
    "duration": 0,
    "start_time": "2023-07-14T08:20:36.806Z"
   },
   {
    "duration": 0,
    "start_time": "2023-07-14T08:20:36.807Z"
   },
   {
    "duration": 0,
    "start_time": "2023-07-14T08:20:36.808Z"
   },
   {
    "duration": 0,
    "start_time": "2023-07-14T08:20:36.809Z"
   },
   {
    "duration": 13955,
    "start_time": "2023-07-14T08:20:57.909Z"
   },
   {
    "duration": 31,
    "start_time": "2023-07-14T08:21:11.866Z"
   },
   {
    "duration": 12,
    "start_time": "2023-07-14T08:22:36.107Z"
   },
   {
    "duration": 10,
    "start_time": "2023-07-14T08:22:44.691Z"
   },
   {
    "duration": 29,
    "start_time": "2023-07-14T08:23:01.773Z"
   },
   {
    "duration": 9,
    "start_time": "2023-07-14T08:23:32.403Z"
   },
   {
    "duration": 5,
    "start_time": "2023-07-14T08:25:00.522Z"
   },
   {
    "duration": 32,
    "start_time": "2023-07-14T08:25:25.234Z"
   },
   {
    "duration": 12,
    "start_time": "2023-07-14T08:26:02.089Z"
   },
   {
    "duration": 2108,
    "start_time": "2023-07-14T08:26:16.553Z"
   },
   {
    "duration": 1166,
    "start_time": "2023-07-14T08:26:18.664Z"
   },
   {
    "duration": 3,
    "start_time": "2023-07-14T08:26:19.831Z"
   },
   {
    "duration": 116,
    "start_time": "2023-07-14T08:26:19.836Z"
   },
   {
    "duration": 7,
    "start_time": "2023-07-14T08:26:19.953Z"
   },
   {
    "duration": 18,
    "start_time": "2023-07-14T08:26:19.961Z"
   },
   {
    "duration": 15,
    "start_time": "2023-07-14T08:26:19.980Z"
   },
   {
    "duration": 8,
    "start_time": "2023-07-14T08:26:19.996Z"
   },
   {
    "duration": 155,
    "start_time": "2023-07-14T08:26:20.006Z"
   },
   {
    "duration": 14,
    "start_time": "2023-07-14T08:26:20.167Z"
   },
   {
    "duration": 22,
    "start_time": "2023-07-14T08:26:20.183Z"
   },
   {
    "duration": 21,
    "start_time": "2023-07-14T08:26:20.206Z"
   },
   {
    "duration": 38,
    "start_time": "2023-07-14T08:26:20.229Z"
   },
   {
    "duration": 22,
    "start_time": "2023-07-14T08:26:20.268Z"
   },
   {
    "duration": 9,
    "start_time": "2023-07-14T08:26:20.292Z"
   },
   {
    "duration": 12,
    "start_time": "2023-07-14T08:26:20.303Z"
   },
   {
    "duration": 25,
    "start_time": "2023-07-14T08:26:20.317Z"
   },
   {
    "duration": 16,
    "start_time": "2023-07-14T08:26:20.344Z"
   },
   {
    "duration": 6,
    "start_time": "2023-07-14T08:26:20.362Z"
   },
   {
    "duration": 11,
    "start_time": "2023-07-14T08:26:20.369Z"
   },
   {
    "duration": 9,
    "start_time": "2023-07-14T08:26:20.382Z"
   },
   {
    "duration": 22,
    "start_time": "2023-07-14T08:26:20.393Z"
   },
   {
    "duration": 25,
    "start_time": "2023-07-14T08:26:20.416Z"
   },
   {
    "duration": 128,
    "start_time": "2023-07-14T08:26:20.443Z"
   },
   {
    "duration": 0,
    "start_time": "2023-07-14T08:26:20.572Z"
   },
   {
    "duration": 0,
    "start_time": "2023-07-14T08:26:20.574Z"
   },
   {
    "duration": 0,
    "start_time": "2023-07-14T08:26:20.574Z"
   },
   {
    "duration": 0,
    "start_time": "2023-07-14T08:26:20.575Z"
   },
   {
    "duration": 0,
    "start_time": "2023-07-14T08:26:20.576Z"
   },
   {
    "duration": 0,
    "start_time": "2023-07-14T08:26:20.577Z"
   },
   {
    "duration": 0,
    "start_time": "2023-07-14T08:26:20.578Z"
   },
   {
    "duration": 0,
    "start_time": "2023-07-14T08:26:20.579Z"
   },
   {
    "duration": 0,
    "start_time": "2023-07-14T08:26:20.580Z"
   },
   {
    "duration": 0,
    "start_time": "2023-07-14T08:26:20.581Z"
   },
   {
    "duration": 26,
    "start_time": "2023-07-14T08:27:24.841Z"
   },
   {
    "duration": 13,
    "start_time": "2023-07-14T08:27:38.618Z"
   },
   {
    "duration": 33,
    "start_time": "2023-07-14T08:27:41.770Z"
   },
   {
    "duration": 20,
    "start_time": "2023-07-14T08:28:00.379Z"
   },
   {
    "duration": 12,
    "start_time": "2023-07-14T08:33:29.887Z"
   },
   {
    "duration": 16,
    "start_time": "2023-07-14T08:33:43.981Z"
   },
   {
    "duration": 14,
    "start_time": "2023-07-14T08:34:29.037Z"
   },
   {
    "duration": 2130,
    "start_time": "2023-07-14T08:34:45.638Z"
   },
   {
    "duration": 1162,
    "start_time": "2023-07-14T08:34:47.770Z"
   },
   {
    "duration": 3,
    "start_time": "2023-07-14T08:34:48.933Z"
   },
   {
    "duration": 112,
    "start_time": "2023-07-14T08:34:48.938Z"
   },
   {
    "duration": 17,
    "start_time": "2023-07-14T08:34:49.052Z"
   },
   {
    "duration": 6,
    "start_time": "2023-07-14T08:34:49.071Z"
   },
   {
    "duration": 4,
    "start_time": "2023-07-14T08:34:49.078Z"
   },
   {
    "duration": 5,
    "start_time": "2023-07-14T08:34:49.084Z"
   },
   {
    "duration": 185,
    "start_time": "2023-07-14T08:34:49.090Z"
   },
   {
    "duration": 13,
    "start_time": "2023-07-14T08:34:49.278Z"
   },
   {
    "duration": 29,
    "start_time": "2023-07-14T08:34:49.293Z"
   },
   {
    "duration": 7,
    "start_time": "2023-07-14T08:34:49.324Z"
   },
   {
    "duration": 19,
    "start_time": "2023-07-14T08:34:49.334Z"
   },
   {
    "duration": 11,
    "start_time": "2023-07-14T08:34:49.368Z"
   },
   {
    "duration": 5,
    "start_time": "2023-07-14T08:34:49.380Z"
   },
   {
    "duration": 10,
    "start_time": "2023-07-14T08:34:49.386Z"
   },
   {
    "duration": 10,
    "start_time": "2023-07-14T08:34:49.397Z"
   },
   {
    "duration": 7,
    "start_time": "2023-07-14T08:34:49.408Z"
   },
   {
    "duration": 4,
    "start_time": "2023-07-14T08:34:49.416Z"
   },
   {
    "duration": 6,
    "start_time": "2023-07-14T08:34:49.422Z"
   },
   {
    "duration": 8,
    "start_time": "2023-07-14T08:34:49.467Z"
   },
   {
    "duration": 16,
    "start_time": "2023-07-14T08:34:49.477Z"
   },
   {
    "duration": 14,
    "start_time": "2023-07-14T08:34:49.494Z"
   },
   {
    "duration": 12,
    "start_time": "2023-07-14T08:34:49.509Z"
   },
   {
    "duration": 124,
    "start_time": "2023-07-14T08:34:49.523Z"
   },
   {
    "duration": 0,
    "start_time": "2023-07-14T08:34:49.649Z"
   },
   {
    "duration": 0,
    "start_time": "2023-07-14T08:34:49.650Z"
   },
   {
    "duration": 0,
    "start_time": "2023-07-14T08:34:49.651Z"
   },
   {
    "duration": 0,
    "start_time": "2023-07-14T08:34:49.652Z"
   },
   {
    "duration": 0,
    "start_time": "2023-07-14T08:34:49.653Z"
   },
   {
    "duration": 0,
    "start_time": "2023-07-14T08:34:49.654Z"
   },
   {
    "duration": 0,
    "start_time": "2023-07-14T08:34:49.668Z"
   },
   {
    "duration": 0,
    "start_time": "2023-07-14T08:34:49.669Z"
   },
   {
    "duration": 0,
    "start_time": "2023-07-14T08:34:49.670Z"
   },
   {
    "duration": 0,
    "start_time": "2023-07-14T08:34:49.671Z"
   },
   {
    "duration": 41,
    "start_time": "2023-07-14T08:35:33.493Z"
   },
   {
    "duration": 3,
    "start_time": "2023-07-14T08:39:12.483Z"
   },
   {
    "duration": 14,
    "start_time": "2023-07-14T08:39:38.612Z"
   },
   {
    "duration": 17,
    "start_time": "2023-07-14T08:42:40.492Z"
   },
   {
    "duration": 2275,
    "start_time": "2023-07-14T08:42:58.544Z"
   },
   {
    "duration": 1150,
    "start_time": "2023-07-14T08:43:00.822Z"
   },
   {
    "duration": 4,
    "start_time": "2023-07-14T08:43:01.974Z"
   },
   {
    "duration": 145,
    "start_time": "2023-07-14T08:43:01.980Z"
   },
   {
    "duration": 7,
    "start_time": "2023-07-14T08:43:02.126Z"
   },
   {
    "duration": 18,
    "start_time": "2023-07-14T08:43:02.134Z"
   },
   {
    "duration": 24,
    "start_time": "2023-07-14T08:43:02.154Z"
   },
   {
    "duration": 10,
    "start_time": "2023-07-14T08:43:02.180Z"
   },
   {
    "duration": 196,
    "start_time": "2023-07-14T08:43:02.192Z"
   },
   {
    "duration": 14,
    "start_time": "2023-07-14T08:43:02.391Z"
   },
   {
    "duration": 27,
    "start_time": "2023-07-14T08:43:02.407Z"
   },
   {
    "duration": 18,
    "start_time": "2023-07-14T08:43:02.436Z"
   },
   {
    "duration": 33,
    "start_time": "2023-07-14T08:43:02.456Z"
   },
   {
    "duration": 13,
    "start_time": "2023-07-14T08:43:02.490Z"
   },
   {
    "duration": 8,
    "start_time": "2023-07-14T08:43:02.505Z"
   },
   {
    "duration": 9,
    "start_time": "2023-07-14T08:43:02.515Z"
   },
   {
    "duration": 35,
    "start_time": "2023-07-14T08:43:02.528Z"
   },
   {
    "duration": 22,
    "start_time": "2023-07-14T08:43:02.565Z"
   },
   {
    "duration": 26,
    "start_time": "2023-07-14T08:43:02.589Z"
   },
   {
    "duration": 18,
    "start_time": "2023-07-14T08:43:02.617Z"
   },
   {
    "duration": 9,
    "start_time": "2023-07-14T08:43:02.637Z"
   },
   {
    "duration": 20,
    "start_time": "2023-07-14T08:43:02.648Z"
   },
   {
    "duration": 13,
    "start_time": "2023-07-14T08:43:02.670Z"
   },
   {
    "duration": 30,
    "start_time": "2023-07-14T08:43:02.685Z"
   },
   {
    "duration": 113,
    "start_time": "2023-07-14T08:43:02.717Z"
   },
   {
    "duration": 0,
    "start_time": "2023-07-14T08:43:02.832Z"
   },
   {
    "duration": 1,
    "start_time": "2023-07-14T08:43:02.833Z"
   },
   {
    "duration": 0,
    "start_time": "2023-07-14T08:43:02.835Z"
   },
   {
    "duration": 0,
    "start_time": "2023-07-14T08:43:02.835Z"
   },
   {
    "duration": 0,
    "start_time": "2023-07-14T08:43:02.836Z"
   },
   {
    "duration": 0,
    "start_time": "2023-07-14T08:43:02.838Z"
   },
   {
    "duration": 0,
    "start_time": "2023-07-14T08:43:02.839Z"
   },
   {
    "duration": 0,
    "start_time": "2023-07-14T08:43:02.840Z"
   },
   {
    "duration": 0,
    "start_time": "2023-07-14T08:43:02.841Z"
   },
   {
    "duration": 0,
    "start_time": "2023-07-14T08:43:02.842Z"
   },
   {
    "duration": 0,
    "start_time": "2023-07-14T08:43:02.843Z"
   },
   {
    "duration": 0,
    "start_time": "2023-07-14T08:43:02.844Z"
   },
   {
    "duration": 9,
    "start_time": "2023-07-14T09:57:57.778Z"
   },
   {
    "duration": 13,
    "start_time": "2023-07-14T09:59:43.953Z"
   },
   {
    "duration": 54482,
    "start_time": "2023-07-14T09:59:51.488Z"
   },
   {
    "duration": 179,
    "start_time": "2023-07-14T10:01:43.994Z"
   },
   {
    "duration": 117,
    "start_time": "2023-07-14T10:02:06.023Z"
   },
   {
    "duration": 18,
    "start_time": "2023-07-14T10:04:49.975Z"
   },
   {
    "duration": 2762,
    "start_time": "2023-07-14T10:09:57.107Z"
   },
   {
    "duration": 199,
    "start_time": "2023-07-14T10:10:50.571Z"
   },
   {
    "duration": 18,
    "start_time": "2023-07-14T10:11:21.004Z"
   },
   {
    "duration": 10,
    "start_time": "2023-07-14T10:11:56.059Z"
   },
   {
    "duration": 8,
    "start_time": "2023-07-14T10:12:08.996Z"
   },
   {
    "duration": 2,
    "start_time": "2023-07-14T10:19:42.304Z"
   },
   {
    "duration": 14,
    "start_time": "2023-07-14T10:22:36.766Z"
   },
   {
    "duration": 10,
    "start_time": "2023-07-14T10:22:46.493Z"
   },
   {
    "duration": 3,
    "start_time": "2023-07-14T10:23:00.206Z"
   },
   {
    "duration": 10,
    "start_time": "2023-07-14T10:23:25.622Z"
   },
   {
    "duration": 4,
    "start_time": "2023-07-14T10:23:35.982Z"
   },
   {
    "duration": 1403,
    "start_time": "2023-07-14T10:23:57.141Z"
   },
   {
    "duration": 5,
    "start_time": "2023-07-14T10:24:14.283Z"
   },
   {
    "duration": 10,
    "start_time": "2023-07-14T10:24:46.589Z"
   },
   {
    "duration": 9,
    "start_time": "2023-07-14T10:24:47.044Z"
   },
   {
    "duration": 4,
    "start_time": "2023-07-14T10:24:56.517Z"
   },
   {
    "duration": 9,
    "start_time": "2023-07-14T10:24:57.389Z"
   },
   {
    "duration": 4,
    "start_time": "2023-07-14T10:24:57.837Z"
   },
   {
    "duration": 6,
    "start_time": "2023-07-14T10:24:58.278Z"
   },
   {
    "duration": 6,
    "start_time": "2023-07-14T10:25:25.175Z"
   },
   {
    "duration": 4,
    "start_time": "2023-07-14T10:26:03.901Z"
   },
   {
    "duration": 2267,
    "start_time": "2023-07-14T10:26:21.170Z"
   },
   {
    "duration": 1250,
    "start_time": "2023-07-14T10:26:23.440Z"
   },
   {
    "duration": 3,
    "start_time": "2023-07-14T10:26:24.692Z"
   },
   {
    "duration": 128,
    "start_time": "2023-07-14T10:26:24.696Z"
   },
   {
    "duration": 8,
    "start_time": "2023-07-14T10:26:24.826Z"
   },
   {
    "duration": 16,
    "start_time": "2023-07-14T10:26:24.835Z"
   },
   {
    "duration": 4,
    "start_time": "2023-07-14T10:26:24.853Z"
   },
   {
    "duration": 11,
    "start_time": "2023-07-14T10:26:24.868Z"
   },
   {
    "duration": 265,
    "start_time": "2023-07-14T10:26:24.881Z"
   },
   {
    "duration": 19,
    "start_time": "2023-07-14T10:26:25.149Z"
   },
   {
    "duration": 21,
    "start_time": "2023-07-14T10:26:25.172Z"
   },
   {
    "duration": 26,
    "start_time": "2023-07-14T10:26:25.194Z"
   },
   {
    "duration": 30,
    "start_time": "2023-07-14T10:26:25.222Z"
   },
   {
    "duration": 36,
    "start_time": "2023-07-14T10:26:25.254Z"
   },
   {
    "duration": 7,
    "start_time": "2023-07-14T10:26:25.292Z"
   },
   {
    "duration": 8,
    "start_time": "2023-07-14T10:26:25.301Z"
   },
   {
    "duration": 9,
    "start_time": "2023-07-14T10:26:25.311Z"
   },
   {
    "duration": 9,
    "start_time": "2023-07-14T10:26:25.322Z"
   },
   {
    "duration": 6,
    "start_time": "2023-07-14T10:26:25.333Z"
   },
   {
    "duration": 8,
    "start_time": "2023-07-14T10:26:25.341Z"
   },
   {
    "duration": 20,
    "start_time": "2023-07-14T10:26:25.350Z"
   },
   {
    "duration": 31,
    "start_time": "2023-07-14T10:26:25.372Z"
   },
   {
    "duration": 23,
    "start_time": "2023-07-14T10:26:25.406Z"
   },
   {
    "duration": 13,
    "start_time": "2023-07-14T10:26:25.431Z"
   },
   {
    "duration": 43,
    "start_time": "2023-07-14T10:26:25.446Z"
   },
   {
    "duration": 22,
    "start_time": "2023-07-14T10:26:25.491Z"
   },
   {
    "duration": 59760,
    "start_time": "2023-07-14T10:26:25.515Z"
   },
   {
    "duration": 156,
    "start_time": "2023-07-14T10:27:25.278Z"
   },
   {
    "duration": 128,
    "start_time": "2023-07-14T10:27:25.436Z"
   },
   {
    "duration": 18,
    "start_time": "2023-07-14T10:27:25.568Z"
   },
   {
    "duration": 3086,
    "start_time": "2023-07-14T10:27:25.588Z"
   },
   {
    "duration": 402,
    "start_time": "2023-07-14T10:27:28.676Z"
   },
   {
    "duration": 16,
    "start_time": "2023-07-14T10:27:29.080Z"
   },
   {
    "duration": 10,
    "start_time": "2023-07-14T10:27:29.170Z"
   },
   {
    "duration": 17,
    "start_time": "2023-07-14T10:27:29.268Z"
   },
   {
    "duration": 8,
    "start_time": "2023-07-14T10:27:29.286Z"
   },
   {
    "duration": 8,
    "start_time": "2023-07-14T10:27:29.296Z"
   },
   {
    "duration": 6,
    "start_time": "2023-07-14T10:27:29.306Z"
   },
   {
    "duration": 7,
    "start_time": "2023-07-14T10:27:29.313Z"
   },
   {
    "duration": 15,
    "start_time": "2023-07-14T10:27:29.322Z"
   },
   {
    "duration": 30,
    "start_time": "2023-07-14T10:27:29.339Z"
   },
   {
    "duration": 65,
    "start_time": "2023-07-14T10:27:29.371Z"
   },
   {
    "duration": 0,
    "start_time": "2023-07-14T10:27:29.438Z"
   },
   {
    "duration": 0,
    "start_time": "2023-07-14T10:27:29.440Z"
   },
   {
    "duration": 0,
    "start_time": "2023-07-14T10:27:29.441Z"
   },
   {
    "duration": 0,
    "start_time": "2023-07-14T10:27:29.443Z"
   },
   {
    "duration": 0,
    "start_time": "2023-07-14T10:27:29.444Z"
   },
   {
    "duration": 107,
    "start_time": "2023-07-14T10:30:03.562Z"
   },
   {
    "duration": 4,
    "start_time": "2023-07-14T10:30:14.744Z"
   },
   {
    "duration": 11,
    "start_time": "2023-07-14T10:30:15.855Z"
   },
   {
    "duration": 10,
    "start_time": "2023-07-14T10:30:28.402Z"
   },
   {
    "duration": 24,
    "start_time": "2023-07-14T10:30:45.883Z"
   },
   {
    "duration": 4,
    "start_time": "2023-07-14T10:30:52.610Z"
   },
   {
    "duration": 5,
    "start_time": "2023-07-14T10:31:10.456Z"
   },
   {
    "duration": 4,
    "start_time": "2023-07-14T10:31:37.749Z"
   },
   {
    "duration": 5,
    "start_time": "2023-07-14T10:31:52.158Z"
   },
   {
    "duration": 10,
    "start_time": "2023-07-14T10:34:33.046Z"
   },
   {
    "duration": 4,
    "start_time": "2023-07-14T10:35:11.161Z"
   },
   {
    "duration": 4,
    "start_time": "2023-07-14T10:35:35.784Z"
   },
   {
    "duration": 78,
    "start_time": "2023-07-14T10:38:42.747Z"
   },
   {
    "duration": 73541,
    "start_time": "2023-07-14T10:38:48.962Z"
   },
   {
    "duration": 605,
    "start_time": "2023-07-14T10:40:09.069Z"
   },
   {
    "duration": 118,
    "start_time": "2023-07-14T10:40:14.274Z"
   },
   {
    "duration": 192,
    "start_time": "2023-07-14T10:40:27.893Z"
   },
   {
    "duration": 107,
    "start_time": "2023-07-14T10:40:49.962Z"
   },
   {
    "duration": 126,
    "start_time": "2023-07-14T10:44:18.953Z"
   },
   {
    "duration": 125,
    "start_time": "2023-07-14T10:45:15.324Z"
   },
   {
    "duration": 177,
    "start_time": "2023-07-14T10:48:36.576Z"
   },
   {
    "duration": 3,
    "start_time": "2023-07-14T10:50:11.121Z"
   },
   {
    "duration": 12,
    "start_time": "2023-07-14T10:51:23.755Z"
   },
   {
    "duration": 603,
    "start_time": "2023-07-14T10:51:27.478Z"
   },
   {
    "duration": 80109,
    "start_time": "2023-07-14T10:51:29.408Z"
   },
   {
    "duration": 175,
    "start_time": "2023-07-14T10:52:49.519Z"
   },
   {
    "duration": 17,
    "start_time": "2023-07-14T10:55:33.095Z"
   },
   {
    "duration": 62764,
    "start_time": "2023-07-14T10:55:50.903Z"
   },
   {
    "duration": 33139,
    "start_time": "2023-07-14T10:57:37.207Z"
   },
   {
    "duration": 87,
    "start_time": "2023-07-14T10:59:06.654Z"
   },
   {
    "duration": 155,
    "start_time": "2023-07-14T10:59:12.470Z"
   },
   {
    "duration": 78,
    "start_time": "2023-07-14T11:00:19.725Z"
   },
   {
    "duration": 26833,
    "start_time": "2023-07-14T11:00:24.846Z"
   },
   {
    "duration": 158,
    "start_time": "2023-07-14T11:00:51.681Z"
   },
   {
    "duration": 149,
    "start_time": "2023-07-14T11:03:39.110Z"
   },
   {
    "duration": 12,
    "start_time": "2023-07-14T11:04:20.268Z"
   },
   {
    "duration": 153,
    "start_time": "2023-07-14T11:04:34.699Z"
   },
   {
    "duration": 78,
    "start_time": "2023-07-14T11:04:37.917Z"
   },
   {
    "duration": 161,
    "start_time": "2023-07-14T11:04:40.951Z"
   },
   {
    "duration": 15,
    "start_time": "2023-07-14T11:05:53.347Z"
   },
   {
    "duration": 151,
    "start_time": "2023-07-14T11:07:33.698Z"
   },
   {
    "duration": 67,
    "start_time": "2023-07-14T11:07:44.755Z"
   },
   {
    "duration": 34,
    "start_time": "2023-07-14T11:08:03.970Z"
   },
   {
    "duration": 30,
    "start_time": "2023-07-14T11:08:17.842Z"
   },
   {
    "duration": 6215,
    "start_time": "2023-07-14T11:14:42.560Z"
   },
   {
    "duration": 26,
    "start_time": "2023-07-14T11:14:53.215Z"
   },
   {
    "duration": 3,
    "start_time": "2023-07-14T11:15:16.592Z"
   },
   {
    "duration": 4085,
    "start_time": "2023-07-14T11:16:20.194Z"
   },
   {
    "duration": 17,
    "start_time": "2023-07-14T11:17:11.155Z"
   },
   {
    "duration": 17,
    "start_time": "2023-07-14T11:17:31.356Z"
   },
   {
    "duration": 27,
    "start_time": "2023-07-14T11:17:36.974Z"
   },
   {
    "duration": 109,
    "start_time": "2023-07-14T11:17:51.562Z"
   },
   {
    "duration": 12,
    "start_time": "2023-07-14T11:20:55.369Z"
   },
   {
    "duration": 6602,
    "start_time": "2023-07-14T11:21:03.169Z"
   },
   {
    "duration": 292,
    "start_time": "2023-07-14T11:21:09.775Z"
   },
   {
    "duration": 4205,
    "start_time": "2023-07-14T11:21:10.069Z"
   },
   {
    "duration": 193,
    "start_time": "2023-07-14T11:21:14.277Z"
   },
   {
    "duration": 104,
    "start_time": "2023-07-14T11:21:14.473Z"
   },
   {
    "duration": 111,
    "start_time": "2023-07-14T11:21:46.709Z"
   },
   {
    "duration": 146,
    "start_time": "2023-07-14T11:22:33.222Z"
   },
   {
    "duration": 237,
    "start_time": "2023-07-14T11:22:56.606Z"
   },
   {
    "duration": 13,
    "start_time": "2023-07-14T11:23:59.260Z"
   },
   {
    "duration": 6383,
    "start_time": "2023-07-14T11:24:34.586Z"
   },
   {
    "duration": 111,
    "start_time": "2023-07-14T11:24:40.972Z"
   },
   {
    "duration": 3788,
    "start_time": "2023-07-14T11:24:41.085Z"
   },
   {
    "duration": 105,
    "start_time": "2023-07-14T11:24:44.875Z"
   },
   {
    "duration": 337,
    "start_time": "2023-07-14T11:24:44.983Z"
   },
   {
    "duration": 18,
    "start_time": "2023-07-14T11:24:45.322Z"
   },
   {
    "duration": 13,
    "start_time": "2023-07-14T11:25:59.459Z"
   },
   {
    "duration": 2285,
    "start_time": "2023-07-14T11:26:11.818Z"
   },
   {
    "duration": 1212,
    "start_time": "2023-07-14T11:26:14.107Z"
   },
   {
    "duration": 2,
    "start_time": "2023-07-14T11:26:15.321Z"
   },
   {
    "duration": 110,
    "start_time": "2023-07-14T11:26:15.325Z"
   },
   {
    "duration": 7,
    "start_time": "2023-07-14T11:26:15.437Z"
   },
   {
    "duration": 10,
    "start_time": "2023-07-14T11:26:15.445Z"
   },
   {
    "duration": 4,
    "start_time": "2023-07-14T11:26:15.457Z"
   },
   {
    "duration": 6,
    "start_time": "2023-07-14T11:26:15.462Z"
   },
   {
    "duration": 162,
    "start_time": "2023-07-14T11:26:15.469Z"
   },
   {
    "duration": 13,
    "start_time": "2023-07-14T11:26:15.634Z"
   },
   {
    "duration": 8,
    "start_time": "2023-07-14T11:26:15.649Z"
   },
   {
    "duration": 8,
    "start_time": "2023-07-14T11:26:15.668Z"
   },
   {
    "duration": 15,
    "start_time": "2023-07-14T11:26:15.678Z"
   },
   {
    "duration": 14,
    "start_time": "2023-07-14T11:26:15.695Z"
   },
   {
    "duration": 5,
    "start_time": "2023-07-14T11:26:15.711Z"
   },
   {
    "duration": 7,
    "start_time": "2023-07-14T11:26:15.718Z"
   },
   {
    "duration": 41,
    "start_time": "2023-07-14T11:26:15.727Z"
   },
   {
    "duration": 8,
    "start_time": "2023-07-14T11:26:15.770Z"
   },
   {
    "duration": 6,
    "start_time": "2023-07-14T11:26:15.780Z"
   },
   {
    "duration": 7,
    "start_time": "2023-07-14T11:26:15.788Z"
   },
   {
    "duration": 16,
    "start_time": "2023-07-14T11:26:15.798Z"
   },
   {
    "duration": 15,
    "start_time": "2023-07-14T11:26:15.816Z"
   },
   {
    "duration": 42,
    "start_time": "2023-07-14T11:26:15.832Z"
   },
   {
    "duration": 12,
    "start_time": "2023-07-14T11:26:15.876Z"
   },
   {
    "duration": 11,
    "start_time": "2023-07-14T11:26:15.890Z"
   },
   {
    "duration": 11,
    "start_time": "2023-07-14T11:26:15.903Z"
   },
   {
    "duration": 55424,
    "start_time": "2023-07-14T11:26:15.916Z"
   },
   {
    "duration": 253,
    "start_time": "2023-07-14T11:27:11.343Z"
   },
   {
    "duration": 0,
    "start_time": "2023-07-14T11:27:11.597Z"
   },
   {
    "duration": 0,
    "start_time": "2023-07-14T11:27:11.599Z"
   },
   {
    "duration": 0,
    "start_time": "2023-07-14T11:27:11.600Z"
   },
   {
    "duration": 0,
    "start_time": "2023-07-14T11:27:11.601Z"
   },
   {
    "duration": 0,
    "start_time": "2023-07-14T11:27:11.602Z"
   },
   {
    "duration": 0,
    "start_time": "2023-07-14T11:27:11.603Z"
   },
   {
    "duration": 0,
    "start_time": "2023-07-14T11:27:11.604Z"
   },
   {
    "duration": 0,
    "start_time": "2023-07-14T11:27:11.605Z"
   },
   {
    "duration": 0,
    "start_time": "2023-07-14T11:27:11.607Z"
   },
   {
    "duration": 0,
    "start_time": "2023-07-14T11:27:11.608Z"
   },
   {
    "duration": 0,
    "start_time": "2023-07-14T11:27:11.609Z"
   },
   {
    "duration": 0,
    "start_time": "2023-07-14T11:27:11.610Z"
   },
   {
    "duration": 0,
    "start_time": "2023-07-14T11:27:11.610Z"
   },
   {
    "duration": 0,
    "start_time": "2023-07-14T11:27:11.611Z"
   },
   {
    "duration": 0,
    "start_time": "2023-07-14T11:27:11.613Z"
   },
   {
    "duration": 0,
    "start_time": "2023-07-14T11:27:11.614Z"
   },
   {
    "duration": 0,
    "start_time": "2023-07-14T11:27:11.615Z"
   },
   {
    "duration": 0,
    "start_time": "2023-07-14T11:27:11.616Z"
   },
   {
    "duration": 0,
    "start_time": "2023-07-14T11:27:11.617Z"
   },
   {
    "duration": 0,
    "start_time": "2023-07-14T11:27:11.617Z"
   },
   {
    "duration": 0,
    "start_time": "2023-07-14T11:27:11.618Z"
   },
   {
    "duration": 0,
    "start_time": "2023-07-14T11:27:11.619Z"
   },
   {
    "duration": 0,
    "start_time": "2023-07-14T11:27:11.620Z"
   },
   {
    "duration": 0,
    "start_time": "2023-07-14T11:27:11.621Z"
   },
   {
    "duration": 0,
    "start_time": "2023-07-14T11:27:11.622Z"
   },
   {
    "duration": 0,
    "start_time": "2023-07-14T11:27:11.623Z"
   },
   {
    "duration": 0,
    "start_time": "2023-07-14T11:27:11.624Z"
   },
   {
    "duration": 0,
    "start_time": "2023-07-14T11:27:11.625Z"
   },
   {
    "duration": 10,
    "start_time": "2023-07-14T11:27:28.851Z"
   },
   {
    "duration": 13,
    "start_time": "2023-07-14T11:27:45.459Z"
   },
   {
    "duration": 12,
    "start_time": "2023-07-14T11:27:46.291Z"
   },
   {
    "duration": 13,
    "start_time": "2023-07-14T11:27:47.267Z"
   },
   {
    "duration": 11,
    "start_time": "2023-07-14T11:27:48.386Z"
   },
   {
    "duration": 2150,
    "start_time": "2023-07-14T11:28:07.433Z"
   },
   {
    "duration": 1203,
    "start_time": "2023-07-14T11:28:09.586Z"
   },
   {
    "duration": 3,
    "start_time": "2023-07-14T11:28:10.791Z"
   },
   {
    "duration": 115,
    "start_time": "2023-07-14T11:28:10.796Z"
   },
   {
    "duration": 8,
    "start_time": "2023-07-14T11:28:10.913Z"
   },
   {
    "duration": 6,
    "start_time": "2023-07-14T11:28:10.922Z"
   },
   {
    "duration": 5,
    "start_time": "2023-07-14T11:28:10.929Z"
   },
   {
    "duration": 4,
    "start_time": "2023-07-14T11:28:10.935Z"
   },
   {
    "duration": 212,
    "start_time": "2023-07-14T11:28:10.940Z"
   },
   {
    "duration": 19,
    "start_time": "2023-07-14T11:28:11.155Z"
   },
   {
    "duration": 9,
    "start_time": "2023-07-14T11:28:11.176Z"
   },
   {
    "duration": 12,
    "start_time": "2023-07-14T11:28:11.187Z"
   },
   {
    "duration": 17,
    "start_time": "2023-07-14T11:28:11.201Z"
   },
   {
    "duration": 11,
    "start_time": "2023-07-14T11:28:11.219Z"
   },
   {
    "duration": 5,
    "start_time": "2023-07-14T11:28:11.231Z"
   },
   {
    "duration": 32,
    "start_time": "2023-07-14T11:28:11.238Z"
   },
   {
    "duration": 9,
    "start_time": "2023-07-14T11:28:11.272Z"
   },
   {
    "duration": 8,
    "start_time": "2023-07-14T11:28:11.283Z"
   },
   {
    "duration": 4,
    "start_time": "2023-07-14T11:28:11.292Z"
   },
   {
    "duration": 7,
    "start_time": "2023-07-14T11:28:11.298Z"
   },
   {
    "duration": 9,
    "start_time": "2023-07-14T11:28:11.307Z"
   },
   {
    "duration": 16,
    "start_time": "2023-07-14T11:28:11.318Z"
   },
   {
    "duration": 15,
    "start_time": "2023-07-14T11:28:11.367Z"
   },
   {
    "duration": 12,
    "start_time": "2023-07-14T11:28:11.384Z"
   },
   {
    "duration": 12,
    "start_time": "2023-07-14T11:28:11.397Z"
   },
   {
    "duration": 12,
    "start_time": "2023-07-14T11:28:11.410Z"
   },
   {
    "duration": 56400,
    "start_time": "2023-07-14T11:28:11.424Z"
   },
   {
    "duration": 275,
    "start_time": "2023-07-14T11:29:07.828Z"
   },
   {
    "duration": 0,
    "start_time": "2023-07-14T11:29:08.104Z"
   },
   {
    "duration": 0,
    "start_time": "2023-07-14T11:29:08.105Z"
   },
   {
    "duration": 0,
    "start_time": "2023-07-14T11:29:08.106Z"
   },
   {
    "duration": 0,
    "start_time": "2023-07-14T11:29:08.108Z"
   },
   {
    "duration": 0,
    "start_time": "2023-07-14T11:29:08.109Z"
   },
   {
    "duration": 0,
    "start_time": "2023-07-14T11:29:08.111Z"
   },
   {
    "duration": 0,
    "start_time": "2023-07-14T11:29:08.112Z"
   },
   {
    "duration": 0,
    "start_time": "2023-07-14T11:29:08.113Z"
   },
   {
    "duration": 0,
    "start_time": "2023-07-14T11:29:08.114Z"
   },
   {
    "duration": 0,
    "start_time": "2023-07-14T11:29:08.115Z"
   },
   {
    "duration": 0,
    "start_time": "2023-07-14T11:29:08.116Z"
   },
   {
    "duration": 0,
    "start_time": "2023-07-14T11:29:08.118Z"
   },
   {
    "duration": 0,
    "start_time": "2023-07-14T11:29:08.119Z"
   },
   {
    "duration": 0,
    "start_time": "2023-07-14T11:29:08.120Z"
   },
   {
    "duration": 0,
    "start_time": "2023-07-14T11:29:08.121Z"
   },
   {
    "duration": 0,
    "start_time": "2023-07-14T11:29:08.122Z"
   },
   {
    "duration": 0,
    "start_time": "2023-07-14T11:29:08.123Z"
   },
   {
    "duration": 0,
    "start_time": "2023-07-14T11:29:08.124Z"
   },
   {
    "duration": 0,
    "start_time": "2023-07-14T11:29:08.125Z"
   },
   {
    "duration": 0,
    "start_time": "2023-07-14T11:29:08.126Z"
   },
   {
    "duration": 0,
    "start_time": "2023-07-14T11:29:08.127Z"
   },
   {
    "duration": 0,
    "start_time": "2023-07-14T11:29:08.128Z"
   },
   {
    "duration": 0,
    "start_time": "2023-07-14T11:29:08.168Z"
   },
   {
    "duration": 0,
    "start_time": "2023-07-14T11:29:08.169Z"
   },
   {
    "duration": 0,
    "start_time": "2023-07-14T11:29:08.170Z"
   },
   {
    "duration": 0,
    "start_time": "2023-07-14T11:29:08.171Z"
   },
   {
    "duration": 0,
    "start_time": "2023-07-14T11:29:08.172Z"
   },
   {
    "duration": 0,
    "start_time": "2023-07-14T11:29:08.173Z"
   },
   {
    "duration": 2087,
    "start_time": "2023-07-14T11:29:46.554Z"
   },
   {
    "duration": 1211,
    "start_time": "2023-07-14T11:29:49.450Z"
   },
   {
    "duration": 5,
    "start_time": "2023-07-14T11:29:50.663Z"
   },
   {
    "duration": 109,
    "start_time": "2023-07-14T11:29:50.802Z"
   },
   {
    "duration": 9,
    "start_time": "2023-07-14T11:29:51.202Z"
   },
   {
    "duration": 8,
    "start_time": "2023-07-14T11:29:52.033Z"
   },
   {
    "duration": 5,
    "start_time": "2023-07-14T11:29:53.337Z"
   },
   {
    "duration": 5,
    "start_time": "2023-07-14T11:29:53.786Z"
   },
   {
    "duration": 195,
    "start_time": "2023-07-14T11:29:54.234Z"
   },
   {
    "duration": 14,
    "start_time": "2023-07-14T11:29:55.060Z"
   },
   {
    "duration": 10,
    "start_time": "2023-07-14T11:29:55.489Z"
   },
   {
    "duration": 5,
    "start_time": "2023-07-14T11:29:56.346Z"
   },
   {
    "duration": 12,
    "start_time": "2023-07-14T11:29:56.754Z"
   },
   {
    "duration": 11,
    "start_time": "2023-07-14T11:29:57.595Z"
   },
   {
    "duration": 5,
    "start_time": "2023-07-14T11:29:59.225Z"
   },
   {
    "duration": 6,
    "start_time": "2023-07-14T11:30:01.433Z"
   },
   {
    "duration": 8,
    "start_time": "2023-07-14T11:30:01.850Z"
   },
   {
    "duration": 8,
    "start_time": "2023-07-14T11:30:02.266Z"
   },
   {
    "duration": 5,
    "start_time": "2023-07-14T11:30:02.690Z"
   },
   {
    "duration": 7,
    "start_time": "2023-07-14T11:30:05.394Z"
   },
   {
    "duration": 9,
    "start_time": "2023-07-14T11:30:06.882Z"
   },
   {
    "duration": 25,
    "start_time": "2023-07-14T11:30:08.386Z"
   },
   {
    "duration": 18,
    "start_time": "2023-07-14T11:30:09.396Z"
   },
   {
    "duration": 17,
    "start_time": "2023-07-14T11:30:09.923Z"
   },
   {
    "duration": 12,
    "start_time": "2023-07-14T11:30:10.946Z"
   },
   {
    "duration": 16,
    "start_time": "2023-07-14T11:30:11.426Z"
   },
   {
    "duration": 55919,
    "start_time": "2023-07-14T11:30:12.457Z"
   },
   {
    "duration": 0,
    "start_time": "2023-07-14T11:31:08.664Z"
   },
   {
    "duration": 172,
    "start_time": "2023-07-14T11:31:17.193Z"
   },
   {
    "duration": 171,
    "start_time": "2023-07-14T11:31:30.187Z"
   },
   {
    "duration": 160,
    "start_time": "2023-07-14T11:31:34.406Z"
   },
   {
    "duration": 20,
    "start_time": "2023-07-14T11:31:35.202Z"
   },
   {
    "duration": 2437,
    "start_time": "2023-07-14T11:31:38.641Z"
   },
   {
    "duration": 127,
    "start_time": "2023-07-14T11:31:46.042Z"
   },
   {
    "duration": 11,
    "start_time": "2023-07-14T11:31:47.330Z"
   },
   {
    "duration": 4,
    "start_time": "2023-07-14T11:31:58.098Z"
   },
   {
    "duration": 9,
    "start_time": "2023-07-14T11:31:59.330Z"
   },
   {
    "duration": 4,
    "start_time": "2023-07-14T11:31:59.922Z"
   },
   {
    "duration": 5,
    "start_time": "2023-07-14T11:32:00.569Z"
   },
   {
    "duration": 4,
    "start_time": "2023-07-14T11:32:02.466Z"
   },
   {
    "duration": 10,
    "start_time": "2023-07-14T11:32:03.130Z"
   },
   {
    "duration": 4,
    "start_time": "2023-07-14T11:32:03.777Z"
   },
   {
    "duration": 4,
    "start_time": "2023-07-14T11:32:04.394Z"
   },
   {
    "duration": 26524,
    "start_time": "2023-07-14T11:32:07.514Z"
   },
   {
    "duration": 207,
    "start_time": "2023-07-14T11:32:34.041Z"
   },
   {
    "duration": 30485,
    "start_time": "2023-07-14T11:32:38.530Z"
   },
   {
    "duration": 69,
    "start_time": "2023-07-14T11:33:09.017Z"
   },
   {
    "duration": 220,
    "start_time": "2023-07-14T11:33:10.635Z"
   },
   {
    "duration": 29,
    "start_time": "2023-07-14T11:33:11.713Z"
   },
   {
    "duration": 149,
    "start_time": "2023-07-14T11:33:48.146Z"
   },
   {
    "duration": 29,
    "start_time": "2023-07-14T11:33:51.834Z"
   },
   {
    "duration": 29,
    "start_time": "2023-07-14T11:34:15.922Z"
   },
   {
    "duration": 5893,
    "start_time": "2023-07-14T11:34:21.977Z"
   },
   {
    "duration": 101,
    "start_time": "2023-07-14T11:34:34.185Z"
   },
   {
    "duration": 2625,
    "start_time": "2023-07-14T11:34:39.145Z"
   },
   {
    "duration": 66,
    "start_time": "2023-07-14T11:37:13.808Z"
   },
   {
    "duration": 146,
    "start_time": "2023-07-14T11:37:17.336Z"
   },
   {
    "duration": 14,
    "start_time": "2023-07-14T11:37:20.641Z"
   },
   {
    "duration": 98,
    "start_time": "2023-07-14T11:37:50.273Z"
   },
   {
    "duration": 45,
    "start_time": "2023-07-14T11:37:58.432Z"
   },
   {
    "duration": 19,
    "start_time": "2023-07-14T11:38:11.761Z"
   },
   {
    "duration": 5,
    "start_time": "2023-07-14T11:43:30.751Z"
   },
   {
    "duration": 5,
    "start_time": "2023-07-14T11:43:35.911Z"
   },
   {
    "duration": 9,
    "start_time": "2023-07-14T11:43:36.550Z"
   },
   {
    "duration": 6,
    "start_time": "2023-07-14T11:43:42.262Z"
   },
   {
    "duration": 4,
    "start_time": "2023-07-14T11:43:43.118Z"
   },
   {
    "duration": 4,
    "start_time": "2023-07-14T11:43:43.855Z"
   },
   {
    "duration": 6,
    "start_time": "2023-07-14T11:43:47.510Z"
   },
   {
    "duration": 4,
    "start_time": "2023-07-14T11:43:48.334Z"
   },
   {
    "duration": 5,
    "start_time": "2023-07-14T11:43:48.966Z"
   },
   {
    "duration": 2102,
    "start_time": "2023-07-14T11:47:27.786Z"
   },
   {
    "duration": 1214,
    "start_time": "2023-07-14T11:47:29.891Z"
   },
   {
    "duration": 3,
    "start_time": "2023-07-14T11:47:31.107Z"
   },
   {
    "duration": 165,
    "start_time": "2023-07-14T11:47:31.113Z"
   },
   {
    "duration": 8,
    "start_time": "2023-07-14T11:47:31.279Z"
   },
   {
    "duration": 24,
    "start_time": "2023-07-14T11:47:31.289Z"
   },
   {
    "duration": 50,
    "start_time": "2023-07-14T11:47:31.315Z"
   },
   {
    "duration": 39,
    "start_time": "2023-07-14T11:47:31.367Z"
   },
   {
    "duration": 188,
    "start_time": "2023-07-14T11:47:31.408Z"
   },
   {
    "duration": 12,
    "start_time": "2023-07-14T11:47:31.598Z"
   },
   {
    "duration": 105,
    "start_time": "2023-07-14T11:47:31.612Z"
   },
   {
    "duration": 34,
    "start_time": "2023-07-14T11:47:31.719Z"
   },
   {
    "duration": 41,
    "start_time": "2023-07-14T11:47:31.755Z"
   },
   {
    "duration": 19,
    "start_time": "2023-07-14T11:47:31.798Z"
   },
   {
    "duration": 41,
    "start_time": "2023-07-14T11:47:31.819Z"
   },
   {
    "duration": 40,
    "start_time": "2023-07-14T11:47:31.862Z"
   },
   {
    "duration": 72,
    "start_time": "2023-07-14T11:47:31.903Z"
   },
   {
    "duration": 24,
    "start_time": "2023-07-14T11:47:31.976Z"
   },
   {
    "duration": 18,
    "start_time": "2023-07-14T11:47:32.002Z"
   },
   {
    "duration": 13,
    "start_time": "2023-07-14T11:47:32.022Z"
   },
   {
    "duration": 28,
    "start_time": "2023-07-14T11:47:32.037Z"
   },
   {
    "duration": 32,
    "start_time": "2023-07-14T11:47:32.066Z"
   },
   {
    "duration": 58,
    "start_time": "2023-07-14T11:47:32.100Z"
   },
   {
    "duration": 28,
    "start_time": "2023-07-14T11:47:32.159Z"
   },
   {
    "duration": 30,
    "start_time": "2023-07-14T11:47:32.189Z"
   },
   {
    "duration": 24,
    "start_time": "2023-07-14T11:47:32.221Z"
   },
   {
    "duration": 55511,
    "start_time": "2023-07-14T11:47:32.247Z"
   },
   {
    "duration": 154,
    "start_time": "2023-07-14T11:48:27.762Z"
   },
   {
    "duration": 155,
    "start_time": "2023-07-14T11:48:27.918Z"
   },
   {
    "duration": 17,
    "start_time": "2023-07-14T11:48:28.075Z"
   },
   {
    "duration": 2584,
    "start_time": "2023-07-14T11:48:28.094Z"
   },
   {
    "duration": 387,
    "start_time": "2023-07-14T11:48:30.681Z"
   },
   {
    "duration": 33,
    "start_time": "2023-07-14T11:48:31.070Z"
   },
   {
    "duration": 164,
    "start_time": "2023-07-14T11:48:31.105Z"
   },
   {
    "duration": 44,
    "start_time": "2023-07-14T11:48:31.271Z"
   },
   {
    "duration": 36,
    "start_time": "2023-07-14T11:48:31.318Z"
   },
   {
    "duration": 47,
    "start_time": "2023-07-14T11:48:31.355Z"
   },
   {
    "duration": 43,
    "start_time": "2023-07-14T11:48:31.403Z"
   },
   {
    "duration": 59,
    "start_time": "2023-07-14T11:48:31.448Z"
   },
   {
    "duration": 15,
    "start_time": "2023-07-14T11:48:31.509Z"
   },
   {
    "duration": 45,
    "start_time": "2023-07-14T11:48:31.525Z"
   },
   {
    "duration": 26327,
    "start_time": "2023-07-14T11:48:31.572Z"
   },
   {
    "duration": 158,
    "start_time": "2023-07-14T11:48:57.900Z"
   },
   {
    "duration": 31165,
    "start_time": "2023-07-14T11:48:58.060Z"
   },
   {
    "duration": 82,
    "start_time": "2023-07-14T11:49:29.228Z"
   },
   {
    "duration": 265,
    "start_time": "2023-07-14T11:49:29.312Z"
   },
   {
    "duration": 32,
    "start_time": "2023-07-14T11:49:29.579Z"
   },
   {
    "duration": 6156,
    "start_time": "2023-07-14T11:49:29.613Z"
   },
   {
    "duration": 198,
    "start_time": "2023-07-14T11:49:35.772Z"
   },
   {
    "duration": 3403,
    "start_time": "2023-07-14T11:49:35.972Z"
   },
   {
    "duration": 292,
    "start_time": "2023-07-14T11:49:39.377Z"
   },
   {
    "duration": 153,
    "start_time": "2023-07-14T11:49:39.671Z"
   },
   {
    "duration": 146,
    "start_time": "2023-07-14T11:49:39.826Z"
   },
   {
    "duration": 97,
    "start_time": "2023-07-14T11:49:39.975Z"
   },
   {
    "duration": 10,
    "start_time": "2023-07-14T11:49:40.073Z"
   },
   {
    "duration": 8,
    "start_time": "2023-07-14T11:49:40.085Z"
   },
   {
    "duration": 123,
    "start_time": "2023-07-14T11:49:40.095Z"
   },
   {
    "duration": 16,
    "start_time": "2023-07-14T12:03:35.929Z"
   },
   {
    "duration": 2185,
    "start_time": "2023-07-14T12:03:50.376Z"
   },
   {
    "duration": 1198,
    "start_time": "2023-07-14T12:03:52.564Z"
   },
   {
    "duration": 3,
    "start_time": "2023-07-14T12:03:53.764Z"
   },
   {
    "duration": 122,
    "start_time": "2023-07-14T12:03:53.770Z"
   },
   {
    "duration": 9,
    "start_time": "2023-07-14T12:03:53.893Z"
   },
   {
    "duration": 17,
    "start_time": "2023-07-14T12:03:53.903Z"
   },
   {
    "duration": 7,
    "start_time": "2023-07-14T12:03:53.922Z"
   },
   {
    "duration": 18,
    "start_time": "2023-07-14T12:03:53.930Z"
   },
   {
    "duration": 228,
    "start_time": "2023-07-14T12:03:53.950Z"
   },
   {
    "duration": 16,
    "start_time": "2023-07-14T12:03:54.182Z"
   },
   {
    "duration": 11,
    "start_time": "2023-07-14T12:03:54.201Z"
   },
   {
    "duration": 17,
    "start_time": "2023-07-14T12:03:54.214Z"
   },
   {
    "duration": 40,
    "start_time": "2023-07-14T12:03:54.233Z"
   },
   {
    "duration": 16,
    "start_time": "2023-07-14T12:03:54.276Z"
   },
   {
    "duration": 6,
    "start_time": "2023-07-14T12:03:54.294Z"
   },
   {
    "duration": 9,
    "start_time": "2023-07-14T12:03:54.302Z"
   },
   {
    "duration": 11,
    "start_time": "2023-07-14T12:03:54.313Z"
   },
   {
    "duration": 123,
    "start_time": "2023-07-14T12:03:54.326Z"
   },
   {
    "duration": 0,
    "start_time": "2023-07-14T12:03:54.451Z"
   },
   {
    "duration": 0,
    "start_time": "2023-07-14T12:03:54.452Z"
   },
   {
    "duration": 0,
    "start_time": "2023-07-14T12:03:54.453Z"
   },
   {
    "duration": 0,
    "start_time": "2023-07-14T12:03:54.454Z"
   },
   {
    "duration": 0,
    "start_time": "2023-07-14T12:03:54.468Z"
   },
   {
    "duration": 0,
    "start_time": "2023-07-14T12:03:54.469Z"
   },
   {
    "duration": 0,
    "start_time": "2023-07-14T12:03:54.470Z"
   },
   {
    "duration": 0,
    "start_time": "2023-07-14T12:03:54.471Z"
   },
   {
    "duration": 0,
    "start_time": "2023-07-14T12:03:54.472Z"
   },
   {
    "duration": 0,
    "start_time": "2023-07-14T12:03:54.473Z"
   },
   {
    "duration": 0,
    "start_time": "2023-07-14T12:03:54.474Z"
   },
   {
    "duration": 0,
    "start_time": "2023-07-14T12:03:54.475Z"
   },
   {
    "duration": 0,
    "start_time": "2023-07-14T12:03:54.476Z"
   },
   {
    "duration": 0,
    "start_time": "2023-07-14T12:03:54.477Z"
   },
   {
    "duration": 0,
    "start_time": "2023-07-14T12:03:54.478Z"
   },
   {
    "duration": 0,
    "start_time": "2023-07-14T12:03:54.479Z"
   },
   {
    "duration": 0,
    "start_time": "2023-07-14T12:03:54.481Z"
   },
   {
    "duration": 0,
    "start_time": "2023-07-14T12:03:54.482Z"
   },
   {
    "duration": 0,
    "start_time": "2023-07-14T12:03:54.483Z"
   },
   {
    "duration": 0,
    "start_time": "2023-07-14T12:03:54.484Z"
   },
   {
    "duration": 0,
    "start_time": "2023-07-14T12:03:54.485Z"
   },
   {
    "duration": 0,
    "start_time": "2023-07-14T12:03:54.486Z"
   },
   {
    "duration": 0,
    "start_time": "2023-07-14T12:03:54.487Z"
   },
   {
    "duration": 0,
    "start_time": "2023-07-14T12:03:54.487Z"
   },
   {
    "duration": 0,
    "start_time": "2023-07-14T12:03:54.488Z"
   },
   {
    "duration": 0,
    "start_time": "2023-07-14T12:03:54.489Z"
   },
   {
    "duration": 0,
    "start_time": "2023-07-14T12:03:54.490Z"
   },
   {
    "duration": 0,
    "start_time": "2023-07-14T12:03:54.491Z"
   },
   {
    "duration": 0,
    "start_time": "2023-07-14T12:03:54.492Z"
   },
   {
    "duration": 0,
    "start_time": "2023-07-14T12:03:54.494Z"
   },
   {
    "duration": 0,
    "start_time": "2023-07-14T12:03:54.495Z"
   },
   {
    "duration": 0,
    "start_time": "2023-07-14T12:03:54.496Z"
   },
   {
    "duration": 0,
    "start_time": "2023-07-14T12:03:54.497Z"
   },
   {
    "duration": 0,
    "start_time": "2023-07-14T12:03:54.498Z"
   },
   {
    "duration": 0,
    "start_time": "2023-07-14T12:03:54.499Z"
   },
   {
    "duration": 0,
    "start_time": "2023-07-14T12:03:54.500Z"
   },
   {
    "duration": 0,
    "start_time": "2023-07-14T12:03:54.501Z"
   },
   {
    "duration": 0,
    "start_time": "2023-07-14T12:03:54.502Z"
   },
   {
    "duration": 0,
    "start_time": "2023-07-14T12:03:54.504Z"
   },
   {
    "duration": 0,
    "start_time": "2023-07-14T12:03:54.505Z"
   },
   {
    "duration": 0,
    "start_time": "2023-07-14T12:03:54.568Z"
   },
   {
    "duration": 8,
    "start_time": "2023-07-14T12:06:35.098Z"
   },
   {
    "duration": 8,
    "start_time": "2023-07-14T12:06:35.625Z"
   },
   {
    "duration": 2176,
    "start_time": "2023-07-14T12:06:41.959Z"
   },
   {
    "duration": 1217,
    "start_time": "2023-07-14T12:06:44.139Z"
   },
   {
    "duration": 3,
    "start_time": "2023-07-14T12:06:45.358Z"
   },
   {
    "duration": 124,
    "start_time": "2023-07-14T12:06:45.367Z"
   },
   {
    "duration": 9,
    "start_time": "2023-07-14T12:06:45.492Z"
   },
   {
    "duration": 9,
    "start_time": "2023-07-14T12:06:45.502Z"
   },
   {
    "duration": 4,
    "start_time": "2023-07-14T12:06:45.513Z"
   },
   {
    "duration": 9,
    "start_time": "2023-07-14T12:06:45.518Z"
   },
   {
    "duration": 187,
    "start_time": "2023-07-14T12:06:45.528Z"
   },
   {
    "duration": 13,
    "start_time": "2023-07-14T12:06:45.717Z"
   },
   {
    "duration": 8,
    "start_time": "2023-07-14T12:06:45.732Z"
   },
   {
    "duration": 26,
    "start_time": "2023-07-14T12:06:45.742Z"
   },
   {
    "duration": 13,
    "start_time": "2023-07-14T12:06:45.770Z"
   },
   {
    "duration": 13,
    "start_time": "2023-07-14T12:06:45.785Z"
   },
   {
    "duration": 5,
    "start_time": "2023-07-14T12:06:45.800Z"
   },
   {
    "duration": 8,
    "start_time": "2023-07-14T12:06:45.807Z"
   },
   {
    "duration": 12,
    "start_time": "2023-07-14T12:06:45.818Z"
   },
   {
    "duration": 154,
    "start_time": "2023-07-14T12:06:45.832Z"
   },
   {
    "duration": 0,
    "start_time": "2023-07-14T12:06:45.988Z"
   },
   {
    "duration": 0,
    "start_time": "2023-07-14T12:06:45.989Z"
   },
   {
    "duration": 0,
    "start_time": "2023-07-14T12:06:45.990Z"
   },
   {
    "duration": 0,
    "start_time": "2023-07-14T12:06:45.991Z"
   },
   {
    "duration": 0,
    "start_time": "2023-07-14T12:06:45.992Z"
   },
   {
    "duration": 0,
    "start_time": "2023-07-14T12:06:45.994Z"
   },
   {
    "duration": 0,
    "start_time": "2023-07-14T12:06:45.995Z"
   },
   {
    "duration": 0,
    "start_time": "2023-07-14T12:06:45.995Z"
   },
   {
    "duration": 0,
    "start_time": "2023-07-14T12:06:45.997Z"
   },
   {
    "duration": 0,
    "start_time": "2023-07-14T12:06:45.998Z"
   },
   {
    "duration": 0,
    "start_time": "2023-07-14T12:06:45.998Z"
   },
   {
    "duration": 0,
    "start_time": "2023-07-14T12:06:46.000Z"
   },
   {
    "duration": 0,
    "start_time": "2023-07-14T12:06:46.000Z"
   },
   {
    "duration": 0,
    "start_time": "2023-07-14T12:06:46.001Z"
   },
   {
    "duration": 0,
    "start_time": "2023-07-14T12:06:46.002Z"
   },
   {
    "duration": 0,
    "start_time": "2023-07-14T12:06:46.003Z"
   },
   {
    "duration": 0,
    "start_time": "2023-07-14T12:06:46.005Z"
   },
   {
    "duration": 0,
    "start_time": "2023-07-14T12:06:46.006Z"
   },
   {
    "duration": 0,
    "start_time": "2023-07-14T12:06:46.007Z"
   },
   {
    "duration": 0,
    "start_time": "2023-07-14T12:06:46.008Z"
   },
   {
    "duration": 0,
    "start_time": "2023-07-14T12:06:46.009Z"
   },
   {
    "duration": 0,
    "start_time": "2023-07-14T12:06:46.010Z"
   },
   {
    "duration": 0,
    "start_time": "2023-07-14T12:06:46.011Z"
   },
   {
    "duration": 0,
    "start_time": "2023-07-14T12:06:46.012Z"
   },
   {
    "duration": 0,
    "start_time": "2023-07-14T12:06:46.013Z"
   },
   {
    "duration": 0,
    "start_time": "2023-07-14T12:06:46.014Z"
   },
   {
    "duration": 0,
    "start_time": "2023-07-14T12:06:46.015Z"
   },
   {
    "duration": 0,
    "start_time": "2023-07-14T12:06:46.016Z"
   },
   {
    "duration": 0,
    "start_time": "2023-07-14T12:06:46.017Z"
   },
   {
    "duration": 0,
    "start_time": "2023-07-14T12:06:46.018Z"
   },
   {
    "duration": 0,
    "start_time": "2023-07-14T12:06:46.068Z"
   },
   {
    "duration": 0,
    "start_time": "2023-07-14T12:06:46.070Z"
   },
   {
    "duration": 0,
    "start_time": "2023-07-14T12:06:46.071Z"
   },
   {
    "duration": 0,
    "start_time": "2023-07-14T12:06:46.072Z"
   },
   {
    "duration": 0,
    "start_time": "2023-07-14T12:06:46.073Z"
   },
   {
    "duration": 0,
    "start_time": "2023-07-14T12:06:46.074Z"
   },
   {
    "duration": 0,
    "start_time": "2023-07-14T12:06:46.074Z"
   },
   {
    "duration": 0,
    "start_time": "2023-07-14T12:06:46.075Z"
   },
   {
    "duration": 0,
    "start_time": "2023-07-14T12:06:46.076Z"
   },
   {
    "duration": 0,
    "start_time": "2023-07-14T12:06:46.077Z"
   },
   {
    "duration": 0,
    "start_time": "2023-07-14T12:06:46.078Z"
   },
   {
    "duration": 9,
    "start_time": "2023-07-14T12:06:56.546Z"
   },
   {
    "duration": 50,
    "start_time": "2023-07-14T12:07:41.201Z"
   },
   {
    "duration": 2142,
    "start_time": "2023-07-14T12:08:45.344Z"
   },
   {
    "duration": 1157,
    "start_time": "2023-07-14T12:08:47.488Z"
   },
   {
    "duration": 2,
    "start_time": "2023-07-14T12:08:48.647Z"
   },
   {
    "duration": 125,
    "start_time": "2023-07-14T12:08:48.652Z"
   },
   {
    "duration": 7,
    "start_time": "2023-07-14T12:08:48.779Z"
   },
   {
    "duration": 12,
    "start_time": "2023-07-14T12:08:48.787Z"
   },
   {
    "duration": 18,
    "start_time": "2023-07-14T12:08:48.800Z"
   },
   {
    "duration": 19,
    "start_time": "2023-07-14T12:08:48.820Z"
   },
   {
    "duration": 161,
    "start_time": "2023-07-14T12:08:48.841Z"
   },
   {
    "duration": 13,
    "start_time": "2023-07-14T12:08:49.005Z"
   },
   {
    "duration": 9,
    "start_time": "2023-07-14T12:08:49.019Z"
   },
   {
    "duration": 10,
    "start_time": "2023-07-14T12:08:49.030Z"
   },
   {
    "duration": 35,
    "start_time": "2023-07-14T12:08:49.041Z"
   },
   {
    "duration": 12,
    "start_time": "2023-07-14T12:08:49.078Z"
   },
   {
    "duration": 4,
    "start_time": "2023-07-14T12:08:49.092Z"
   },
   {
    "duration": 6,
    "start_time": "2023-07-14T12:08:49.098Z"
   },
   {
    "duration": 9,
    "start_time": "2023-07-14T12:08:49.106Z"
   },
   {
    "duration": 127,
    "start_time": "2023-07-14T12:08:49.117Z"
   },
   {
    "duration": 0,
    "start_time": "2023-07-14T12:08:49.246Z"
   },
   {
    "duration": 0,
    "start_time": "2023-07-14T12:08:49.248Z"
   },
   {
    "duration": 0,
    "start_time": "2023-07-14T12:08:49.249Z"
   },
   {
    "duration": 0,
    "start_time": "2023-07-14T12:08:49.250Z"
   },
   {
    "duration": 0,
    "start_time": "2023-07-14T12:08:49.251Z"
   },
   {
    "duration": 0,
    "start_time": "2023-07-14T12:08:49.267Z"
   },
   {
    "duration": 0,
    "start_time": "2023-07-14T12:08:49.269Z"
   },
   {
    "duration": 0,
    "start_time": "2023-07-14T12:08:49.270Z"
   },
   {
    "duration": 0,
    "start_time": "2023-07-14T12:08:49.271Z"
   },
   {
    "duration": 0,
    "start_time": "2023-07-14T12:08:49.272Z"
   },
   {
    "duration": 0,
    "start_time": "2023-07-14T12:08:49.273Z"
   },
   {
    "duration": 0,
    "start_time": "2023-07-14T12:08:49.274Z"
   },
   {
    "duration": 0,
    "start_time": "2023-07-14T12:08:49.275Z"
   },
   {
    "duration": 0,
    "start_time": "2023-07-14T12:08:49.276Z"
   },
   {
    "duration": 0,
    "start_time": "2023-07-14T12:08:49.277Z"
   },
   {
    "duration": 0,
    "start_time": "2023-07-14T12:08:49.277Z"
   },
   {
    "duration": 0,
    "start_time": "2023-07-14T12:08:49.278Z"
   },
   {
    "duration": 0,
    "start_time": "2023-07-14T12:08:49.279Z"
   },
   {
    "duration": 0,
    "start_time": "2023-07-14T12:08:49.280Z"
   },
   {
    "duration": 0,
    "start_time": "2023-07-14T12:08:49.280Z"
   },
   {
    "duration": 0,
    "start_time": "2023-07-14T12:08:49.281Z"
   },
   {
    "duration": 0,
    "start_time": "2023-07-14T12:08:49.283Z"
   },
   {
    "duration": 0,
    "start_time": "2023-07-14T12:08:49.284Z"
   },
   {
    "duration": 0,
    "start_time": "2023-07-14T12:08:49.285Z"
   },
   {
    "duration": 0,
    "start_time": "2023-07-14T12:08:49.286Z"
   },
   {
    "duration": 0,
    "start_time": "2023-07-14T12:08:49.287Z"
   },
   {
    "duration": 0,
    "start_time": "2023-07-14T12:08:49.288Z"
   },
   {
    "duration": 0,
    "start_time": "2023-07-14T12:08:49.289Z"
   },
   {
    "duration": 0,
    "start_time": "2023-07-14T12:08:49.290Z"
   },
   {
    "duration": 9,
    "start_time": "2023-07-14T12:09:20.320Z"
   },
   {
    "duration": 2199,
    "start_time": "2023-07-14T12:09:26.557Z"
   },
   {
    "duration": 1313,
    "start_time": "2023-07-14T12:09:28.759Z"
   },
   {
    "duration": 4,
    "start_time": "2023-07-14T12:09:30.073Z"
   },
   {
    "duration": 159,
    "start_time": "2023-07-14T12:09:30.079Z"
   },
   {
    "duration": 31,
    "start_time": "2023-07-14T12:09:30.239Z"
   },
   {
    "duration": 52,
    "start_time": "2023-07-14T12:09:30.272Z"
   },
   {
    "duration": 46,
    "start_time": "2023-07-14T12:09:30.327Z"
   },
   {
    "duration": 46,
    "start_time": "2023-07-14T12:09:30.375Z"
   },
   {
    "duration": 246,
    "start_time": "2023-07-14T12:09:30.422Z"
   },
   {
    "duration": 14,
    "start_time": "2023-07-14T12:09:30.670Z"
   },
   {
    "duration": 32,
    "start_time": "2023-07-14T12:09:30.686Z"
   },
   {
    "duration": 49,
    "start_time": "2023-07-14T12:09:30.720Z"
   },
   {
    "duration": 102,
    "start_time": "2023-07-14T12:09:30.771Z"
   },
   {
    "duration": 162,
    "start_time": "2023-07-14T12:09:30.875Z"
   },
   {
    "duration": 286,
    "start_time": "2023-07-14T12:09:31.039Z"
   },
   {
    "duration": 52,
    "start_time": "2023-07-14T12:09:31.327Z"
   },
   {
    "duration": 52,
    "start_time": "2023-07-14T12:09:31.381Z"
   },
   {
    "duration": 41,
    "start_time": "2023-07-14T12:09:31.435Z"
   },
   {
    "duration": 38,
    "start_time": "2023-07-14T12:09:31.477Z"
   },
   {
    "duration": 45,
    "start_time": "2023-07-14T12:09:31.517Z"
   },
   {
    "duration": 48,
    "start_time": "2023-07-14T12:09:31.564Z"
   },
   {
    "duration": 52,
    "start_time": "2023-07-14T12:09:31.613Z"
   },
   {
    "duration": 46,
    "start_time": "2023-07-14T12:09:31.667Z"
   },
   {
    "duration": 45,
    "start_time": "2023-07-14T12:09:31.715Z"
   },
   {
    "duration": 62,
    "start_time": "2023-07-14T12:09:31.762Z"
   },
   {
    "duration": 70,
    "start_time": "2023-07-14T12:09:31.826Z"
   },
   {
    "duration": 124,
    "start_time": "2023-07-14T12:09:31.897Z"
   },
   {
    "duration": 0,
    "start_time": "2023-07-14T12:09:32.025Z"
   },
   {
    "duration": 0,
    "start_time": "2023-07-14T12:09:32.026Z"
   },
   {
    "duration": 0,
    "start_time": "2023-07-14T12:09:32.027Z"
   },
   {
    "duration": 0,
    "start_time": "2023-07-14T12:09:32.029Z"
   },
   {
    "duration": 0,
    "start_time": "2023-07-14T12:09:32.031Z"
   },
   {
    "duration": 0,
    "start_time": "2023-07-14T12:09:32.032Z"
   },
   {
    "duration": 0,
    "start_time": "2023-07-14T12:09:32.033Z"
   },
   {
    "duration": 0,
    "start_time": "2023-07-14T12:09:32.034Z"
   },
   {
    "duration": 0,
    "start_time": "2023-07-14T12:09:32.035Z"
   },
   {
    "duration": 0,
    "start_time": "2023-07-14T12:09:32.036Z"
   },
   {
    "duration": 0,
    "start_time": "2023-07-14T12:09:32.037Z"
   },
   {
    "duration": 0,
    "start_time": "2023-07-14T12:09:32.039Z"
   },
   {
    "duration": 0,
    "start_time": "2023-07-14T12:09:32.040Z"
   },
   {
    "duration": 0,
    "start_time": "2023-07-14T12:09:32.041Z"
   },
   {
    "duration": 0,
    "start_time": "2023-07-14T12:09:32.068Z"
   },
   {
    "duration": 0,
    "start_time": "2023-07-14T12:09:32.071Z"
   },
   {
    "duration": 0,
    "start_time": "2023-07-14T12:09:32.072Z"
   },
   {
    "duration": 0,
    "start_time": "2023-07-14T12:09:32.073Z"
   },
   {
    "duration": 0,
    "start_time": "2023-07-14T12:09:32.074Z"
   },
   {
    "duration": 0,
    "start_time": "2023-07-14T12:09:32.075Z"
   },
   {
    "duration": 8,
    "start_time": "2023-07-14T12:10:02.161Z"
   },
   {
    "duration": 3,
    "start_time": "2023-07-14T12:10:03.537Z"
   },
   {
    "duration": 5,
    "start_time": "2023-07-14T12:10:04.169Z"
   },
   {
    "duration": 2226,
    "start_time": "2023-07-14T12:10:21.976Z"
   },
   {
    "duration": 1202,
    "start_time": "2023-07-14T12:10:24.204Z"
   },
   {
    "duration": 3,
    "start_time": "2023-07-14T12:10:25.408Z"
   },
   {
    "duration": 130,
    "start_time": "2023-07-14T12:10:25.413Z"
   },
   {
    "duration": 9,
    "start_time": "2023-07-14T12:10:25.545Z"
   },
   {
    "duration": 6,
    "start_time": "2023-07-14T12:10:25.569Z"
   },
   {
    "duration": 9,
    "start_time": "2023-07-14T12:10:25.577Z"
   },
   {
    "duration": 13,
    "start_time": "2023-07-14T12:10:25.588Z"
   },
   {
    "duration": 192,
    "start_time": "2023-07-14T12:10:25.603Z"
   },
   {
    "duration": 21,
    "start_time": "2023-07-14T12:10:25.799Z"
   },
   {
    "duration": 13,
    "start_time": "2023-07-14T12:10:25.823Z"
   },
   {
    "duration": 7,
    "start_time": "2023-07-14T12:10:25.839Z"
   },
   {
    "duration": 17,
    "start_time": "2023-07-14T12:10:25.869Z"
   },
   {
    "duration": 18,
    "start_time": "2023-07-14T12:10:25.889Z"
   },
   {
    "duration": 6,
    "start_time": "2023-07-14T12:10:25.909Z"
   },
   {
    "duration": 6,
    "start_time": "2023-07-14T12:10:25.917Z"
   },
   {
    "duration": 18,
    "start_time": "2023-07-14T12:10:25.925Z"
   },
   {
    "duration": 31,
    "start_time": "2023-07-14T12:10:25.945Z"
   },
   {
    "duration": 10,
    "start_time": "2023-07-14T12:10:25.978Z"
   },
   {
    "duration": 8,
    "start_time": "2023-07-14T12:10:25.990Z"
   },
   {
    "duration": 26,
    "start_time": "2023-07-14T12:10:26.000Z"
   },
   {
    "duration": 30,
    "start_time": "2023-07-14T12:10:26.029Z"
   },
   {
    "duration": 50,
    "start_time": "2023-07-14T12:10:26.061Z"
   },
   {
    "duration": 23,
    "start_time": "2023-07-14T12:10:26.113Z"
   },
   {
    "duration": 29,
    "start_time": "2023-07-14T12:10:26.137Z"
   },
   {
    "duration": 28,
    "start_time": "2023-07-14T12:10:26.168Z"
   },
   {
    "duration": 112,
    "start_time": "2023-07-14T12:10:26.197Z"
   },
   {
    "duration": 0,
    "start_time": "2023-07-14T12:10:26.312Z"
   },
   {
    "duration": 0,
    "start_time": "2023-07-14T12:10:26.314Z"
   },
   {
    "duration": 0,
    "start_time": "2023-07-14T12:10:26.315Z"
   },
   {
    "duration": 0,
    "start_time": "2023-07-14T12:10:26.317Z"
   },
   {
    "duration": 0,
    "start_time": "2023-07-14T12:10:26.318Z"
   },
   {
    "duration": 0,
    "start_time": "2023-07-14T12:10:26.319Z"
   },
   {
    "duration": 0,
    "start_time": "2023-07-14T12:10:26.321Z"
   },
   {
    "duration": 0,
    "start_time": "2023-07-14T12:10:26.322Z"
   },
   {
    "duration": 0,
    "start_time": "2023-07-14T12:10:26.323Z"
   },
   {
    "duration": 0,
    "start_time": "2023-07-14T12:10:26.324Z"
   },
   {
    "duration": 0,
    "start_time": "2023-07-14T12:10:26.325Z"
   },
   {
    "duration": 0,
    "start_time": "2023-07-14T12:10:26.326Z"
   },
   {
    "duration": 0,
    "start_time": "2023-07-14T12:10:26.327Z"
   },
   {
    "duration": 0,
    "start_time": "2023-07-14T12:10:26.328Z"
   },
   {
    "duration": 0,
    "start_time": "2023-07-14T12:10:26.329Z"
   },
   {
    "duration": 0,
    "start_time": "2023-07-14T12:10:26.331Z"
   },
   {
    "duration": 0,
    "start_time": "2023-07-14T12:10:26.332Z"
   },
   {
    "duration": 0,
    "start_time": "2023-07-14T12:10:26.333Z"
   },
   {
    "duration": 0,
    "start_time": "2023-07-14T12:10:26.334Z"
   },
   {
    "duration": 5,
    "start_time": "2023-07-14T12:10:31.737Z"
   },
   {
    "duration": 6,
    "start_time": "2023-07-14T12:10:32.137Z"
   },
   {
    "duration": 4,
    "start_time": "2023-07-14T12:11:31.410Z"
   },
   {
    "duration": 11,
    "start_time": "2023-07-14T12:11:31.776Z"
   },
   {
    "duration": 9,
    "start_time": "2023-07-14T12:11:32.177Z"
   },
   {
    "duration": 6,
    "start_time": "2023-07-14T12:11:32.609Z"
   },
   {
    "duration": 4,
    "start_time": "2023-07-14T12:12:10.441Z"
   },
   {
    "duration": 23,
    "start_time": "2023-07-14T12:12:35.065Z"
   },
   {
    "duration": 5,
    "start_time": "2023-07-14T12:12:41.425Z"
   },
   {
    "duration": 5,
    "start_time": "2023-07-14T12:13:19.537Z"
   },
   {
    "duration": 15,
    "start_time": "2023-07-14T12:13:23.969Z"
   },
   {
    "duration": 27,
    "start_time": "2023-07-14T12:16:53.369Z"
   },
   {
    "duration": 14,
    "start_time": "2023-07-14T12:17:02.385Z"
   },
   {
    "duration": 13,
    "start_time": "2023-07-14T12:17:10.440Z"
   },
   {
    "duration": 21,
    "start_time": "2023-07-14T12:17:22.336Z"
   },
   {
    "duration": 15,
    "start_time": "2023-07-14T12:17:42.256Z"
   },
   {
    "duration": 2,
    "start_time": "2023-07-14T12:17:59.472Z"
   },
   {
    "duration": 71,
    "start_time": "2023-07-14T12:19:07.023Z"
   },
   {
    "duration": 10,
    "start_time": "2023-07-14T12:19:12.943Z"
   },
   {
    "duration": 11,
    "start_time": "2023-07-14T12:19:28.111Z"
   },
   {
    "duration": 16,
    "start_time": "2023-07-14T12:19:32.620Z"
   },
   {
    "duration": 14,
    "start_time": "2023-07-14T12:19:33.631Z"
   },
   {
    "duration": 3,
    "start_time": "2023-07-14T12:20:33.791Z"
   },
   {
    "duration": 13,
    "start_time": "2023-07-14T12:21:02.087Z"
   },
   {
    "duration": 2145,
    "start_time": "2023-07-14T12:21:11.500Z"
   },
   {
    "duration": 1215,
    "start_time": "2023-07-14T12:21:13.647Z"
   },
   {
    "duration": 4,
    "start_time": "2023-07-14T12:21:14.863Z"
   },
   {
    "duration": 114,
    "start_time": "2023-07-14T12:21:14.869Z"
   },
   {
    "duration": 11,
    "start_time": "2023-07-14T12:21:14.985Z"
   },
   {
    "duration": 45,
    "start_time": "2023-07-14T12:21:14.997Z"
   },
   {
    "duration": 27,
    "start_time": "2023-07-14T12:21:15.044Z"
   },
   {
    "duration": 48,
    "start_time": "2023-07-14T12:21:15.073Z"
   },
   {
    "duration": 188,
    "start_time": "2023-07-14T12:21:15.124Z"
   },
   {
    "duration": 13,
    "start_time": "2023-07-14T12:21:15.315Z"
   },
   {
    "duration": 17,
    "start_time": "2023-07-14T12:21:15.331Z"
   },
   {
    "duration": 18,
    "start_time": "2023-07-14T12:21:15.350Z"
   },
   {
    "duration": 17,
    "start_time": "2023-07-14T12:21:15.370Z"
   },
   {
    "duration": 15,
    "start_time": "2023-07-14T12:21:15.389Z"
   },
   {
    "duration": 6,
    "start_time": "2023-07-14T12:21:15.406Z"
   },
   {
    "duration": 7,
    "start_time": "2023-07-14T12:21:15.413Z"
   },
   {
    "duration": 13,
    "start_time": "2023-07-14T12:21:15.421Z"
   },
   {
    "duration": 8,
    "start_time": "2023-07-14T12:21:15.436Z"
   },
   {
    "duration": 5,
    "start_time": "2023-07-14T12:21:15.467Z"
   },
   {
    "duration": 9,
    "start_time": "2023-07-14T12:21:15.473Z"
   },
   {
    "duration": 29,
    "start_time": "2023-07-14T12:21:15.483Z"
   },
   {
    "duration": 22,
    "start_time": "2023-07-14T12:21:15.514Z"
   },
   {
    "duration": 13,
    "start_time": "2023-07-14T12:21:15.537Z"
   },
   {
    "duration": 17,
    "start_time": "2023-07-14T12:21:15.552Z"
   },
   {
    "duration": 10,
    "start_time": "2023-07-14T12:21:15.572Z"
   },
   {
    "duration": 11,
    "start_time": "2023-07-14T12:21:15.584Z"
   },
   {
    "duration": 125,
    "start_time": "2023-07-14T12:21:15.597Z"
   },
   {
    "duration": 0,
    "start_time": "2023-07-14T12:21:15.724Z"
   },
   {
    "duration": 0,
    "start_time": "2023-07-14T12:21:15.726Z"
   },
   {
    "duration": 0,
    "start_time": "2023-07-14T12:21:15.727Z"
   },
   {
    "duration": 0,
    "start_time": "2023-07-14T12:21:15.728Z"
   },
   {
    "duration": 0,
    "start_time": "2023-07-14T12:21:15.729Z"
   },
   {
    "duration": 0,
    "start_time": "2023-07-14T12:21:15.730Z"
   },
   {
    "duration": 0,
    "start_time": "2023-07-14T12:21:15.731Z"
   },
   {
    "duration": 0,
    "start_time": "2023-07-14T12:21:15.732Z"
   },
   {
    "duration": 0,
    "start_time": "2023-07-14T12:21:15.733Z"
   },
   {
    "duration": 0,
    "start_time": "2023-07-14T12:21:15.734Z"
   },
   {
    "duration": 0,
    "start_time": "2023-07-14T12:21:15.735Z"
   },
   {
    "duration": 0,
    "start_time": "2023-07-14T12:21:15.736Z"
   },
   {
    "duration": 0,
    "start_time": "2023-07-14T12:21:15.737Z"
   },
   {
    "duration": 0,
    "start_time": "2023-07-14T12:21:15.739Z"
   },
   {
    "duration": 0,
    "start_time": "2023-07-14T12:21:15.739Z"
   },
   {
    "duration": 0,
    "start_time": "2023-07-14T12:21:15.740Z"
   },
   {
    "duration": 0,
    "start_time": "2023-07-14T12:21:15.768Z"
   },
   {
    "duration": 0,
    "start_time": "2023-07-14T12:21:15.770Z"
   },
   {
    "duration": 0,
    "start_time": "2023-07-14T12:21:15.771Z"
   },
   {
    "duration": 0,
    "start_time": "2023-07-14T12:21:15.773Z"
   },
   {
    "duration": 0,
    "start_time": "2023-07-14T12:21:15.774Z"
   },
   {
    "duration": 0,
    "start_time": "2023-07-14T12:21:15.775Z"
   },
   {
    "duration": 11,
    "start_time": "2023-07-14T12:21:25.640Z"
   },
   {
    "duration": 5,
    "start_time": "2023-07-14T12:21:38.166Z"
   },
   {
    "duration": 12,
    "start_time": "2023-07-14T12:21:39.134Z"
   },
   {
    "duration": 3,
    "start_time": "2023-07-14T12:21:39.632Z"
   },
   {
    "duration": 4,
    "start_time": "2023-07-14T12:21:40.334Z"
   },
   {
    "duration": 4,
    "start_time": "2023-07-14T12:21:42.478Z"
   },
   {
    "duration": 10,
    "start_time": "2023-07-14T12:21:42.974Z"
   },
   {
    "duration": 4,
    "start_time": "2023-07-14T12:21:43.470Z"
   },
   {
    "duration": 5,
    "start_time": "2023-07-14T12:21:44.037Z"
   },
   {
    "duration": 25930,
    "start_time": "2023-07-14T12:21:47.126Z"
   },
   {
    "duration": 3,
    "start_time": "2023-07-14T12:24:26.495Z"
   },
   {
    "duration": 17,
    "start_time": "2023-07-14T12:25:02.414Z"
   },
   {
    "duration": 5,
    "start_time": "2023-07-14T12:25:17.502Z"
   },
   {
    "duration": 5,
    "start_time": "2023-07-14T12:25:17.862Z"
   },
   {
    "duration": 15,
    "start_time": "2023-07-14T12:25:18.653Z"
   },
   {
    "duration": 21,
    "start_time": "2023-07-14T12:25:19.021Z"
   },
   {
    "duration": 12,
    "start_time": "2023-07-14T12:25:19.957Z"
   },
   {
    "duration": 11,
    "start_time": "2023-07-14T12:25:20.340Z"
   },
   {
    "duration": 10,
    "start_time": "2023-07-14T12:25:21.165Z"
   },
   {
    "duration": 210,
    "start_time": "2023-07-14T12:25:22.062Z"
   },
   {
    "duration": 250,
    "start_time": "2023-07-14T12:25:41.366Z"
   },
   {
    "duration": 212,
    "start_time": "2023-07-14T12:27:13.670Z"
   },
   {
    "duration": 23,
    "start_time": "2023-07-14T12:27:14.206Z"
   },
   {
    "duration": 205,
    "start_time": "2023-07-14T12:27:58.517Z"
   },
   {
    "duration": 23,
    "start_time": "2023-07-14T12:28:46.437Z"
   },
   {
    "duration": 23,
    "start_time": "2023-07-14T12:29:00.397Z"
   },
   {
    "duration": 18,
    "start_time": "2023-07-14T12:29:34.212Z"
   },
   {
    "duration": 12,
    "start_time": "2023-07-14T12:39:34.363Z"
   },
   {
    "duration": 215,
    "start_time": "2023-07-14T12:39:42.211Z"
   },
   {
    "duration": 18,
    "start_time": "2023-07-14T12:39:42.970Z"
   },
   {
    "duration": 15,
    "start_time": "2023-07-14T12:39:54.629Z"
   },
   {
    "duration": 157,
    "start_time": "2023-07-14T12:40:07.963Z"
   },
   {
    "duration": 208,
    "start_time": "2023-07-14T12:44:10.033Z"
   },
   {
    "duration": 23,
    "start_time": "2023-07-14T12:44:11.195Z"
   },
   {
    "duration": 150,
    "start_time": "2023-07-14T12:44:13.339Z"
   },
   {
    "duration": 17,
    "start_time": "2023-07-14T12:44:34.673Z"
   },
   {
    "duration": 19,
    "start_time": "2023-07-14T12:44:35.874Z"
   },
   {
    "duration": 144,
    "start_time": "2023-07-14T12:44:45.578Z"
   },
   {
    "duration": 6,
    "start_time": "2023-07-14T12:46:12.930Z"
   },
   {
    "duration": 2359,
    "start_time": "2023-07-14T12:49:05.113Z"
   },
   {
    "duration": 1290,
    "start_time": "2023-07-14T12:49:07.477Z"
   },
   {
    "duration": 3,
    "start_time": "2023-07-14T12:49:08.769Z"
   },
   {
    "duration": 126,
    "start_time": "2023-07-14T12:49:08.774Z"
   },
   {
    "duration": 8,
    "start_time": "2023-07-14T12:49:08.902Z"
   },
   {
    "duration": 13,
    "start_time": "2023-07-14T12:49:08.911Z"
   },
   {
    "duration": 7,
    "start_time": "2023-07-14T12:49:08.926Z"
   },
   {
    "duration": 10,
    "start_time": "2023-07-14T12:49:08.935Z"
   },
   {
    "duration": 203,
    "start_time": "2023-07-14T12:49:08.947Z"
   },
   {
    "duration": 23,
    "start_time": "2023-07-14T12:49:09.153Z"
   },
   {
    "duration": 10,
    "start_time": "2023-07-14T12:49:09.177Z"
   },
   {
    "duration": 32,
    "start_time": "2023-07-14T12:49:09.189Z"
   },
   {
    "duration": 24,
    "start_time": "2023-07-14T12:49:09.223Z"
   },
   {
    "duration": 12,
    "start_time": "2023-07-14T12:49:09.248Z"
   },
   {
    "duration": 5,
    "start_time": "2023-07-14T12:49:09.261Z"
   },
   {
    "duration": 9,
    "start_time": "2023-07-14T12:49:09.267Z"
   },
   {
    "duration": 19,
    "start_time": "2023-07-14T12:49:09.278Z"
   },
   {
    "duration": 19,
    "start_time": "2023-07-14T12:49:09.300Z"
   },
   {
    "duration": 9,
    "start_time": "2023-07-14T12:49:09.321Z"
   },
   {
    "duration": 29,
    "start_time": "2023-07-14T12:49:09.331Z"
   },
   {
    "duration": 14,
    "start_time": "2023-07-14T12:49:09.361Z"
   },
   {
    "duration": 18,
    "start_time": "2023-07-14T12:49:09.377Z"
   },
   {
    "duration": 17,
    "start_time": "2023-07-14T12:49:09.397Z"
   },
   {
    "duration": 17,
    "start_time": "2023-07-14T12:49:09.416Z"
   },
   {
    "duration": 33,
    "start_time": "2023-07-14T12:49:09.435Z"
   },
   {
    "duration": 14,
    "start_time": "2023-07-14T12:49:09.470Z"
   },
   {
    "duration": 55327,
    "start_time": "2023-07-14T12:49:09.486Z"
   },
   {
    "duration": 153,
    "start_time": "2023-07-14T12:50:04.816Z"
   },
   {
    "duration": 169,
    "start_time": "2023-07-14T12:50:04.971Z"
   },
   {
    "duration": 27,
    "start_time": "2023-07-14T12:50:05.142Z"
   },
   {
    "duration": 2002,
    "start_time": "2023-07-14T12:50:05.171Z"
   },
   {
    "duration": 393,
    "start_time": "2023-07-14T12:50:07.175Z"
   },
   {
    "duration": 9,
    "start_time": "2023-07-14T12:50:07.570Z"
   },
   {
    "duration": 88,
    "start_time": "2023-07-14T12:50:07.582Z"
   },
   {
    "duration": 91,
    "start_time": "2023-07-14T12:50:07.682Z"
   },
   {
    "duration": 17,
    "start_time": "2023-07-14T12:50:07.775Z"
   },
   {
    "duration": 30,
    "start_time": "2023-07-14T12:50:07.793Z"
   },
   {
    "duration": 5,
    "start_time": "2023-07-14T12:50:07.825Z"
   },
   {
    "duration": 17,
    "start_time": "2023-07-14T12:50:07.831Z"
   },
   {
    "duration": 3,
    "start_time": "2023-07-14T12:50:07.850Z"
   },
   {
    "duration": 6,
    "start_time": "2023-07-14T12:50:07.855Z"
   },
   {
    "duration": 25948,
    "start_time": "2023-07-14T12:50:07.862Z"
   },
   {
    "duration": 31193,
    "start_time": "2023-07-14T12:50:33.812Z"
   },
   {
    "duration": 80,
    "start_time": "2023-07-14T12:51:05.007Z"
   },
   {
    "duration": 129,
    "start_time": "2023-07-14T12:51:05.089Z"
   },
   {
    "duration": 0,
    "start_time": "2023-07-14T12:51:05.220Z"
   },
   {
    "duration": 0,
    "start_time": "2023-07-14T12:51:05.221Z"
   },
   {
    "duration": 0,
    "start_time": "2023-07-14T12:51:05.222Z"
   },
   {
    "duration": 0,
    "start_time": "2023-07-14T12:51:05.223Z"
   },
   {
    "duration": 0,
    "start_time": "2023-07-14T12:51:05.225Z"
   },
   {
    "duration": 0,
    "start_time": "2023-07-14T12:51:05.226Z"
   },
   {
    "duration": 0,
    "start_time": "2023-07-14T12:51:05.227Z"
   },
   {
    "duration": 0,
    "start_time": "2023-07-14T12:51:05.228Z"
   },
   {
    "duration": 0,
    "start_time": "2023-07-14T12:51:05.229Z"
   },
   {
    "duration": 0,
    "start_time": "2023-07-14T12:51:05.230Z"
   },
   {
    "duration": 1,
    "start_time": "2023-07-14T12:51:05.231Z"
   },
   {
    "duration": 0,
    "start_time": "2023-07-14T12:51:05.233Z"
   },
   {
    "duration": 0,
    "start_time": "2023-07-14T12:51:05.234Z"
   },
   {
    "duration": 0,
    "start_time": "2023-07-14T12:51:05.235Z"
   },
   {
    "duration": 1266,
    "start_time": "2023-07-14T12:52:43.272Z"
   },
   {
    "duration": 3,
    "start_time": "2023-07-14T12:52:44.608Z"
   },
   {
    "duration": 116,
    "start_time": "2023-07-14T12:52:45.040Z"
   },
   {
    "duration": 7,
    "start_time": "2023-07-14T12:52:45.472Z"
   },
   {
    "duration": 6,
    "start_time": "2023-07-14T12:52:46.279Z"
   },
   {
    "duration": 5,
    "start_time": "2023-07-14T12:52:47.487Z"
   },
   {
    "duration": 3,
    "start_time": "2023-07-14T12:52:47.872Z"
   },
   {
    "duration": 156,
    "start_time": "2023-07-14T12:52:48.279Z"
   },
   {
    "duration": 14,
    "start_time": "2023-07-14T12:52:49.080Z"
   },
   {
    "duration": 9,
    "start_time": "2023-07-14T12:52:49.480Z"
   },
   {
    "duration": 8,
    "start_time": "2023-07-14T12:52:50.287Z"
   },
   {
    "duration": 16,
    "start_time": "2023-07-14T12:52:50.702Z"
   },
   {
    "duration": 11,
    "start_time": "2023-07-14T12:52:51.506Z"
   },
   {
    "duration": 5,
    "start_time": "2023-07-14T12:52:52.704Z"
   },
   {
    "duration": 4,
    "start_time": "2023-07-14T12:52:54.687Z"
   },
   {
    "duration": 10,
    "start_time": "2023-07-14T12:52:55.111Z"
   },
   {
    "duration": 8,
    "start_time": "2023-07-14T12:52:55.511Z"
   },
   {
    "duration": 4,
    "start_time": "2023-07-14T12:52:55.895Z"
   },
   {
    "duration": 6,
    "start_time": "2023-07-14T12:52:58.463Z"
   },
   {
    "duration": 6,
    "start_time": "2023-07-14T12:52:59.648Z"
   },
   {
    "duration": 15,
    "start_time": "2023-07-14T12:53:00.880Z"
   },
   {
    "duration": 13,
    "start_time": "2023-07-14T12:53:01.706Z"
   },
   {
    "duration": 12,
    "start_time": "2023-07-14T12:53:09.640Z"
   },
   {
    "duration": 11,
    "start_time": "2023-07-14T12:53:11.184Z"
   },
   {
    "duration": 16,
    "start_time": "2023-07-14T12:53:11.976Z"
   },
   {
    "duration": 54921,
    "start_time": "2023-07-14T12:53:13.585Z"
   },
   {
    "duration": 142,
    "start_time": "2023-07-14T12:54:13.384Z"
   },
   {
    "duration": 139,
    "start_time": "2023-07-14T12:54:14.912Z"
   },
   {
    "duration": 20,
    "start_time": "2023-07-14T12:54:15.775Z"
   },
   {
    "duration": 2718,
    "start_time": "2023-07-14T12:54:19.455Z"
   },
   {
    "duration": 373,
    "start_time": "2023-07-14T12:54:24.803Z"
   },
   {
    "duration": 12,
    "start_time": "2023-07-14T12:54:25.753Z"
   },
   {
    "duration": 4,
    "start_time": "2023-07-14T12:54:29.576Z"
   },
   {
    "duration": 10,
    "start_time": "2023-07-14T12:54:31.271Z"
   },
   {
    "duration": 5,
    "start_time": "2023-07-14T12:54:31.815Z"
   },
   {
    "duration": 4,
    "start_time": "2023-07-14T12:54:32.392Z"
   },
   {
    "duration": 4,
    "start_time": "2023-07-14T12:54:35.151Z"
   },
   {
    "duration": 9,
    "start_time": "2023-07-14T12:55:25.215Z"
   },
   {
    "duration": 4,
    "start_time": "2023-07-14T12:55:25.663Z"
   },
   {
    "duration": 4,
    "start_time": "2023-07-14T12:55:26.232Z"
   },
   {
    "duration": 26684,
    "start_time": "2023-07-14T12:55:29.815Z"
   },
   {
    "duration": 168,
    "start_time": "2023-07-14T12:56:06.167Z"
   },
   {
    "duration": 31487,
    "start_time": "2023-07-14T12:56:07.775Z"
   },
   {
    "duration": 71,
    "start_time": "2023-07-14T12:56:39.267Z"
   },
   {
    "duration": 168,
    "start_time": "2023-07-14T12:58:34.134Z"
   },
   {
    "duration": 35,
    "start_time": "2023-07-14T12:59:15.583Z"
   },
   {
    "duration": 6405,
    "start_time": "2023-07-14T12:59:24.870Z"
   },
   {
    "duration": 30,
    "start_time": "2023-07-14T12:59:35.983Z"
   },
   {
    "duration": 3660,
    "start_time": "2023-07-14T12:59:41.814Z"
   },
   {
    "duration": 16,
    "start_time": "2023-07-14T12:59:47.150Z"
   },
   {
    "duration": 150,
    "start_time": "2023-07-14T12:59:53.478Z"
   },
   {
    "duration": 102,
    "start_time": "2023-07-14T12:59:59.174Z"
   },
   {
    "duration": 284,
    "start_time": "2023-07-14T13:00:34.239Z"
   },
   {
    "duration": 17,
    "start_time": "2023-07-14T13:00:38.846Z"
   },
   {
    "duration": 50,
    "start_time": "2023-07-14T13:00:50.526Z"
   },
   {
    "duration": 4617,
    "start_time": "2023-07-14T13:00:52.357Z"
   },
   {
    "duration": 192,
    "start_time": "2023-07-14T13:00:56.977Z"
   },
   {
    "duration": 225,
    "start_time": "2023-07-14T13:01:02.790Z"
   },
   {
    "duration": 3785,
    "start_time": "2023-07-14T13:01:58.486Z"
   },
   {
    "duration": 101,
    "start_time": "2023-07-14T13:02:02.274Z"
   },
   {
    "duration": 140,
    "start_time": "2023-07-14T13:02:05.110Z"
   },
   {
    "duration": 74,
    "start_time": "2023-07-14T13:02:06.594Z"
   },
   {
    "duration": 5,
    "start_time": "2023-07-14T13:02:14.398Z"
   },
   {
    "duration": 4,
    "start_time": "2023-07-14T13:02:15.096Z"
   },
   {
    "duration": 15,
    "start_time": "2023-07-14T13:02:16.437Z"
   },
   {
    "duration": 15,
    "start_time": "2023-07-14T13:02:17.101Z"
   },
   {
    "duration": 13,
    "start_time": "2023-07-14T13:02:21.278Z"
   },
   {
    "duration": 11,
    "start_time": "2023-07-14T13:02:21.973Z"
   },
   {
    "duration": 11,
    "start_time": "2023-07-14T13:02:25.117Z"
   },
   {
    "duration": 252,
    "start_time": "2023-07-14T13:02:26.525Z"
   },
   {
    "duration": 18,
    "start_time": "2023-07-14T13:02:32.892Z"
   },
   {
    "duration": 140,
    "start_time": "2023-07-14T13:02:35.415Z"
   },
   {
    "duration": 5,
    "start_time": "2023-07-14T13:04:05.863Z"
   },
   {
    "duration": 4,
    "start_time": "2023-07-14T13:04:38.621Z"
   },
   {
    "duration": 224,
    "start_time": "2023-07-14T13:05:12.285Z"
   },
   {
    "duration": 248,
    "start_time": "2023-07-14T13:05:15.836Z"
   },
   {
    "duration": 2125,
    "start_time": "2023-07-14T13:06:51.853Z"
   },
   {
    "duration": 1162,
    "start_time": "2023-07-14T13:06:53.981Z"
   },
   {
    "duration": 3,
    "start_time": "2023-07-14T13:06:55.144Z"
   },
   {
    "duration": 138,
    "start_time": "2023-07-14T13:06:55.148Z"
   },
   {
    "duration": 7,
    "start_time": "2023-07-14T13:06:55.287Z"
   },
   {
    "duration": 5,
    "start_time": "2023-07-14T13:06:55.296Z"
   },
   {
    "duration": 4,
    "start_time": "2023-07-14T13:06:55.303Z"
   },
   {
    "duration": 6,
    "start_time": "2023-07-14T13:06:55.308Z"
   },
   {
    "duration": 183,
    "start_time": "2023-07-14T13:06:55.316Z"
   },
   {
    "duration": 13,
    "start_time": "2023-07-14T13:06:55.503Z"
   },
   {
    "duration": 11,
    "start_time": "2023-07-14T13:06:55.517Z"
   },
   {
    "duration": 11,
    "start_time": "2023-07-14T13:06:55.530Z"
   },
   {
    "duration": 27,
    "start_time": "2023-07-14T13:06:55.542Z"
   },
   {
    "duration": 10,
    "start_time": "2023-07-14T13:06:55.571Z"
   },
   {
    "duration": 4,
    "start_time": "2023-07-14T13:06:55.583Z"
   },
   {
    "duration": 5,
    "start_time": "2023-07-14T13:06:55.589Z"
   },
   {
    "duration": 10,
    "start_time": "2023-07-14T13:06:55.595Z"
   },
   {
    "duration": 14,
    "start_time": "2023-07-14T13:06:55.607Z"
   },
   {
    "duration": 23,
    "start_time": "2023-07-14T13:06:55.622Z"
   },
   {
    "duration": 14,
    "start_time": "2023-07-14T13:06:55.646Z"
   },
   {
    "duration": 7,
    "start_time": "2023-07-14T13:06:55.668Z"
   },
   {
    "duration": 18,
    "start_time": "2023-07-14T13:06:55.677Z"
   },
   {
    "duration": 14,
    "start_time": "2023-07-14T13:06:55.697Z"
   },
   {
    "duration": 12,
    "start_time": "2023-07-14T13:06:55.713Z"
   },
   {
    "duration": 16,
    "start_time": "2023-07-14T13:06:55.726Z"
   },
   {
    "duration": 29,
    "start_time": "2023-07-14T13:06:55.744Z"
   },
   {
    "duration": 56264,
    "start_time": "2023-07-14T13:06:55.775Z"
   },
   {
    "duration": 156,
    "start_time": "2023-07-14T13:07:52.043Z"
   },
   {
    "duration": 157,
    "start_time": "2023-07-14T13:07:52.201Z"
   },
   {
    "duration": 22,
    "start_time": "2023-07-14T13:07:52.360Z"
   },
   {
    "duration": 2393,
    "start_time": "2023-07-14T13:07:52.383Z"
   },
   {
    "duration": 388,
    "start_time": "2023-07-14T13:07:54.781Z"
   },
   {
    "duration": 10,
    "start_time": "2023-07-14T13:07:55.171Z"
   },
   {
    "duration": 184,
    "start_time": "2023-07-14T13:07:55.184Z"
   },
   {
    "duration": 9,
    "start_time": "2023-07-14T13:07:55.370Z"
   },
   {
    "duration": 5,
    "start_time": "2023-07-14T13:07:55.381Z"
   },
   {
    "duration": 5,
    "start_time": "2023-07-14T13:07:55.388Z"
   },
   {
    "duration": 9,
    "start_time": "2023-07-14T13:07:55.395Z"
   },
   {
    "duration": 11,
    "start_time": "2023-07-14T13:07:55.406Z"
   },
   {
    "duration": 10,
    "start_time": "2023-07-14T13:07:55.418Z"
   },
   {
    "duration": 12,
    "start_time": "2023-07-14T13:07:55.429Z"
   },
   {
    "duration": 26224,
    "start_time": "2023-07-14T13:07:55.442Z"
   },
   {
    "duration": 166,
    "start_time": "2023-07-14T13:08:21.667Z"
   },
   {
    "duration": 31114,
    "start_time": "2023-07-14T13:08:21.835Z"
   },
   {
    "duration": 68,
    "start_time": "2023-07-14T13:08:52.951Z"
   },
   {
    "duration": 250,
    "start_time": "2023-07-14T13:08:53.021Z"
   },
   {
    "duration": 32,
    "start_time": "2023-07-14T13:08:53.273Z"
   },
   {
    "duration": 6371,
    "start_time": "2023-07-14T13:08:53.307Z"
   },
   {
    "duration": 118,
    "start_time": "2023-07-14T13:08:59.775Z"
   },
   {
    "duration": 3300,
    "start_time": "2023-07-14T13:08:59.969Z"
   },
   {
    "duration": 102,
    "start_time": "2023-07-14T13:09:03.271Z"
   },
   {
    "duration": 334,
    "start_time": "2023-07-14T13:09:03.375Z"
   },
   {
    "duration": 166,
    "start_time": "2023-07-14T13:09:03.712Z"
   },
   {
    "duration": 100,
    "start_time": "2023-07-14T13:09:03.881Z"
   },
   {
    "duration": 12,
    "start_time": "2023-07-14T13:09:03.988Z"
   },
   {
    "duration": 77,
    "start_time": "2023-07-14T13:09:04.003Z"
   },
   {
    "duration": 21,
    "start_time": "2023-07-14T13:09:04.082Z"
   },
   {
    "duration": 15,
    "start_time": "2023-07-14T13:09:04.106Z"
   },
   {
    "duration": 14,
    "start_time": "2023-07-14T13:09:04.124Z"
   },
   {
    "duration": 38,
    "start_time": "2023-07-14T13:09:04.140Z"
   },
   {
    "duration": 6,
    "start_time": "2023-07-14T13:09:04.180Z"
   },
   {
    "duration": 9,
    "start_time": "2023-07-14T13:09:04.188Z"
   },
   {
    "duration": 388,
    "start_time": "2023-07-14T13:09:04.199Z"
   },
   {
    "duration": 21,
    "start_time": "2023-07-14T13:09:04.669Z"
   },
   {
    "duration": 179,
    "start_time": "2023-07-14T13:09:04.692Z"
   },
   {
    "duration": 7,
    "start_time": "2023-07-14T13:09:04.873Z"
   },
   {
    "duration": 225,
    "start_time": "2023-07-14T13:11:47.350Z"
   },
   {
    "duration": 14,
    "start_time": "2023-07-14T13:13:07.029Z"
   },
   {
    "duration": 150,
    "start_time": "2023-07-14T13:20:19.834Z"
   },
   {
    "duration": 139,
    "start_time": "2023-07-14T13:20:25.105Z"
   },
   {
    "duration": 27,
    "start_time": "2023-07-14T13:30:41.225Z"
   },
   {
    "duration": 33,
    "start_time": "2023-07-14T13:31:36.986Z"
   },
   {
    "duration": 18,
    "start_time": "2023-07-14T13:32:08.023Z"
   },
   {
    "duration": 163,
    "start_time": "2023-07-14T13:32:28.439Z"
   },
   {
    "duration": 96,
    "start_time": "2023-07-14T13:32:47.675Z"
   },
   {
    "duration": 6,
    "start_time": "2023-07-14T13:33:29.284Z"
   },
   {
    "duration": 29,
    "start_time": "2023-07-14T13:35:16.838Z"
   },
   {
    "duration": 91,
    "start_time": "2023-07-14T13:35:23.080Z"
   },
   {
    "duration": 8,
    "start_time": "2023-07-14T13:35:29.622Z"
   },
   {
    "duration": 200,
    "start_time": "2023-07-14T13:35:46.088Z"
   },
   {
    "duration": 214,
    "start_time": "2023-07-14T13:36:25.797Z"
   },
   {
    "duration": 254,
    "start_time": "2023-07-14T14:27:38.019Z"
   },
   {
    "duration": 15,
    "start_time": "2023-07-14T14:29:32.524Z"
   },
   {
    "duration": 14,
    "start_time": "2023-07-14T14:29:52.516Z"
   },
   {
    "duration": 16,
    "start_time": "2023-07-14T14:30:15.604Z"
   },
   {
    "duration": 4,
    "start_time": "2023-07-14T14:31:10.940Z"
   },
   {
    "duration": 5,
    "start_time": "2023-07-14T14:31:30.573Z"
   },
   {
    "duration": 12,
    "start_time": "2023-07-14T14:31:47.388Z"
   },
   {
    "duration": 3,
    "start_time": "2023-07-14T14:31:47.997Z"
   },
   {
    "duration": 5,
    "start_time": "2023-07-14T14:31:48.557Z"
   },
   {
    "duration": 364,
    "start_time": "2023-07-14T14:31:49.613Z"
   },
   {
    "duration": 17,
    "start_time": "2023-07-14T14:31:50.405Z"
   },
   {
    "duration": 143,
    "start_time": "2023-07-14T14:31:52.158Z"
   },
   {
    "duration": 260,
    "start_time": "2023-07-14T14:32:14.983Z"
   },
   {
    "duration": 6,
    "start_time": "2023-07-14T14:33:33.512Z"
   },
   {
    "duration": 6,
    "start_time": "2023-07-14T14:38:55.440Z"
   },
   {
    "duration": 12371,
    "start_time": "2023-07-14T18:32:56.401Z"
   },
   {
    "duration": 2296,
    "start_time": "2023-07-14T18:33:08.774Z"
   },
   {
    "duration": 4,
    "start_time": "2023-07-14T18:33:11.072Z"
   },
   {
    "duration": 314,
    "start_time": "2023-07-14T18:33:11.078Z"
   },
   {
    "duration": 66,
    "start_time": "2023-07-14T18:33:11.394Z"
   },
   {
    "duration": 9,
    "start_time": "2023-07-14T18:33:11.462Z"
   },
   {
    "duration": 132,
    "start_time": "2023-07-14T18:33:11.473Z"
   },
   {
    "duration": 154,
    "start_time": "2023-07-14T18:33:11.607Z"
   },
   {
    "duration": 434,
    "start_time": "2023-07-14T18:33:11.764Z"
   },
   {
    "duration": 70,
    "start_time": "2023-07-14T18:33:12.201Z"
   },
   {
    "duration": 13,
    "start_time": "2023-07-14T18:33:12.273Z"
   },
   {
    "duration": 72,
    "start_time": "2023-07-14T18:33:12.288Z"
   },
   {
    "duration": 18,
    "start_time": "2023-07-14T18:33:12.362Z"
   },
   {
    "duration": 15,
    "start_time": "2023-07-14T18:33:12.382Z"
   },
   {
    "duration": 6,
    "start_time": "2023-07-14T18:33:12.458Z"
   },
   {
    "duration": 7,
    "start_time": "2023-07-14T18:33:12.466Z"
   },
   {
    "duration": 9,
    "start_time": "2023-07-14T18:33:12.475Z"
   },
   {
    "duration": 8,
    "start_time": "2023-07-14T18:33:12.486Z"
   },
   {
    "duration": 5,
    "start_time": "2023-07-14T18:33:12.556Z"
   },
   {
    "duration": 9,
    "start_time": "2023-07-14T18:33:12.563Z"
   },
   {
    "duration": 14,
    "start_time": "2023-07-14T18:33:12.574Z"
   },
   {
    "duration": 78,
    "start_time": "2023-07-14T18:33:12.590Z"
   },
   {
    "duration": 14,
    "start_time": "2023-07-14T18:33:12.670Z"
   },
   {
    "duration": 72,
    "start_time": "2023-07-14T18:33:12.686Z"
   },
   {
    "duration": 11,
    "start_time": "2023-07-14T18:33:12.760Z"
   },
   {
    "duration": 12,
    "start_time": "2023-07-14T18:33:12.773Z"
   },
   {
    "duration": 105500,
    "start_time": "2023-07-14T18:33:12.787Z"
   },
   {
    "duration": 172,
    "start_time": "2023-07-14T18:34:58.291Z"
   },
   {
    "duration": 178,
    "start_time": "2023-07-14T18:34:58.465Z"
   },
   {
    "duration": 33,
    "start_time": "2023-07-14T18:34:58.645Z"
   },
   {
    "duration": 1986,
    "start_time": "2023-07-14T18:34:58.680Z"
   },
   {
    "duration": 402,
    "start_time": "2023-07-14T18:35:00.668Z"
   },
   {
    "duration": 90,
    "start_time": "2023-07-14T18:35:01.072Z"
   },
   {
    "duration": 193,
    "start_time": "2023-07-14T18:35:01.165Z"
   },
   {
    "duration": 75,
    "start_time": "2023-07-14T18:35:01.360Z"
   },
   {
    "duration": 60,
    "start_time": "2023-07-14T18:35:01.437Z"
   },
   {
    "duration": 38,
    "start_time": "2023-07-14T18:35:01.499Z"
   },
   {
    "duration": 36,
    "start_time": "2023-07-14T18:35:01.539Z"
   },
   {
    "duration": 53,
    "start_time": "2023-07-14T18:35:01.577Z"
   },
   {
    "duration": 25,
    "start_time": "2023-07-14T18:35:01.631Z"
   },
   {
    "duration": 43,
    "start_time": "2023-07-14T18:35:01.657Z"
   },
   {
    "duration": 29793,
    "start_time": "2023-07-14T18:35:01.702Z"
   },
   {
    "duration": 167,
    "start_time": "2023-07-14T18:35:31.497Z"
   },
   {
    "duration": 38532,
    "start_time": "2023-07-14T18:35:31.667Z"
   },
   {
    "duration": 73,
    "start_time": "2023-07-14T18:36:10.201Z"
   },
   {
    "duration": 493,
    "start_time": "2023-07-14T18:36:10.276Z"
   },
   {
    "duration": 28,
    "start_time": "2023-07-14T18:36:10.770Z"
   },
   {
    "duration": 5268,
    "start_time": "2023-07-14T18:36:10.800Z"
   },
   {
    "duration": 117,
    "start_time": "2023-07-14T18:36:16.158Z"
   },
   {
    "duration": 3087,
    "start_time": "2023-07-14T18:36:16.277Z"
   },
   {
    "duration": 192,
    "start_time": "2023-07-14T18:36:19.367Z"
   },
   {
    "duration": 404,
    "start_time": "2023-07-14T18:36:19.561Z"
   },
   {
    "duration": 15,
    "start_time": "2023-07-14T18:36:19.967Z"
   },
   {
    "duration": 5,
    "start_time": "2023-07-14T18:36:20.057Z"
   },
   {
    "duration": 95,
    "start_time": "2023-07-14T18:36:20.064Z"
   },
   {
    "duration": 38,
    "start_time": "2023-07-14T18:36:20.161Z"
   },
   {
    "duration": 67,
    "start_time": "2023-07-14T18:36:20.201Z"
   },
   {
    "duration": 15,
    "start_time": "2023-07-14T18:36:20.270Z"
   },
   {
    "duration": 13,
    "start_time": "2023-07-14T18:36:20.287Z"
   },
   {
    "duration": 4,
    "start_time": "2023-07-14T18:36:20.301Z"
   },
   {
    "duration": 5,
    "start_time": "2023-07-14T18:36:20.357Z"
   },
   {
    "duration": 16,
    "start_time": "2023-07-14T18:36:20.363Z"
   },
   {
    "duration": 4,
    "start_time": "2023-07-14T18:36:20.380Z"
   },
   {
    "duration": 4,
    "start_time": "2023-07-14T18:36:20.385Z"
   },
   {
    "duration": 230,
    "start_time": "2023-07-14T18:36:20.391Z"
   },
   {
    "duration": 42,
    "start_time": "2023-07-14T18:36:20.622Z"
   },
   {
    "duration": 151,
    "start_time": "2023-07-14T18:36:20.666Z"
   },
   {
    "duration": 7,
    "start_time": "2023-07-14T18:36:20.819Z"
   },
   {
    "duration": 117,
    "start_time": "2023-07-14T18:36:20.827Z"
   }
  ],
  "kernelspec": {
   "display_name": "Python 3 (ipykernel)",
   "language": "python",
   "name": "python3"
  },
  "language_info": {
   "codemirror_mode": {
    "name": "ipython",
    "version": 3
   },
   "file_extension": ".py",
   "mimetype": "text/x-python",
   "name": "python",
   "nbconvert_exporter": "python",
   "pygments_lexer": "ipython3",
   "version": "3.9.5"
  },
  "toc": {
   "base_numbering": 1,
   "nav_menu": {},
   "number_sections": true,
   "sideBar": true,
   "skip_h1_title": true,
   "title_cell": "Содержание",
   "title_sidebar": "Contents",
   "toc_cell": true,
   "toc_position": {
    "height": "calc(100% - 180px)",
    "left": "10px",
    "top": "150px",
    "width": "336.179px"
   },
   "toc_section_display": true,
   "toc_window_display": false
  }
 },
 "nbformat": 4,
 "nbformat_minor": 2
}
